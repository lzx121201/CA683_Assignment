{
  "nbformat": 4,
  "nbformat_minor": 0,
  "metadata": {
    "colab": {
      "name": "CA683 Assignment - Logistic Regression.ipynb",
      "provenance": [],
      "toc_visible": true
    },
    "kernelspec": {
      "name": "python3",
      "display_name": "Python 3"
    }
  },
  "cells": [
    {
      "cell_type": "code",
      "metadata": {
        "id": "3C0987TTkHfG"
      },
      "source": [
        "import pandas as pd\n",
        "from matplotlib import pyplot as plt\n",
        "from wordcloud import WordCloud, STOPWORDS\n",
        "import numpy as np\n",
        "from sklearn.feature_extraction.text import TfidfVectorizer\n",
        "from sklearn.feature_extraction.text import CountVectorizer\n",
        "from sklearn.model_selection import GridSearchCV\n",
        "from sklearn.linear_model import LogisticRegression\n",
        "from sklearn.pipeline import Pipeline\n",
        "from sklearn.model_selection import train_test_split\n",
        "from sklearn.metrics import accuracy_score, confusion_matrix, classification_report\n",
        "import seaborn as sns\n",
        "import tqdm\n",
        "from nltk.corpus import stopwords\n",
        "from nltk.stem import WordNetLemmatizer\n",
        "from nltk.stem.porter import PorterStemmer\n",
        "import nltk"
      ],
      "execution_count": null,
      "outputs": []
    },
    {
      "cell_type": "markdown",
      "metadata": {
        "id": "Y2DyBN_-hMUg"
      },
      "source": [
        "# Exploratory Analysis\n",
        "\n"
      ]
    },
    {
      "cell_type": "code",
      "metadata": {
        "id": "H8IxmsZnlufh",
        "colab": {
          "base_uri": "https://localhost:8080/",
          "height": 340
        },
        "outputId": "31d9dc2f-305e-4547-e31e-37367bcd7f6b"
      },
      "source": [
        "header = pd.read_csv('/content/drive/MyDrive/CA683/Copy of key.csv',sep='\\t',header=None).transpose()[0].tolist()\n",
        "test = pd.read_csv('/content/drive/MyDrive/CA683/Copy of test-balanced.csv',sep='\\t',names = header)\n",
        "train = pd.read_csv('/content/drive/MyDrive/CA683/Copy of train-balanced.csv',sep='\\t',names = header)\n",
        "data = pd.concat([train,test])\n",
        "data.head()"
      ],
      "execution_count": null,
      "outputs": [
        {
          "output_type": "execute_result",
          "data": {
            "text/html": [
              "<div>\n",
              "<style scoped>\n",
              "    .dataframe tbody tr th:only-of-type {\n",
              "        vertical-align: middle;\n",
              "    }\n",
              "\n",
              "    .dataframe tbody tr th {\n",
              "        vertical-align: top;\n",
              "    }\n",
              "\n",
              "    .dataframe thead th {\n",
              "        text-align: right;\n",
              "    }\n",
              "</style>\n",
              "<table border=\"1\" class=\"dataframe\">\n",
              "  <thead>\n",
              "    <tr style=\"text-align: right;\">\n",
              "      <th></th>\n",
              "      <th>label</th>\n",
              "      <th>comment</th>\n",
              "      <th>author</th>\n",
              "      <th>subreddit</th>\n",
              "      <th>score</th>\n",
              "      <th>ups</th>\n",
              "      <th>downs</th>\n",
              "      <th>date</th>\n",
              "      <th>created_utc</th>\n",
              "      <th>parent_comment</th>\n",
              "    </tr>\n",
              "  </thead>\n",
              "  <tbody>\n",
              "    <tr>\n",
              "      <th>0</th>\n",
              "      <td>0</td>\n",
              "      <td>NC and NH.</td>\n",
              "      <td>Trumpbart</td>\n",
              "      <td>politics</td>\n",
              "      <td>2</td>\n",
              "      <td>-1</td>\n",
              "      <td>-1</td>\n",
              "      <td>2016-10</td>\n",
              "      <td>1476662123</td>\n",
              "      <td>Yeah, I get that argument. At this point, I'd ...</td>\n",
              "    </tr>\n",
              "    <tr>\n",
              "      <th>1</th>\n",
              "      <td>0</td>\n",
              "      <td>You do know west teams play against west teams...</td>\n",
              "      <td>Shbshb906</td>\n",
              "      <td>nba</td>\n",
              "      <td>-4</td>\n",
              "      <td>-1</td>\n",
              "      <td>-1</td>\n",
              "      <td>2016-11</td>\n",
              "      <td>1477959850</td>\n",
              "      <td>The blazers and Mavericks (The wests 5 and 6 s...</td>\n",
              "    </tr>\n",
              "    <tr>\n",
              "      <th>2</th>\n",
              "      <td>0</td>\n",
              "      <td>They were underdogs earlier today, but since G...</td>\n",
              "      <td>Creepeth</td>\n",
              "      <td>nfl</td>\n",
              "      <td>3</td>\n",
              "      <td>3</td>\n",
              "      <td>0</td>\n",
              "      <td>2016-09</td>\n",
              "      <td>1474580737</td>\n",
              "      <td>They're favored to win.</td>\n",
              "    </tr>\n",
              "    <tr>\n",
              "      <th>3</th>\n",
              "      <td>0</td>\n",
              "      <td>This meme isn't funny none of the \"new york ni...</td>\n",
              "      <td>icebrotha</td>\n",
              "      <td>BlackPeopleTwitter</td>\n",
              "      <td>-8</td>\n",
              "      <td>-1</td>\n",
              "      <td>-1</td>\n",
              "      <td>2016-10</td>\n",
              "      <td>1476824627</td>\n",
              "      <td>deadass don't kill my buzz</td>\n",
              "    </tr>\n",
              "    <tr>\n",
              "      <th>4</th>\n",
              "      <td>0</td>\n",
              "      <td>I could use one of those tools.</td>\n",
              "      <td>cush2push</td>\n",
              "      <td>MaddenUltimateTeam</td>\n",
              "      <td>6</td>\n",
              "      <td>-1</td>\n",
              "      <td>-1</td>\n",
              "      <td>2016-12</td>\n",
              "      <td>1483117213</td>\n",
              "      <td>Yep can confirm I saw the tool they use for th...</td>\n",
              "    </tr>\n",
              "  </tbody>\n",
              "</table>\n",
              "</div>"
            ],
            "text/plain": [
              "   label  ...                                     parent_comment\n",
              "0      0  ...  Yeah, I get that argument. At this point, I'd ...\n",
              "1      0  ...  The blazers and Mavericks (The wests 5 and 6 s...\n",
              "2      0  ...                            They're favored to win.\n",
              "3      0  ...                         deadass don't kill my buzz\n",
              "4      0  ...  Yep can confirm I saw the tool they use for th...\n",
              "\n",
              "[5 rows x 10 columns]"
            ]
          },
          "metadata": {
            "tags": []
          },
          "execution_count": 2
        }
      ]
    },
    {
      "cell_type": "code",
      "metadata": {
        "colab": {
          "base_uri": "https://localhost:8080/",
          "height": 419
        },
        "id": "dL7I8IxDbBcL",
        "outputId": "132c92f2-c49a-4d3f-83d5-e3fbebe88d04"
      },
      "source": [
        "data.reset_index(drop=True)"
      ],
      "execution_count": null,
      "outputs": [
        {
          "output_type": "execute_result",
          "data": {
            "text/html": [
              "<div>\n",
              "<style scoped>\n",
              "    .dataframe tbody tr th:only-of-type {\n",
              "        vertical-align: middle;\n",
              "    }\n",
              "\n",
              "    .dataframe tbody tr th {\n",
              "        vertical-align: top;\n",
              "    }\n",
              "\n",
              "    .dataframe thead th {\n",
              "        text-align: right;\n",
              "    }\n",
              "</style>\n",
              "<table border=\"1\" class=\"dataframe\">\n",
              "  <thead>\n",
              "    <tr style=\"text-align: right;\">\n",
              "      <th></th>\n",
              "      <th>label</th>\n",
              "      <th>comment</th>\n",
              "      <th>author</th>\n",
              "      <th>subreddit</th>\n",
              "      <th>score</th>\n",
              "      <th>ups</th>\n",
              "      <th>downs</th>\n",
              "      <th>date</th>\n",
              "      <th>created_utc</th>\n",
              "      <th>parent_comment</th>\n",
              "    </tr>\n",
              "  </thead>\n",
              "  <tbody>\n",
              "    <tr>\n",
              "      <th>0</th>\n",
              "      <td>0</td>\n",
              "      <td>NC and NH.</td>\n",
              "      <td>Trumpbart</td>\n",
              "      <td>politics</td>\n",
              "      <td>2</td>\n",
              "      <td>-1</td>\n",
              "      <td>-1</td>\n",
              "      <td>2016-10</td>\n",
              "      <td>1476662123</td>\n",
              "      <td>Yeah, I get that argument. At this point, I'd ...</td>\n",
              "    </tr>\n",
              "    <tr>\n",
              "      <th>1</th>\n",
              "      <td>0</td>\n",
              "      <td>You do know west teams play against west teams...</td>\n",
              "      <td>Shbshb906</td>\n",
              "      <td>nba</td>\n",
              "      <td>-4</td>\n",
              "      <td>-1</td>\n",
              "      <td>-1</td>\n",
              "      <td>2016-11</td>\n",
              "      <td>1477959850</td>\n",
              "      <td>The blazers and Mavericks (The wests 5 and 6 s...</td>\n",
              "    </tr>\n",
              "    <tr>\n",
              "      <th>2</th>\n",
              "      <td>0</td>\n",
              "      <td>They were underdogs earlier today, but since G...</td>\n",
              "      <td>Creepeth</td>\n",
              "      <td>nfl</td>\n",
              "      <td>3</td>\n",
              "      <td>3</td>\n",
              "      <td>0</td>\n",
              "      <td>2016-09</td>\n",
              "      <td>1474580737</td>\n",
              "      <td>They're favored to win.</td>\n",
              "    </tr>\n",
              "    <tr>\n",
              "      <th>3</th>\n",
              "      <td>0</td>\n",
              "      <td>This meme isn't funny none of the \"new york ni...</td>\n",
              "      <td>icebrotha</td>\n",
              "      <td>BlackPeopleTwitter</td>\n",
              "      <td>-8</td>\n",
              "      <td>-1</td>\n",
              "      <td>-1</td>\n",
              "      <td>2016-10</td>\n",
              "      <td>1476824627</td>\n",
              "      <td>deadass don't kill my buzz</td>\n",
              "    </tr>\n",
              "    <tr>\n",
              "      <th>4</th>\n",
              "      <td>0</td>\n",
              "      <td>I could use one of those tools.</td>\n",
              "      <td>cush2push</td>\n",
              "      <td>MaddenUltimateTeam</td>\n",
              "      <td>6</td>\n",
              "      <td>-1</td>\n",
              "      <td>-1</td>\n",
              "      <td>2016-12</td>\n",
              "      <td>1483117213</td>\n",
              "      <td>Yep can confirm I saw the tool they use for th...</td>\n",
              "    </tr>\n",
              "    <tr>\n",
              "      <th>...</th>\n",
              "      <td>...</td>\n",
              "      <td>...</td>\n",
              "      <td>...</td>\n",
              "      <td>...</td>\n",
              "      <td>...</td>\n",
              "      <td>...</td>\n",
              "      <td>...</td>\n",
              "      <td>...</td>\n",
              "      <td>...</td>\n",
              "      <td>...</td>\n",
              "    </tr>\n",
              "    <tr>\n",
              "      <th>1262429</th>\n",
              "      <td>1</td>\n",
              "      <td>Respect your elders you little snot.</td>\n",
              "      <td>Tiffany_Butler</td>\n",
              "      <td>sports</td>\n",
              "      <td>7</td>\n",
              "      <td>7</td>\n",
              "      <td>0</td>\n",
              "      <td>2009-06</td>\n",
              "      <td>1245445833</td>\n",
              "      <td>Aren't you a little old to be on the internet,...</td>\n",
              "    </tr>\n",
              "    <tr>\n",
              "      <th>1262430</th>\n",
              "      <td>1</td>\n",
              "      <td>I'm just glad they won't be using taxpayer mon...</td>\n",
              "      <td>harryballsagna</td>\n",
              "      <td>canada</td>\n",
              "      <td>8</td>\n",
              "      <td>8</td>\n",
              "      <td>0</td>\n",
              "      <td>2009-06</td>\n",
              "      <td>1246140814</td>\n",
              "      <td>\"I'm sorry, I can't hear you over the sound of...</td>\n",
              "    </tr>\n",
              "    <tr>\n",
              "      <th>1262431</th>\n",
              "      <td>1</td>\n",
              "      <td>what.. with this awesome narration?</td>\n",
              "      <td>aberant</td>\n",
              "      <td>lost</td>\n",
              "      <td>4</td>\n",
              "      <td>4</td>\n",
              "      <td>0</td>\n",
              "      <td>2009-04</td>\n",
              "      <td>1240452084</td>\n",
              "      <td>So far, so lame.</td>\n",
              "    </tr>\n",
              "    <tr>\n",
              "      <th>1262432</th>\n",
              "      <td>1</td>\n",
              "      <td>He looks trustworthy.</td>\n",
              "      <td>permaculture</td>\n",
              "      <td>unitedkingdom</td>\n",
              "      <td>1</td>\n",
              "      <td>1</td>\n",
              "      <td>0</td>\n",
              "      <td>2009-01</td>\n",
              "      <td>1231343418</td>\n",
              "      <td>\"I don't care\" says Lapland boss</td>\n",
              "    </tr>\n",
              "    <tr>\n",
              "      <th>1262433</th>\n",
              "      <td>1</td>\n",
              "      <td>Well yeah, but it'll work this time.</td>\n",
              "      <td>SovereignMan</td>\n",
              "      <td>politics</td>\n",
              "      <td>1</td>\n",
              "      <td>1</td>\n",
              "      <td>0</td>\n",
              "      <td>2009-02</td>\n",
              "      <td>1235780770</td>\n",
              "      <td>When their efforts failed, as they usually did...</td>\n",
              "    </tr>\n",
              "  </tbody>\n",
              "</table>\n",
              "<p>1262434 rows × 10 columns</p>\n",
              "</div>"
            ],
            "text/plain": [
              "         label  ...                                     parent_comment\n",
              "0            0  ...  Yeah, I get that argument. At this point, I'd ...\n",
              "1            0  ...  The blazers and Mavericks (The wests 5 and 6 s...\n",
              "2            0  ...                            They're favored to win.\n",
              "3            0  ...                         deadass don't kill my buzz\n",
              "4            0  ...  Yep can confirm I saw the tool they use for th...\n",
              "...        ...  ...                                                ...\n",
              "1262429      1  ...  Aren't you a little old to be on the internet,...\n",
              "1262430      1  ...  \"I'm sorry, I can't hear you over the sound of...\n",
              "1262431      1  ...                                   So far, so lame.\n",
              "1262432      1  ...                   \"I don't care\" says Lapland boss\n",
              "1262433      1  ...  When their efforts failed, as they usually did...\n",
              "\n",
              "[1262434 rows x 10 columns]"
            ]
          },
          "metadata": {
            "tags": []
          },
          "execution_count": 137
        }
      ]
    },
    {
      "cell_type": "code",
      "metadata": {
        "colab": {
          "base_uri": "https://localhost:8080/"
        },
        "id": "4a12-neZT2Ey",
        "outputId": "bb32743d-bd88-444e-cd16-544bdde0032a"
      },
      "source": [
        "train.shape"
      ],
      "execution_count": null,
      "outputs": [
        {
          "output_type": "execute_result",
          "data": {
            "text/plain": [
              "(1010773, 10)"
            ]
          },
          "metadata": {
            "tags": []
          },
          "execution_count": 91
        }
      ]
    },
    {
      "cell_type": "code",
      "metadata": {
        "colab": {
          "base_uri": "https://localhost:8080/"
        },
        "id": "V9jV-d1CT8EK",
        "outputId": "5f30165d-fbcf-4f63-ce98-7712f792d6bf"
      },
      "source": [
        "test.shape"
      ],
      "execution_count": null,
      "outputs": [
        {
          "output_type": "execute_result",
          "data": {
            "text/plain": [
              "(251594, 10)"
            ]
          },
          "metadata": {
            "tags": []
          },
          "execution_count": 92
        }
      ]
    },
    {
      "cell_type": "markdown",
      "metadata": {
        "id": "fs-qLBbqFu2B"
      },
      "source": [
        "Check class balance betweem sarcastic and neutural comments"
      ]
    },
    {
      "cell_type": "code",
      "metadata": {
        "colab": {
          "base_uri": "https://localhost:8080/"
        },
        "id": "0e-qRrzCUhr5",
        "outputId": "af9dc046-5ca8-42df-eea6-bd3ac98781a6"
      },
      "source": [
        "train['label'].value_counts()"
      ],
      "execution_count": null,
      "outputs": [
        {
          "output_type": "execute_result",
          "data": {
            "text/plain": [
              "0    505405\n",
              "1    505368\n",
              "Name: label, dtype: int64"
            ]
          },
          "metadata": {
            "tags": []
          },
          "execution_count": 98
        }
      ]
    },
    {
      "cell_type": "code",
      "metadata": {
        "colab": {
          "base_uri": "https://localhost:8080/"
        },
        "id": "SMyjxx0hVPxo",
        "outputId": "122869ae-6d25-4278-e32b-cae01fa5f1e2"
      },
      "source": [
        "test['label'].value_counts()"
      ],
      "execution_count": null,
      "outputs": [
        {
          "output_type": "execute_result",
          "data": {
            "text/plain": [
              "0    125799\n",
              "1    125795\n",
              "Name: label, dtype: int64"
            ]
          },
          "metadata": {
            "tags": []
          },
          "execution_count": 99
        }
      ]
    },
    {
      "cell_type": "code",
      "metadata": {
        "colab": {
          "base_uri": "https://localhost:8080/"
        },
        "id": "TGo5yamDfxXV",
        "outputId": "a2c5a456-a020-48ab-f7db-2706a6bfa920"
      },
      "source": [
        "data.isnull().sum()"
      ],
      "execution_count": null,
      "outputs": [
        {
          "output_type": "execute_result",
          "data": {
            "text/plain": [
              "label              0\n",
              "comment           67\n",
              "author             0\n",
              "subreddit          0\n",
              "score              0\n",
              "ups                0\n",
              "downs              0\n",
              "date               0\n",
              "created_utc        0\n",
              "parent_comment     0\n",
              "dtype: int64"
            ]
          },
          "metadata": {
            "tags": []
          },
          "execution_count": 142
        }
      ]
    },
    {
      "cell_type": "code",
      "metadata": {
        "colab": {
          "base_uri": "https://localhost:8080/",
          "height": 419
        },
        "id": "bycnQFjngMIQ",
        "outputId": "26c2c0b3-50e5-4782-ebdd-5bdb8a381487"
      },
      "source": [
        "data.loc[data['comment'].isnull() == True]"
      ],
      "execution_count": null,
      "outputs": [
        {
          "output_type": "execute_result",
          "data": {
            "text/html": [
              "<div>\n",
              "<style scoped>\n",
              "    .dataframe tbody tr th:only-of-type {\n",
              "        vertical-align: middle;\n",
              "    }\n",
              "\n",
              "    .dataframe tbody tr th {\n",
              "        vertical-align: top;\n",
              "    }\n",
              "\n",
              "    .dataframe thead th {\n",
              "        text-align: right;\n",
              "    }\n",
              "</style>\n",
              "<table border=\"1\" class=\"dataframe\">\n",
              "  <thead>\n",
              "    <tr style=\"text-align: right;\">\n",
              "      <th></th>\n",
              "      <th>label</th>\n",
              "      <th>comment</th>\n",
              "      <th>author</th>\n",
              "      <th>subreddit</th>\n",
              "      <th>score</th>\n",
              "      <th>ups</th>\n",
              "      <th>downs</th>\n",
              "      <th>date</th>\n",
              "      <th>created_utc</th>\n",
              "      <th>parent_comment</th>\n",
              "    </tr>\n",
              "  </thead>\n",
              "  <tbody>\n",
              "    <tr>\n",
              "      <th>56269</th>\n",
              "      <td>1</td>\n",
              "      <td>NaN</td>\n",
              "      <td>SodokuIRL</td>\n",
              "      <td>leagueoflegends</td>\n",
              "      <td>1</td>\n",
              "      <td>1</td>\n",
              "      <td>0</td>\n",
              "      <td>2016-09</td>\n",
              "      <td>1475050984</td>\n",
              "      <td>LPL shitshow, EU LCS shitshow. What isn't a sh...</td>\n",
              "    </tr>\n",
              "    <tr>\n",
              "      <th>68590</th>\n",
              "      <td>1</td>\n",
              "      <td>NaN</td>\n",
              "      <td>TossTheDog</td>\n",
              "      <td>westchesterpa</td>\n",
              "      <td>1</td>\n",
              "      <td>-1</td>\n",
              "      <td>-1</td>\n",
              "      <td>2016-10</td>\n",
              "      <td>1476217552</td>\n",
              "      <td>Car fires smell delicious to you? You should p...</td>\n",
              "    </tr>\n",
              "    <tr>\n",
              "      <th>135348</th>\n",
              "      <td>0</td>\n",
              "      <td>NaN</td>\n",
              "      <td>So12rovv</td>\n",
              "      <td>R6STeams</td>\n",
              "      <td>1</td>\n",
              "      <td>-1</td>\n",
              "      <td>-1</td>\n",
              "      <td>2016-12</td>\n",
              "      <td>1482427445</td>\n",
              "      <td>Will do. EU or NA?</td>\n",
              "    </tr>\n",
              "    <tr>\n",
              "      <th>199910</th>\n",
              "      <td>0</td>\n",
              "      <td>NaN</td>\n",
              "      <td>Khvostov_7g-02</td>\n",
              "      <td>tf2</td>\n",
              "      <td>1</td>\n",
              "      <td>1</td>\n",
              "      <td>0</td>\n",
              "      <td>2016-05</td>\n",
              "      <td>1463377603</td>\n",
              "      <td>woah, thanks.</td>\n",
              "    </tr>\n",
              "    <tr>\n",
              "      <th>258718</th>\n",
              "      <td>1</td>\n",
              "      <td>NaN</td>\n",
              "      <td>PeaceLovePositivity</td>\n",
              "      <td>vaporents</td>\n",
              "      <td>5</td>\n",
              "      <td>5</td>\n",
              "      <td>0</td>\n",
              "      <td>2016-06</td>\n",
              "      <td>1466627831</td>\n",
              "      <td>No, doing drugs while forming a fetus (your ki...</td>\n",
              "    </tr>\n",
              "    <tr>\n",
              "      <th>...</th>\n",
              "      <td>...</td>\n",
              "      <td>...</td>\n",
              "      <td>...</td>\n",
              "      <td>...</td>\n",
              "      <td>...</td>\n",
              "      <td>...</td>\n",
              "      <td>...</td>\n",
              "      <td>...</td>\n",
              "      <td>...</td>\n",
              "      <td>...</td>\n",
              "    </tr>\n",
              "    <tr>\n",
              "      <th>192810</th>\n",
              "      <td>1</td>\n",
              "      <td>NaN</td>\n",
              "      <td>doppelwurzel</td>\n",
              "      <td>funny</td>\n",
              "      <td>1</td>\n",
              "      <td>1</td>\n",
              "      <td>0</td>\n",
              "      <td>2015-05</td>\n",
              "      <td>1432681571</td>\n",
              "      <td>Colorblind maybe? I dunno. I'm sure he won't d...</td>\n",
              "    </tr>\n",
              "    <tr>\n",
              "      <th>208819</th>\n",
              "      <td>1</td>\n",
              "      <td>NaN</td>\n",
              "      <td>OliverSparrow</td>\n",
              "      <td>Futurology</td>\n",
              "      <td>1</td>\n",
              "      <td>1</td>\n",
              "      <td>0</td>\n",
              "      <td>2014-05</td>\n",
              "      <td>1401350822</td>\n",
              "      <td>I think steam had a way bigger impact then the...</td>\n",
              "    </tr>\n",
              "    <tr>\n",
              "      <th>228124</th>\n",
              "      <td>1</td>\n",
              "      <td>NaN</td>\n",
              "      <td>Temp1ar</td>\n",
              "      <td>CanadaPolitics</td>\n",
              "      <td>7</td>\n",
              "      <td>7</td>\n",
              "      <td>0</td>\n",
              "      <td>2013-03</td>\n",
              "      <td>1363623223</td>\n",
              "      <td>I hate \"not sure if sarcasm\" comments but your...</td>\n",
              "    </tr>\n",
              "    <tr>\n",
              "      <th>236849</th>\n",
              "      <td>1</td>\n",
              "      <td>NaN</td>\n",
              "      <td>drewmat</td>\n",
              "      <td>survivor</td>\n",
              "      <td>2</td>\n",
              "      <td>2</td>\n",
              "      <td>0</td>\n",
              "      <td>2013-01</td>\n",
              "      <td>1357330075</td>\n",
              "      <td>aw, that really sucks. i feel bad for him</td>\n",
              "    </tr>\n",
              "    <tr>\n",
              "      <th>248895</th>\n",
              "      <td>1</td>\n",
              "      <td>NaN</td>\n",
              "      <td>povsky</td>\n",
              "      <td>AskReddit</td>\n",
              "      <td>1</td>\n",
              "      <td>1</td>\n",
              "      <td>0</td>\n",
              "      <td>2011-02</td>\n",
              "      <td>1297406810</td>\n",
              "      <td>If you're serious, nobody cares. Don't bother ...</td>\n",
              "    </tr>\n",
              "  </tbody>\n",
              "</table>\n",
              "<p>67 rows × 10 columns</p>\n",
              "</div>"
            ],
            "text/plain": [
              "        label  ...                                     parent_comment\n",
              "56269       1  ...  LPL shitshow, EU LCS shitshow. What isn't a sh...\n",
              "68590       1  ...  Car fires smell delicious to you? You should p...\n",
              "135348      0  ...                                 Will do. EU or NA?\n",
              "199910      0  ...                                      woah, thanks.\n",
              "258718      1  ...  No, doing drugs while forming a fetus (your ki...\n",
              "...       ...  ...                                                ...\n",
              "192810      1  ...  Colorblind maybe? I dunno. I'm sure he won't d...\n",
              "208819      1  ...  I think steam had a way bigger impact then the...\n",
              "228124      1  ...  I hate \"not sure if sarcasm\" comments but your...\n",
              "236849      1  ...          aw, that really sucks. i feel bad for him\n",
              "248895      1  ...  If you're serious, nobody cares. Don't bother ...\n",
              "\n",
              "[67 rows x 10 columns]"
            ]
          },
          "metadata": {
            "tags": []
          },
          "execution_count": 143
        }
      ]
    },
    {
      "cell_type": "code",
      "metadata": {
        "colab": {
          "base_uri": "https://localhost:8080/"
        },
        "id": "Gf4CuwujrLiV",
        "outputId": "3428cc81-301f-4445-e2ce-df5a13e89b8b"
      },
      "source": [
        "train.isnull().sum()"
      ],
      "execution_count": null,
      "outputs": [
        {
          "output_type": "execute_result",
          "data": {
            "text/plain": [
              "label              0\n",
              "comment           53\n",
              "author             0\n",
              "subreddit          0\n",
              "score              0\n",
              "ups                0\n",
              "downs              0\n",
              "date               0\n",
              "created_utc        0\n",
              "parent_comment     0\n",
              "dtype: int64"
            ]
          },
          "metadata": {
            "tags": []
          },
          "execution_count": 6
        }
      ]
    },
    {
      "cell_type": "code",
      "metadata": {
        "colab": {
          "base_uri": "https://localhost:8080/"
        },
        "id": "106bXFogrLV3",
        "outputId": "2d650a5a-e436-45be-9f67-2feb8085dc36"
      },
      "source": [
        "test.isnull().sum()"
      ],
      "execution_count": null,
      "outputs": [
        {
          "output_type": "execute_result",
          "data": {
            "text/plain": [
              "label              0\n",
              "comment           14\n",
              "author             0\n",
              "subreddit          0\n",
              "score              0\n",
              "ups                0\n",
              "downs              0\n",
              "date               0\n",
              "created_utc        0\n",
              "parent_comment     0\n",
              "dtype: int64"
            ]
          },
          "metadata": {
            "tags": []
          },
          "execution_count": 7
        }
      ]
    },
    {
      "cell_type": "markdown",
      "metadata": {
        "id": "5GRb0oJyvRjx"
      },
      "source": [
        "This indicates the distribution of data across subreddits"
      ]
    },
    {
      "cell_type": "code",
      "metadata": {
        "colab": {
          "base_uri": "https://localhost:8080/"
        },
        "id": "5oOsk-lTvb7y",
        "outputId": "90af1b08-edd0-4b8e-9684-93ad5bf7cc27"
      },
      "source": [
        "data['subreddit'].value_counts()"
      ],
      "execution_count": null,
      "outputs": [
        {
          "output_type": "execute_result",
          "data": {
            "text/plain": [
              "AskReddit          81703\n",
              "politics           49432\n",
              "worldnews          32976\n",
              "leagueoflegends    26487\n",
              "pcmasterrace       23594\n",
              "                   ...  \n",
              "FatPeopleLogic         1\n",
              "BadEverything          1\n",
              "Lenovo                 1\n",
              "rpcs3                  1\n",
              "ditavonteese           1\n",
              "Name: subreddit, Length: 16322, dtype: int64"
            ]
          },
          "metadata": {
            "tags": []
          },
          "execution_count": 102
        }
      ]
    },
    {
      "cell_type": "code",
      "metadata": {
        "colab": {
          "base_uri": "https://localhost:8080/",
          "height": 390
        },
        "id": "VoKuPdPbVxzu",
        "outputId": "25997bf3-47a6-4b23-faee-4230972c21d2"
      },
      "source": [
        "data.groupby('subreddit')['label'].agg([np.size,np.mean]).sort_values(by='size', ascending=False).head(10)"
      ],
      "execution_count": null,
      "outputs": [
        {
          "output_type": "execute_result",
          "data": {
            "text/html": [
              "<div>\n",
              "<style scoped>\n",
              "    .dataframe tbody tr th:only-of-type {\n",
              "        vertical-align: middle;\n",
              "    }\n",
              "\n",
              "    .dataframe tbody tr th {\n",
              "        vertical-align: top;\n",
              "    }\n",
              "\n",
              "    .dataframe thead th {\n",
              "        text-align: right;\n",
              "    }\n",
              "</style>\n",
              "<table border=\"1\" class=\"dataframe\">\n",
              "  <thead>\n",
              "    <tr style=\"text-align: right;\">\n",
              "      <th></th>\n",
              "      <th>size</th>\n",
              "      <th>mean</th>\n",
              "    </tr>\n",
              "    <tr>\n",
              "      <th>subreddit</th>\n",
              "      <th></th>\n",
              "      <th></th>\n",
              "    </tr>\n",
              "  </thead>\n",
              "  <tbody>\n",
              "    <tr>\n",
              "      <th>AskReddit</th>\n",
              "      <td>81703</td>\n",
              "      <td>0.402409</td>\n",
              "    </tr>\n",
              "    <tr>\n",
              "      <th>politics</th>\n",
              "      <td>49432</td>\n",
              "      <td>0.604972</td>\n",
              "    </tr>\n",
              "    <tr>\n",
              "      <th>worldnews</th>\n",
              "      <td>32976</td>\n",
              "      <td>0.642710</td>\n",
              "    </tr>\n",
              "    <tr>\n",
              "      <th>leagueoflegends</th>\n",
              "      <td>26487</td>\n",
              "      <td>0.541964</td>\n",
              "    </tr>\n",
              "    <tr>\n",
              "      <th>pcmasterrace</th>\n",
              "      <td>23594</td>\n",
              "      <td>0.567814</td>\n",
              "    </tr>\n",
              "    <tr>\n",
              "      <th>funny</th>\n",
              "      <td>22510</td>\n",
              "      <td>0.452243</td>\n",
              "    </tr>\n",
              "    <tr>\n",
              "      <th>news</th>\n",
              "      <td>21037</td>\n",
              "      <td>0.602557</td>\n",
              "    </tr>\n",
              "    <tr>\n",
              "      <th>pics</th>\n",
              "      <td>20250</td>\n",
              "      <td>0.484148</td>\n",
              "    </tr>\n",
              "    <tr>\n",
              "      <th>todayilearned</th>\n",
              "      <td>17724</td>\n",
              "      <td>0.546829</td>\n",
              "    </tr>\n",
              "    <tr>\n",
              "      <th>nfl</th>\n",
              "      <td>17680</td>\n",
              "      <td>0.508541</td>\n",
              "    </tr>\n",
              "  </tbody>\n",
              "</table>\n",
              "</div>"
            ],
            "text/plain": [
              "                  size      mean\n",
              "subreddit                       \n",
              "AskReddit        81703  0.402409\n",
              "politics         49432  0.604972\n",
              "worldnews        32976  0.642710\n",
              "leagueoflegends  26487  0.541964\n",
              "pcmasterrace     23594  0.567814\n",
              "funny            22510  0.452243\n",
              "news             21037  0.602557\n",
              "pics             20250  0.484148\n",
              "todayilearned    17724  0.546829\n",
              "nfl              17680  0.508541"
            ]
          },
          "metadata": {
            "tags": []
          },
          "execution_count": 23
        }
      ]
    },
    {
      "cell_type": "markdown",
      "metadata": {
        "id": "5alkd8ukHWam"
      },
      "source": [
        "Top 10 subreddits with the most sarcastic comments"
      ]
    },
    {
      "cell_type": "code",
      "metadata": {
        "colab": {
          "base_uri": "https://localhost:8080/",
          "height": 390
        },
        "id": "ZA1FVSefEsBP",
        "outputId": "7917a53e-55a2-490f-87db-1834df320294"
      },
      "source": [
        "data[data['label']==1].groupby('subreddit')['label'].agg([np.size]).sort_values(by='size', ascending=False).head(10)\n"
      ],
      "execution_count": null,
      "outputs": [
        {
          "output_type": "execute_result",
          "data": {
            "text/html": [
              "<div>\n",
              "<style scoped>\n",
              "    .dataframe tbody tr th:only-of-type {\n",
              "        vertical-align: middle;\n",
              "    }\n",
              "\n",
              "    .dataframe tbody tr th {\n",
              "        vertical-align: top;\n",
              "    }\n",
              "\n",
              "    .dataframe thead th {\n",
              "        text-align: right;\n",
              "    }\n",
              "</style>\n",
              "<table border=\"1\" class=\"dataframe\">\n",
              "  <thead>\n",
              "    <tr style=\"text-align: right;\">\n",
              "      <th></th>\n",
              "      <th>size</th>\n",
              "    </tr>\n",
              "    <tr>\n",
              "      <th>subreddit</th>\n",
              "      <th></th>\n",
              "    </tr>\n",
              "  </thead>\n",
              "  <tbody>\n",
              "    <tr>\n",
              "      <th>AskReddit</th>\n",
              "      <td>32878</td>\n",
              "    </tr>\n",
              "    <tr>\n",
              "      <th>politics</th>\n",
              "      <td>29905</td>\n",
              "    </tr>\n",
              "    <tr>\n",
              "      <th>worldnews</th>\n",
              "      <td>21194</td>\n",
              "    </tr>\n",
              "    <tr>\n",
              "      <th>leagueoflegends</th>\n",
              "      <td>14355</td>\n",
              "    </tr>\n",
              "    <tr>\n",
              "      <th>pcmasterrace</th>\n",
              "      <td>13397</td>\n",
              "    </tr>\n",
              "    <tr>\n",
              "      <th>news</th>\n",
              "      <td>12676</td>\n",
              "    </tr>\n",
              "    <tr>\n",
              "      <th>funny</th>\n",
              "      <td>10180</td>\n",
              "    </tr>\n",
              "    <tr>\n",
              "      <th>pics</th>\n",
              "      <td>9804</td>\n",
              "    </tr>\n",
              "    <tr>\n",
              "      <th>todayilearned</th>\n",
              "      <td>9692</td>\n",
              "    </tr>\n",
              "    <tr>\n",
              "      <th>GlobalOffensive</th>\n",
              "      <td>9513</td>\n",
              "    </tr>\n",
              "  </tbody>\n",
              "</table>\n",
              "</div>"
            ],
            "text/plain": [
              "                  size\n",
              "subreddit             \n",
              "AskReddit        32878\n",
              "politics         29905\n",
              "worldnews        21194\n",
              "leagueoflegends  14355\n",
              "pcmasterrace     13397\n",
              "news             12676\n",
              "funny            10180\n",
              "pics              9804\n",
              "todayilearned     9692\n",
              "GlobalOffensive   9513"
            ]
          },
          "metadata": {
            "tags": []
          },
          "execution_count": 20
        }
      ]
    },
    {
      "cell_type": "markdown",
      "metadata": {
        "id": "tn4Ho0YWHIi4"
      },
      "source": [
        "Top 10 subreddits with the most neutral comments"
      ]
    },
    {
      "cell_type": "code",
      "metadata": {
        "colab": {
          "base_uri": "https://localhost:8080/",
          "height": 390
        },
        "id": "uaEBfwrEE3LI",
        "outputId": "2c2f30f3-eba6-412f-bf2a-9b691d889293"
      },
      "source": [
        "data[data['label']==0].groupby('subreddit')['label'].agg([np.size]).sort_values(by='size', ascending=False).head(10)\n"
      ],
      "execution_count": null,
      "outputs": [
        {
          "output_type": "execute_result",
          "data": {
            "text/html": [
              "<div>\n",
              "<style scoped>\n",
              "    .dataframe tbody tr th:only-of-type {\n",
              "        vertical-align: middle;\n",
              "    }\n",
              "\n",
              "    .dataframe tbody tr th {\n",
              "        vertical-align: top;\n",
              "    }\n",
              "\n",
              "    .dataframe thead th {\n",
              "        text-align: right;\n",
              "    }\n",
              "</style>\n",
              "<table border=\"1\" class=\"dataframe\">\n",
              "  <thead>\n",
              "    <tr style=\"text-align: right;\">\n",
              "      <th></th>\n",
              "      <th>size</th>\n",
              "    </tr>\n",
              "    <tr>\n",
              "      <th>subreddit</th>\n",
              "      <th></th>\n",
              "    </tr>\n",
              "  </thead>\n",
              "  <tbody>\n",
              "    <tr>\n",
              "      <th>AskReddit</th>\n",
              "      <td>48825</td>\n",
              "    </tr>\n",
              "    <tr>\n",
              "      <th>politics</th>\n",
              "      <td>19527</td>\n",
              "    </tr>\n",
              "    <tr>\n",
              "      <th>funny</th>\n",
              "      <td>12330</td>\n",
              "    </tr>\n",
              "    <tr>\n",
              "      <th>leagueoflegends</th>\n",
              "      <td>12132</td>\n",
              "    </tr>\n",
              "    <tr>\n",
              "      <th>worldnews</th>\n",
              "      <td>11782</td>\n",
              "    </tr>\n",
              "    <tr>\n",
              "      <th>pics</th>\n",
              "      <td>10446</td>\n",
              "    </tr>\n",
              "    <tr>\n",
              "      <th>pcmasterrace</th>\n",
              "      <td>10197</td>\n",
              "    </tr>\n",
              "    <tr>\n",
              "      <th>nfl</th>\n",
              "      <td>8689</td>\n",
              "    </tr>\n",
              "    <tr>\n",
              "      <th>nba</th>\n",
              "      <td>8380</td>\n",
              "    </tr>\n",
              "    <tr>\n",
              "      <th>news</th>\n",
              "      <td>8361</td>\n",
              "    </tr>\n",
              "  </tbody>\n",
              "</table>\n",
              "</div>"
            ],
            "text/plain": [
              "                  size\n",
              "subreddit             \n",
              "AskReddit        48825\n",
              "politics         19527\n",
              "funny            12330\n",
              "leagueoflegends  12132\n",
              "worldnews        11782\n",
              "pics             10446\n",
              "pcmasterrace     10197\n",
              "nfl               8689\n",
              "nba               8380\n",
              "news              8361"
            ]
          },
          "metadata": {
            "tags": []
          },
          "execution_count": 19
        }
      ]
    },
    {
      "cell_type": "markdown",
      "metadata": {
        "id": "VSzsH9KfH4JO"
      },
      "source": [
        "Top 10 authors with the most sarcastic comments"
      ]
    },
    {
      "cell_type": "code",
      "metadata": {
        "id": "hiioEO68WY5o",
        "colab": {
          "base_uri": "https://localhost:8080/",
          "height": 390
        },
        "outputId": "ca95d013-9132-4be4-c02c-5e25b33c40a3"
      },
      "source": [
        "data[data['label']==1].groupby('author')['label'].agg([np.size]).sort_values(by='size', ascending=False).head(10)\n"
      ],
      "execution_count": null,
      "outputs": [
        {
          "output_type": "execute_result",
          "data": {
            "text/html": [
              "<div>\n",
              "<style scoped>\n",
              "    .dataframe tbody tr th:only-of-type {\n",
              "        vertical-align: middle;\n",
              "    }\n",
              "\n",
              "    .dataframe tbody tr th {\n",
              "        vertical-align: top;\n",
              "    }\n",
              "\n",
              "    .dataframe thead th {\n",
              "        text-align: right;\n",
              "    }\n",
              "</style>\n",
              "<table border=\"1\" class=\"dataframe\">\n",
              "  <thead>\n",
              "    <tr style=\"text-align: right;\">\n",
              "      <th></th>\n",
              "      <th>size</th>\n",
              "    </tr>\n",
              "    <tr>\n",
              "      <th>author</th>\n",
              "      <th></th>\n",
              "    </tr>\n",
              "  </thead>\n",
              "  <tbody>\n",
              "    <tr>\n",
              "      <th>Biffingston</th>\n",
              "      <td>517</td>\n",
              "    </tr>\n",
              "    <tr>\n",
              "      <th>pokemon_fetish</th>\n",
              "      <td>267</td>\n",
              "    </tr>\n",
              "    <tr>\n",
              "      <th>NeonDisease</th>\n",
              "      <td>261</td>\n",
              "    </tr>\n",
              "    <tr>\n",
              "      <th>ShyBiDude89</th>\n",
              "      <td>250</td>\n",
              "    </tr>\n",
              "    <tr>\n",
              "      <th>ivsciguy</th>\n",
              "      <td>216</td>\n",
              "    </tr>\n",
              "    <tr>\n",
              "      <th>mindlessrabble</th>\n",
              "      <td>192</td>\n",
              "    </tr>\n",
              "    <tr>\n",
              "      <th>mad-n-fla</th>\n",
              "      <td>188</td>\n",
              "    </tr>\n",
              "    <tr>\n",
              "      <th>Canada_girl</th>\n",
              "      <td>186</td>\n",
              "    </tr>\n",
              "    <tr>\n",
              "      <th>sleaze_bag_alert</th>\n",
              "      <td>159</td>\n",
              "    </tr>\n",
              "    <tr>\n",
              "      <th>tau-lepton</th>\n",
              "      <td>156</td>\n",
              "    </tr>\n",
              "  </tbody>\n",
              "</table>\n",
              "</div>"
            ],
            "text/plain": [
              "                  size\n",
              "author                \n",
              "Biffingston        517\n",
              "pokemon_fetish     267\n",
              "NeonDisease        261\n",
              "ShyBiDude89        250\n",
              "ivsciguy           216\n",
              "mindlessrabble     192\n",
              "mad-n-fla          188\n",
              "Canada_girl        186\n",
              "sleaze_bag_alert   159\n",
              "tau-lepton         156"
            ]
          },
          "metadata": {
            "tags": []
          },
          "execution_count": 26
        }
      ]
    },
    {
      "cell_type": "markdown",
      "metadata": {
        "id": "55fI3BkvH9nn"
      },
      "source": [
        "Top 10 authors with the most neutral comments"
      ]
    },
    {
      "cell_type": "code",
      "metadata": {
        "colab": {
          "base_uri": "https://localhost:8080/",
          "height": 390
        },
        "id": "eYSVdz_FGox5",
        "outputId": "38b14ec5-0b04-41fa-9e48-2713a0210fc4"
      },
      "source": [
        "data[data['label']==0].groupby('author')['label'].agg([np.size]).sort_values(by='size', ascending=False).head(10)\n"
      ],
      "execution_count": null,
      "outputs": [
        {
          "output_type": "execute_result",
          "data": {
            "text/html": [
              "<div>\n",
              "<style scoped>\n",
              "    .dataframe tbody tr th:only-of-type {\n",
              "        vertical-align: middle;\n",
              "    }\n",
              "\n",
              "    .dataframe tbody tr th {\n",
              "        vertical-align: top;\n",
              "    }\n",
              "\n",
              "    .dataframe thead th {\n",
              "        text-align: right;\n",
              "    }\n",
              "</style>\n",
              "<table border=\"1\" class=\"dataframe\">\n",
              "  <thead>\n",
              "    <tr style=\"text-align: right;\">\n",
              "      <th></th>\n",
              "      <th>size</th>\n",
              "    </tr>\n",
              "    <tr>\n",
              "      <th>author</th>\n",
              "      <th></th>\n",
              "    </tr>\n",
              "  </thead>\n",
              "  <tbody>\n",
              "    <tr>\n",
              "      <th>Biffingston</th>\n",
              "      <td>518</td>\n",
              "    </tr>\n",
              "    <tr>\n",
              "      <th>pokemon_fetish</th>\n",
              "      <td>267</td>\n",
              "    </tr>\n",
              "    <tr>\n",
              "      <th>NeonDisease</th>\n",
              "      <td>263</td>\n",
              "    </tr>\n",
              "    <tr>\n",
              "      <th>ShyBiDude89</th>\n",
              "      <td>250</td>\n",
              "    </tr>\n",
              "    <tr>\n",
              "      <th>ivsciguy</th>\n",
              "      <td>217</td>\n",
              "    </tr>\n",
              "    <tr>\n",
              "      <th>mindlessrabble</th>\n",
              "      <td>192</td>\n",
              "    </tr>\n",
              "    <tr>\n",
              "      <th>mad-n-fla</th>\n",
              "      <td>188</td>\n",
              "    </tr>\n",
              "    <tr>\n",
              "      <th>Canada_girl</th>\n",
              "      <td>186</td>\n",
              "    </tr>\n",
              "    <tr>\n",
              "      <th>sleaze_bag_alert</th>\n",
              "      <td>160</td>\n",
              "    </tr>\n",
              "    <tr>\n",
              "      <th>tau-lepton</th>\n",
              "      <td>156</td>\n",
              "    </tr>\n",
              "  </tbody>\n",
              "</table>\n",
              "</div>"
            ],
            "text/plain": [
              "                  size\n",
              "author                \n",
              "Biffingston        518\n",
              "pokemon_fetish     267\n",
              "NeonDisease        263\n",
              "ShyBiDude89        250\n",
              "ivsciguy           217\n",
              "mindlessrabble     192\n",
              "mad-n-fla          188\n",
              "Canada_girl        186\n",
              "sleaze_bag_alert   160\n",
              "tau-lepton         156"
            ]
          },
          "metadata": {
            "tags": []
          },
          "execution_count": 27
        }
      ]
    },
    {
      "cell_type": "markdown",
      "metadata": {
        "id": "OAMqw1ACIH-L"
      },
      "source": [
        "Distribution of comment length"
      ]
    },
    {
      "cell_type": "code",
      "metadata": {
        "colab": {
          "base_uri": "https://localhost:8080/",
          "height": 295
        },
        "id": "vfeNnknKkaLR",
        "outputId": "d3ea23b5-c319-46f3-9b8f-b60e88374ac2"
      },
      "source": [
        "data.loc[data['label'] == 1, 'comment'].str.len().apply(np.log10).hist(label='sarcastic', alpha=.5)\n",
        "data.loc[data['label'] == 0, 'comment'].str.len().apply(np.log10).hist(label='normal', alpha=.5)\n",
        "plt.title('The Distribution of Comments Lengths After Applying Log10')\n",
        "plt.xlabel(\"Log10(Comment Length)\")\n",
        "plt.ylabel('Frequency',rotation=0)\n",
        "plt.legend();"
      ],
      "execution_count": null,
      "outputs": [
        {
          "output_type": "display_data",
          "data": {
            "image/png": "[encoded data removed]",
            "text/plain": [
              "<Figure size 432x288 with 1 Axes>"
            ]
          },
          "metadata": {
            "tags": [],
            "needs_background": "light"
          }
        }
      ]
    },
    {
      "cell_type": "code",
      "metadata": {
        "colab": {
          "base_uri": "https://localhost:8080/"
        },
        "id": "rBrqWWjelivx",
        "outputId": "6211d3ef-29c6-470f-da0d-cd76678a7965"
      },
      "source": [
        "data['comment'].str.len().describe().apply(np.round,decimals=2)"
      ],
      "execution_count": null,
      "outputs": [
        {
          "output_type": "execute_result",
          "data": {
            "text/plain": [
              "count    1262367.00\n",
              "mean          56.66\n",
              "std           60.39\n",
              "min            1.00\n",
              "25%           27.00\n",
              "50%           46.00\n",
              "75%           74.00\n",
              "max        10000.00\n",
              "Name: comment, dtype: float64"
            ]
          },
          "metadata": {
            "tags": []
          },
          "execution_count": 11
        }
      ]
    },
    {
      "cell_type": "markdown",
      "metadata": {
        "id": "izB-4TskINTL"
      },
      "source": [
        "WordCloud for sarcastic comments"
      ]
    },
    {
      "cell_type": "code",
      "metadata": {
        "id": "mbAUl2fWstRE"
      },
      "source": [
        "wordcloud = WordCloud(background_color='white', stopwords = STOPWORDS, width=1600, height=900,max_font_size=300)"
      ],
      "execution_count": null,
      "outputs": []
    },
    {
      "cell_type": "code",
      "metadata": {
        "colab": {
          "base_uri": "https://localhost:8080/",
          "height": 541
        },
        "id": "BtV4cqA4XNa-",
        "outputId": "933866dd-204e-4842-83bb-4f6922a3c0b9"
      },
      "source": [
        "plt.figure(figsize=(16, 9))\n",
        "wordcloud.generate(str(data.loc[data['label'] == 1, 'comment']))\n",
        "plt.imshow(wordcloud);"
      ],
      "execution_count": null,
      "outputs": [
        {
          "output_type": "display_data",
          "data": {
            "image/png": "[encoded data removed]",
            "text/plain": [
              "<Figure size 1152x648 with 1 Axes>"
            ]
          },
          "metadata": {
            "tags": [],
            "needs_background": "light"
          }
        }
      ]
    },
    {
      "cell_type": "markdown",
      "metadata": {
        "id": "6pM67_i_IUoh"
      },
      "source": [
        "WordCloud for neutral comments"
      ]
    },
    {
      "cell_type": "code",
      "metadata": {
        "id": "yye0cW2PVkun",
        "colab": {
          "base_uri": "https://localhost:8080/",
          "height": 541
        },
        "outputId": "11b85e9a-f893-496c-e222-fd81ec1098f0"
      },
      "source": [
        "plt.figure(figsize=(16, 9))\n",
        "wordcloud.generate(str(data.loc[data['label'] == 0, 'comment']))\n",
        "plt.imshow(wordcloud);"
      ],
      "execution_count": null,
      "outputs": [
        {
          "output_type": "display_data",
          "data": {
            "image/png": "[encoded data removed]",
            "text/plain": [
              "<Figure size 1152x648 with 1 Axes>"
            ]
          },
          "metadata": {
            "tags": [],
            "needs_background": "light"
          }
        }
      ]
    },
    {
      "cell_type": "markdown",
      "metadata": {
        "id": "GiJk0d0mg9dY"
      },
      "source": [
        "Get rid of rows with blank comments"
      ]
    },
    {
      "cell_type": "code",
      "metadata": {
        "id": "AIrInpBCui4H"
      },
      "source": [
        "test = test.dropna()\n",
        "train = train.dropna()"
      ],
      "execution_count": null,
      "outputs": []
    },
    {
      "cell_type": "code",
      "metadata": {
        "colab": {
          "base_uri": "https://localhost:8080/"
        },
        "id": "OXXGa0R2deTA",
        "outputId": "75a1f290-060b-47cf-c970-742cb9eefa6c"
      },
      "source": [
        "test.isnull().sum()"
      ],
      "execution_count": null,
      "outputs": [
        {
          "output_type": "execute_result",
          "data": {
            "text/plain": [
              "label             0\n",
              "comment           0\n",
              "author            0\n",
              "subreddit         0\n",
              "score             0\n",
              "ups               0\n",
              "downs             0\n",
              "date              0\n",
              "created_utc       0\n",
              "parent_comment    0\n",
              "dtype: int64"
            ]
          },
          "metadata": {
            "tags": []
          },
          "execution_count": 15
        }
      ]
    },
    {
      "cell_type": "code",
      "metadata": {
        "colab": {
          "base_uri": "https://localhost:8080/"
        },
        "id": "k1IPCYUhdjS5",
        "outputId": "f21b6f68-733e-4f52-e616-9756d5c694a1"
      },
      "source": [
        "train.isnull().sum()"
      ],
      "execution_count": null,
      "outputs": [
        {
          "output_type": "execute_result",
          "data": {
            "text/plain": [
              "label             0\n",
              "comment           0\n",
              "author            0\n",
              "subreddit         0\n",
              "score             0\n",
              "ups               0\n",
              "downs             0\n",
              "date              0\n",
              "created_utc       0\n",
              "parent_comment    0\n",
              "dtype: int64"
            ]
          },
          "metadata": {
            "tags": []
          },
          "execution_count": 16
        }
      ]
    },
    {
      "cell_type": "markdown",
      "metadata": {
        "id": "TAOGTjCPhGfS"
      },
      "source": [
        "# Text Cleaning"
      ]
    },
    {
      "cell_type": "code",
      "metadata": {
        "id": "2ZCVTmxN8J_S"
      },
      "source": [
        "cleaned_train = train.copy(deep=True)\n",
        "cleaned_test = test.copy(deep=True)"
      ],
      "execution_count": null,
      "outputs": []
    },
    {
      "cell_type": "code",
      "metadata": {
        "colab": {
          "base_uri": "https://localhost:8080/"
        },
        "id": "AnRLFrLaolhR",
        "outputId": "0bfe2bb3-6b1d-4957-9dba-aa3dd431e422"
      },
      "source": [
        "!pip install contractions\n",
        "import contractions\n",
        "nltk.download('stopwords')\n",
        "nltk.download('wordnet')"
      ],
      "execution_count": null,
      "outputs": [
        {
          "output_type": "stream",
          "text": [
            "Requirement already satisfied: contractions in /usr/local/lib/python3.7/dist-packages (0.0.48)\n",
            "Requirement already satisfied: textsearch>=0.0.21 in /usr/local/lib/python3.7/dist-packages (from contractions) (0.0.21)\n",
            "Requirement already satisfied: pyahocorasick in /usr/local/lib/python3.7/dist-packages (from textsearch>=0.0.21->contractions) (1.4.2)\n",
            "Requirement already satisfied: anyascii in /usr/local/lib/python3.7/dist-packages (from textsearch>=0.0.21->contractions) (0.1.7)\n",
            "[nltk_data] Downloading package stopwords to /root/nltk_data...\n",
            "[nltk_data]   Package stopwords is already up-to-date!\n",
            "[nltk_data] Downloading package wordnet to /root/nltk_data...\n",
            "[nltk_data]   Package wordnet is already up-to-date!\n"
          ],
          "name": "stdout"
        },
        {
          "output_type": "execute_result",
          "data": {
            "text/plain": [
              "True"
            ]
          },
          "metadata": {
            "tags": []
          },
          "execution_count": 5
        }
      ]
    },
    {
      "cell_type": "code",
      "metadata": {
        "id": "z63If__5v4D1"
      },
      "source": [
        "sws = set(stopwords.words(\"english\"))\n",
        "lemm = nltk.stem.WordNetLemmatizer()\n",
        "stem = PorterStemmer()"
      ],
      "execution_count": null,
      "outputs": []
    },
    {
      "cell_type": "code",
      "metadata": {
        "id": "zLGFlc_BqEnl"
      },
      "source": [
        "def clean_text(text):\n",
        "  # Convert all to lower case\n",
        "  text = str(text).lower()\n",
        "\n",
        "  # Expand contractions\n",
        "  text = contractions.fix(text)\n",
        "\n",
        "  # Tokenisation\n",
        "  text =  nltk.WordPunctTokenizer().tokenize(text)\n",
        "\n",
        "  # Removing special characters and stopwords\n",
        "  text = [ i for i in text if (i not in sws) and (i.isalpha())]\n",
        "\n",
        "  # Lemmatisation\n",
        "  text =  [lemm.lemmatize(w) for w in text]\n",
        "\n",
        "  # Stemming\n",
        "  text = [stem.stem(w) for w in text]\n",
        "  \n",
        "  return \" \".join(text)\n"
      ],
      "execution_count": null,
      "outputs": []
    },
    {
      "cell_type": "code",
      "metadata": {
        "id": "Zq0Es917xRO0"
      },
      "source": [
        "cleaned_train['comment'] = cleaned_train['comment'].apply(lambda x: clean_text(x))\n",
        "cleaned_test['comment'] = cleaned_test['comment'].apply(lambda x: clean_text(x))"
      ],
      "execution_count": null,
      "outputs": []
    },
    {
      "cell_type": "code",
      "metadata": {
        "colab": {
          "base_uri": "https://localhost:8080/",
          "height": 340
        },
        "id": "CJBS2IftHHli",
        "outputId": "cd2f12b3-ea65-46d6-c90a-abc03a251356"
      },
      "source": [
        "cleaned_train.head()"
      ],
      "execution_count": null,
      "outputs": [
        {
          "output_type": "execute_result",
          "data": {
            "text/html": [
              "<div>\n",
              "<style scoped>\n",
              "    .dataframe tbody tr th:only-of-type {\n",
              "        vertical-align: middle;\n",
              "    }\n",
              "\n",
              "    .dataframe tbody tr th {\n",
              "        vertical-align: top;\n",
              "    }\n",
              "\n",
              "    .dataframe thead th {\n",
              "        text-align: right;\n",
              "    }\n",
              "</style>\n",
              "<table border=\"1\" class=\"dataframe\">\n",
              "  <thead>\n",
              "    <tr style=\"text-align: right;\">\n",
              "      <th></th>\n",
              "      <th>label</th>\n",
              "      <th>comment</th>\n",
              "      <th>author</th>\n",
              "      <th>subreddit</th>\n",
              "      <th>score</th>\n",
              "      <th>ups</th>\n",
              "      <th>downs</th>\n",
              "      <th>date</th>\n",
              "      <th>created_utc</th>\n",
              "      <th>parent_comment</th>\n",
              "    </tr>\n",
              "  </thead>\n",
              "  <tbody>\n",
              "    <tr>\n",
              "      <th>0</th>\n",
              "      <td>0</td>\n",
              "      <td>nc nh</td>\n",
              "      <td>Trumpbart</td>\n",
              "      <td>politics</td>\n",
              "      <td>2</td>\n",
              "      <td>-1</td>\n",
              "      <td>-1</td>\n",
              "      <td>2016-10</td>\n",
              "      <td>1476662123</td>\n",
              "      <td>Yeah, I get that argument. At this point, I'd ...</td>\n",
              "    </tr>\n",
              "    <tr>\n",
              "      <th>1</th>\n",
              "      <td>0</td>\n",
              "      <td>know west team play west team east team right</td>\n",
              "      <td>Shbshb906</td>\n",
              "      <td>nba</td>\n",
              "      <td>-4</td>\n",
              "      <td>-1</td>\n",
              "      <td>-1</td>\n",
              "      <td>2016-11</td>\n",
              "      <td>1477959850</td>\n",
              "      <td>The blazers and Mavericks (The wests 5 and 6 s...</td>\n",
              "    </tr>\n",
              "    <tr>\n",
              "      <th>2</th>\n",
              "      <td>0</td>\n",
              "      <td>underdog earlier today sinc gronk announc afte...</td>\n",
              "      <td>Creepeth</td>\n",
              "      <td>nfl</td>\n",
              "      <td>3</td>\n",
              "      <td>3</td>\n",
              "      <td>0</td>\n",
              "      <td>2016-09</td>\n",
              "      <td>1474580737</td>\n",
              "      <td>They're favored to win.</td>\n",
              "    </tr>\n",
              "    <tr>\n",
              "      <th>3</th>\n",
              "      <td>0</td>\n",
              "      <td>meme funni none new york nigga one</td>\n",
              "      <td>icebrotha</td>\n",
              "      <td>BlackPeopleTwitter</td>\n",
              "      <td>-8</td>\n",
              "      <td>-1</td>\n",
              "      <td>-1</td>\n",
              "      <td>2016-10</td>\n",
              "      <td>1476824627</td>\n",
              "      <td>deadass don't kill my buzz</td>\n",
              "    </tr>\n",
              "    <tr>\n",
              "      <th>4</th>\n",
              "      <td>0</td>\n",
              "      <td>could use one tool</td>\n",
              "      <td>cush2push</td>\n",
              "      <td>MaddenUltimateTeam</td>\n",
              "      <td>6</td>\n",
              "      <td>-1</td>\n",
              "      <td>-1</td>\n",
              "      <td>2016-12</td>\n",
              "      <td>1483117213</td>\n",
              "      <td>Yep can confirm I saw the tool they use for th...</td>\n",
              "    </tr>\n",
              "  </tbody>\n",
              "</table>\n",
              "</div>"
            ],
            "text/plain": [
              "   label  ...                                     parent_comment\n",
              "0      0  ...  Yeah, I get that argument. At this point, I'd ...\n",
              "1      0  ...  The blazers and Mavericks (The wests 5 and 6 s...\n",
              "2      0  ...                            They're favored to win.\n",
              "3      0  ...                         deadass don't kill my buzz\n",
              "4      0  ...  Yep can confirm I saw the tool they use for th...\n",
              "\n",
              "[5 rows x 10 columns]"
            ]
          },
          "metadata": {
            "tags": []
          },
          "execution_count": 9
        }
      ]
    },
    {
      "cell_type": "code",
      "metadata": {
        "colab": {
          "base_uri": "https://localhost:8080/",
          "height": 204
        },
        "id": "Bc8bhkxfHH8Y",
        "outputId": "2fe83785-eac6-445a-c3d7-6614c99ba9ab"
      },
      "source": [
        "cleaned_test.head()"
      ],
      "execution_count": null,
      "outputs": [
        {
          "output_type": "execute_result",
          "data": {
            "text/html": [
              "<div>\n",
              "<style scoped>\n",
              "    .dataframe tbody tr th:only-of-type {\n",
              "        vertical-align: middle;\n",
              "    }\n",
              "\n",
              "    .dataframe tbody tr th {\n",
              "        vertical-align: top;\n",
              "    }\n",
              "\n",
              "    .dataframe thead th {\n",
              "        text-align: right;\n",
              "    }\n",
              "</style>\n",
              "<table border=\"1\" class=\"dataframe\">\n",
              "  <thead>\n",
              "    <tr style=\"text-align: right;\">\n",
              "      <th></th>\n",
              "      <th>label</th>\n",
              "      <th>comment</th>\n",
              "      <th>author</th>\n",
              "      <th>subreddit</th>\n",
              "      <th>score</th>\n",
              "      <th>ups</th>\n",
              "      <th>downs</th>\n",
              "      <th>date</th>\n",
              "      <th>created_utc</th>\n",
              "      <th>parent_comment</th>\n",
              "    </tr>\n",
              "  </thead>\n",
              "  <tbody>\n",
              "    <tr>\n",
              "      <th>0</th>\n",
              "      <td>0</td>\n",
              "      <td>actually supporter sane people saw medium espe...</td>\n",
              "      <td>Quinnjester</td>\n",
              "      <td>politics</td>\n",
              "      <td>3</td>\n",
              "      <td>3</td>\n",
              "      <td>0</td>\n",
              "      <td>2016-09</td>\n",
              "      <td>1473569605</td>\n",
              "      <td>Hillary's Surrogotes Told to Blame Media for '...</td>\n",
              "    </tr>\n",
              "    <tr>\n",
              "      <th>1</th>\n",
              "      <td>0</td>\n",
              "      <td>survive without echo chamber great america</td>\n",
              "      <td>TheGettysburgAddress</td>\n",
              "      <td>The_Donald</td>\n",
              "      <td>13</td>\n",
              "      <td>-1</td>\n",
              "      <td>-1</td>\n",
              "      <td>2016-11</td>\n",
              "      <td>1478788413</td>\n",
              "      <td>Thank God Liberals like to live in concentrate...</td>\n",
              "    </tr>\n",
              "    <tr>\n",
              "      <th>2</th>\n",
              "      <td>0</td>\n",
              "      <td>pretty cute total</td>\n",
              "      <td>Sempiternally_free</td>\n",
              "      <td>2007scape</td>\n",
              "      <td>8</td>\n",
              "      <td>-1</td>\n",
              "      <td>-1</td>\n",
              "      <td>2016-11</td>\n",
              "      <td>1478042903</td>\n",
              "      <td>Saw this cutie training his Attack today...</td>\n",
              "    </tr>\n",
              "    <tr>\n",
              "      <th>3</th>\n",
              "      <td>0</td>\n",
              "      <td>kill crash meme market</td>\n",
              "      <td>Catacomb82</td>\n",
              "      <td>AskReddit</td>\n",
              "      <td>2</td>\n",
              "      <td>-1</td>\n",
              "      <td>-1</td>\n",
              "      <td>2016-10</td>\n",
              "      <td>1477412597</td>\n",
              "      <td>If you were locked in a room with 49 other peo...</td>\n",
              "    </tr>\n",
              "    <tr>\n",
              "      <th>4</th>\n",
              "      <td>0</td>\n",
              "      <td>bet wrote last message sobbing</td>\n",
              "      <td>Dorian-throwaway</td>\n",
              "      <td>niceguys</td>\n",
              "      <td>5</td>\n",
              "      <td>-1</td>\n",
              "      <td>-1</td>\n",
              "      <td>2016-11</td>\n",
              "      <td>1477962278</td>\n",
              "      <td>You're not even that pretty!</td>\n",
              "    </tr>\n",
              "  </tbody>\n",
              "</table>\n",
              "</div>"
            ],
            "text/plain": [
              "   label  ...                                     parent_comment\n",
              "0      0  ...  Hillary's Surrogotes Told to Blame Media for '...\n",
              "1      0  ...  Thank God Liberals like to live in concentrate...\n",
              "2      0  ...        Saw this cutie training his Attack today...\n",
              "3      0  ...  If you were locked in a room with 49 other peo...\n",
              "4      0  ...                       You're not even that pretty!\n",
              "\n",
              "[5 rows x 10 columns]"
            ]
          },
          "metadata": {
            "tags": []
          },
          "execution_count": 45
        }
      ]
    },
    {
      "cell_type": "code",
      "metadata": {
        "colab": {
          "base_uri": "https://localhost:8080/"
        },
        "id": "CyAakUpOxmn7",
        "outputId": "2db1b6f7-d0ee-4d5e-b5ac-70d227cc0939"
      },
      "source": [
        "train['comment']"
      ],
      "execution_count": null,
      "outputs": [
        {
          "output_type": "execute_result",
          "data": {
            "text/plain": [
              "0                                                 NC and NH.\n",
              "1          You do know west teams play against west teams...\n",
              "2          They were underdogs earlier today, but since G...\n",
              "3          This meme isn't funny none of the \"new york ni...\n",
              "4                            I could use one of those tools.\n",
              "                                 ...                        \n",
              "1010821    I'm sure that Iran and N. Korea have the techn...\n",
              "1010822                   whatever you do, don't vote green!\n",
              "1010823    Perhaps this is an atheist conspiracy to make ...\n",
              "1010824    The Slavs got their own country - it is called...\n",
              "1010825    values, as in capitalism .. there is good mone...\n",
              "Name: comment, Length: 1010773, dtype: object"
            ]
          },
          "metadata": {
            "tags": []
          },
          "execution_count": 23
        }
      ]
    },
    {
      "cell_type": "markdown",
      "metadata": {
        "id": "720S_P5R-im_"
      },
      "source": [
        "# Tfidf-Logistic Model Trained With Single Cleaned Comments"
      ]
    },
    {
      "cell_type": "code",
      "metadata": {
        "id": "u7q7AJbqdrKA"
      },
      "source": [
        "tf_idf = TfidfVectorizer(ngram_range=(1, 3), max_features=50000, min_df=1,lowercase=True)\n",
        "logit = LogisticRegression(C=1, n_jobs=4, solver='lbfgs', \n",
        "                           random_state=17, verbose=1)\n"
      ],
      "execution_count": null,
      "outputs": []
    },
    {
      "cell_type": "code",
      "metadata": {
        "colab": {
          "base_uri": "https://localhost:8080/"
        },
        "id": "BEmXshFrdxOU",
        "outputId": "572e59b9-f7b1-41eb-d43b-b6d4701bf925"
      },
      "source": [
        "single_cleaned_comment = Pipeline([('tf_idf', tf_idf), \n",
        "                                 ('logit', logit)])\n",
        "single_cleaned_comment.fit(cleaned_train['comment'], cleaned_train['label'])\n"
      ],
      "execution_count": null,
      "outputs": [
        {
          "output_type": "stream",
          "text": [
            "[Parallel(n_jobs=4)]: Using backend LokyBackend with 4 concurrent workers.\n",
            "[Parallel(n_jobs=4)]: Done   1 out of   1 | elapsed:   17.6s finished\n"
          ],
          "name": "stderr"
        },
        {
          "output_type": "execute_result",
          "data": {
            "text/plain": [
              "Pipeline(memory=None,\n",
              "         steps=[('tf_idf',\n",
              "                 TfidfVectorizer(analyzer='word', binary=False,\n",
              "                                 decode_error='strict',\n",
              "                                 dtype=<class 'numpy.float64'>,\n",
              "                                 encoding='utf-8', input='content',\n",
              "                                 lowercase=True, max_df=1.0, max_features=50000,\n",
              "                                 min_df=1, ngram_range=(1, 3), norm='l2',\n",
              "                                 preprocessor=None, smooth_idf=True,\n",
              "                                 stop_words=None, strip_accents=None,\n",
              "                                 sublinear_tf=False,\n",
              "                                 token_pattern='(?u)\\\\b\\\\w\\\\w+\\\\b',\n",
              "                                 tokenizer=None, use_idf=True,\n",
              "                                 vocabulary=None)),\n",
              "                ('logit',\n",
              "                 LogisticRegression(C=1, class_weight=None, dual=False,\n",
              "                                    fit_intercept=True, intercept_scaling=1,\n",
              "                                    l1_ratio=None, max_iter=100,\n",
              "                                    multi_class='auto', n_jobs=4, penalty='l2',\n",
              "                                    random_state=17, solver='lbfgs', tol=0.0001,\n",
              "                                    verbose=1, warm_start=False))],\n",
              "         verbose=False)"
            ]
          },
          "metadata": {
            "tags": []
          },
          "execution_count": 11
        }
      ]
    },
    {
      "cell_type": "code",
      "metadata": {
        "colab": {
          "base_uri": "https://localhost:8080/"
        },
        "id": "bdVhqqOnOAZV",
        "outputId": "a6994ecc-71cb-465a-f12d-c1a0658a036d"
      },
      "source": [
        "single_cleaned_comment.score(cleaned_train['comment'],cleaned_train['label'])"
      ],
      "execution_count": null,
      "outputs": [
        {
          "output_type": "execute_result",
          "data": {
            "text/plain": [
              "0.7138597542999487"
            ]
          },
          "metadata": {
            "tags": []
          },
          "execution_count": 12
        }
      ]
    },
    {
      "cell_type": "code",
      "metadata": {
        "id": "1Jxlv0wFeAqs"
      },
      "source": [
        "valid_pred = single_cleaned_comment.predict(cleaned_test['comment'])"
      ],
      "execution_count": null,
      "outputs": []
    },
    {
      "cell_type": "code",
      "metadata": {
        "colab": {
          "base_uri": "https://localhost:8080/"
        },
        "id": "KNCR4ZIQeyH1",
        "outputId": "c1657210-8534-4673-eb86-8d119fdbd225"
      },
      "source": [
        "accuracy_score(cleaned_test['label'], valid_pred)"
      ],
      "execution_count": null,
      "outputs": [
        {
          "output_type": "execute_result",
          "data": {
            "text/plain": [
              "0.6876092970016852"
            ]
          },
          "metadata": {
            "tags": []
          },
          "execution_count": 14
        }
      ]
    },
    {
      "cell_type": "code",
      "metadata": {
        "colab": {
          "base_uri": "https://localhost:8080/"
        },
        "id": "9O-PUvjoDiin",
        "outputId": "a6e1bf41-52e4-44e8-f481-2497874ae1fd"
      },
      "source": [
        "print(classification_report(cleaned_test['label'], valid_pred))"
      ],
      "execution_count": null,
      "outputs": [
        {
          "output_type": "stream",
          "text": [
            "              precision    recall  f1-score   support\n",
            "\n",
            "           0       0.67      0.73      0.70    125804\n",
            "           1       0.71      0.64      0.67    125804\n",
            "\n",
            "    accuracy                           0.69    251608\n",
            "   macro avg       0.69      0.69      0.69    251608\n",
            "weighted avg       0.69      0.69      0.69    251608\n",
            "\n"
          ],
          "name": "stdout"
        }
      ]
    },
    {
      "cell_type": "markdown",
      "metadata": {
        "id": "fpsW1Wwm-XHk"
      },
      "source": [
        "# Tfidf-Logistic Model Trained With Combined Comments"
      ]
    },
    {
      "cell_type": "code",
      "metadata": {
        "id": "KuGgZWrze84S"
      },
      "source": [
        "combined_comment_train = pd.DataFrame(train['parent_comment'] + train['comment'], columns=['comment'])\n",
        "combined_comment_test = pd.DataFrame(test['parent_comment'] + test['comment'], columns=['comment'])"
      ],
      "execution_count": null,
      "outputs": []
    },
    {
      "cell_type": "code",
      "metadata": {
        "colab": {
          "base_uri": "https://localhost:8080/",
          "height": 204
        },
        "id": "wNSgrpDg-_d7",
        "outputId": "da198609-52ea-4ec1-d662-117b0e8c9837"
      },
      "source": [
        "combined_comment_train.head()"
      ],
      "execution_count": null,
      "outputs": [
        {
          "output_type": "execute_result",
          "data": {
            "text/html": [
              "<div>\n",
              "<style scoped>\n",
              "    .dataframe tbody tr th:only-of-type {\n",
              "        vertical-align: middle;\n",
              "    }\n",
              "\n",
              "    .dataframe tbody tr th {\n",
              "        vertical-align: top;\n",
              "    }\n",
              "\n",
              "    .dataframe thead th {\n",
              "        text-align: right;\n",
              "    }\n",
              "</style>\n",
              "<table border=\"1\" class=\"dataframe\">\n",
              "  <thead>\n",
              "    <tr style=\"text-align: right;\">\n",
              "      <th></th>\n",
              "      <th>comment</th>\n",
              "    </tr>\n",
              "  </thead>\n",
              "  <tbody>\n",
              "    <tr>\n",
              "      <th>0</th>\n",
              "      <td>Yeah, I get that argument. At this point, I'd ...</td>\n",
              "    </tr>\n",
              "    <tr>\n",
              "      <th>1</th>\n",
              "      <td>The blazers and Mavericks (The wests 5 and 6 s...</td>\n",
              "    </tr>\n",
              "    <tr>\n",
              "      <th>2</th>\n",
              "      <td>They're favored to win.They were underdogs ear...</td>\n",
              "    </tr>\n",
              "    <tr>\n",
              "      <th>3</th>\n",
              "      <td>deadass don't kill my buzzThis meme isn't funn...</td>\n",
              "    </tr>\n",
              "    <tr>\n",
              "      <th>4</th>\n",
              "      <td>Yep can confirm I saw the tool they use for th...</td>\n",
              "    </tr>\n",
              "  </tbody>\n",
              "</table>\n",
              "</div>"
            ],
            "text/plain": [
              "                                             comment\n",
              "0  Yeah, I get that argument. At this point, I'd ...\n",
              "1  The blazers and Mavericks (The wests 5 and 6 s...\n",
              "2  They're favored to win.They were underdogs ear...\n",
              "3  deadass don't kill my buzzThis meme isn't funn...\n",
              "4  Yep can confirm I saw the tool they use for th..."
            ]
          },
          "metadata": {
            "tags": []
          },
          "execution_count": 10
        }
      ]
    },
    {
      "cell_type": "code",
      "metadata": {
        "id": "DdEpMuu4_BAg"
      },
      "source": [
        "# Cleaning\n",
        "combined_comment_train['comment'] = combined_comment_train['comment'].apply(lambda x: clean_text(x))\n",
        "combined_comment_test['comment'] = combined_comment_test['comment'].apply(lambda x: clean_text(x))"
      ],
      "execution_count": null,
      "outputs": []
    },
    {
      "cell_type": "code",
      "metadata": {
        "colab": {
          "base_uri": "https://localhost:8080/",
          "height": 204
        },
        "id": "mwzBRQI_CRrV",
        "outputId": "942d9811-5e3a-4708-f3c8-9a9f8e643124"
      },
      "source": [
        "combined_comment_train.tail()"
      ],
      "execution_count": null,
      "outputs": [
        {
          "output_type": "execute_result",
          "data": {
            "text/html": [
              "<div>\n",
              "<style scoped>\n",
              "    .dataframe tbody tr th:only-of-type {\n",
              "        vertical-align: middle;\n",
              "    }\n",
              "\n",
              "    .dataframe tbody tr th {\n",
              "        vertical-align: top;\n",
              "    }\n",
              "\n",
              "    .dataframe thead th {\n",
              "        text-align: right;\n",
              "    }\n",
              "</style>\n",
              "<table border=\"1\" class=\"dataframe\">\n",
              "  <thead>\n",
              "    <tr style=\"text-align: right;\">\n",
              "      <th></th>\n",
              "      <th>comment</th>\n",
              "    </tr>\n",
              "  </thead>\n",
              "  <tbody>\n",
              "    <tr>\n",
              "      <th>1010821</th>\n",
              "      <td>one call engin pathogen report viru bit human ...</td>\n",
              "    </tr>\n",
              "    <tr>\n",
              "      <th>1010822</th>\n",
              "      <td>move typic recent noth approach emiss canada a...</td>\n",
              "    </tr>\n",
              "    <tr>\n",
              "      <th>1010823</th>\n",
              "      <td>screw disabl I got get church timeperhap athei...</td>\n",
              "    </tr>\n",
              "    <tr>\n",
              "      <th>1010824</th>\n",
              "      <td>I alway unsettl hear lot jewish peopl say isra...</td>\n",
              "    </tr>\n",
              "    <tr>\n",
              "      <th>1010825</th>\n",
              "      <td>peopl make law seem unabl grasp countri basic ...</td>\n",
              "    </tr>\n",
              "  </tbody>\n",
              "</table>\n",
              "</div>"
            ],
            "text/plain": [
              "                                                   comment\n",
              "1010821  one call engin pathogen report viru bit human ...\n",
              "1010822  move typic recent noth approach emiss canada a...\n",
              "1010823  screw disabl I got get church timeperhap athei...\n",
              "1010824  I alway unsettl hear lot jewish peopl say isra...\n",
              "1010825  peopl make law seem unabl grasp countri basic ..."
            ]
          },
          "metadata": {
            "tags": []
          },
          "execution_count": 25
        }
      ]
    },
    {
      "cell_type": "code",
      "metadata": {
        "colab": {
          "base_uri": "https://localhost:8080/"
        },
        "id": "fNoMEDy0ARUn",
        "outputId": "c254d41a-5872-4d14-e589-8f854a49fab3"
      },
      "source": [
        "combined_cleaned_comment = Pipeline([('tf_idf', tf_idf), \n",
        "                                 ('logit', logit)])\n",
        "combined_cleaned_comment.fit(combined_comment_train['comment'], train['label'])"
      ],
      "execution_count": null,
      "outputs": [
        {
          "output_type": "stream",
          "text": [
            "[Parallel(n_jobs=4)]: Using backend LokyBackend with 4 concurrent workers.\n",
            "[Parallel(n_jobs=4)]: Done   1 out of   1 | elapsed:   23.0s finished\n"
          ],
          "name": "stderr"
        },
        {
          "output_type": "execute_result",
          "data": {
            "text/plain": [
              "Pipeline(memory=None,\n",
              "         steps=[('tf_idf',\n",
              "                 TfidfVectorizer(analyzer='word', binary=False,\n",
              "                                 decode_error='strict',\n",
              "                                 dtype=<class 'numpy.float64'>,\n",
              "                                 encoding='utf-8', input='content',\n",
              "                                 lowercase=True, max_df=1.0, max_features=50000,\n",
              "                                 min_df=1, ngram_range=(1, 3), norm='l2',\n",
              "                                 preprocessor=None, smooth_idf=True,\n",
              "                                 stop_words=None, strip_accents=None,\n",
              "                                 sublinear_tf=False,\n",
              "                                 token_pattern='(?u)\\\\b\\\\w\\\\w+\\\\b',\n",
              "                                 tokenizer=None, use_idf=True,\n",
              "                                 vocabulary=None)),\n",
              "                ('logit',\n",
              "                 LogisticRegression(C=1, class_weight=None, dual=False,\n",
              "                                    fit_intercept=True, intercept_scaling=1,\n",
              "                                    l1_ratio=None, max_iter=100,\n",
              "                                    multi_class='auto', n_jobs=4, penalty='l2',\n",
              "                                    random_state=17, solver='lbfgs', tol=0.0001,\n",
              "                                    verbose=1, warm_start=False))],\n",
              "         verbose=False)"
            ]
          },
          "metadata": {
            "tags": []
          },
          "execution_count": 26
        }
      ]
    },
    {
      "cell_type": "code",
      "metadata": {
        "colab": {
          "base_uri": "https://localhost:8080/"
        },
        "id": "wFvoQkUsAZ-o",
        "outputId": "4df353b9-a550-4305-f34b-4dd83fd56ce3"
      },
      "source": [
        "valid_pred = combined_cleaned_comment.predict(combined_comment_test['comment'])\n",
        "accuracy_score(cleaned_test['label'], valid_pred)"
      ],
      "execution_count": null,
      "outputs": [
        {
          "output_type": "execute_result",
          "data": {
            "text/plain": [
              "0.6530158023592255"
            ]
          },
          "metadata": {
            "tags": []
          },
          "execution_count": 27
        }
      ]
    },
    {
      "cell_type": "code",
      "metadata": {
        "colab": {
          "base_uri": "https://localhost:8080/"
        },
        "id": "ltw7QYnkFimx",
        "outputId": "7d01af5a-8656-4c9d-bb87-f23ccae8478d"
      },
      "source": [
        "print(classification_report(cleaned_test['label'], combined_cleaned_comment.predict(combined_comment_test['comment'])))"
      ],
      "execution_count": null,
      "outputs": [
        {
          "output_type": "stream",
          "text": [
            "              precision    recall  f1-score   support\n",
            "\n",
            "           0       0.64      0.69      0.66    125804\n",
            "           1       0.66      0.62      0.64    125804\n",
            "\n",
            "    accuracy                           0.65    251608\n",
            "   macro avg       0.65      0.65      0.65    251608\n",
            "weighted avg       0.65      0.65      0.65    251608\n",
            "\n"
          ],
          "name": "stdout"
        }
      ]
    },
    {
      "cell_type": "markdown",
      "metadata": {
        "id": "vsm8sDfFgwSh"
      },
      "source": [
        "# Count-Logistic Model Trained With Combined Comments\n"
      ]
    },
    {
      "cell_type": "code",
      "metadata": {
        "id": "j3HzSGyXj7dA"
      },
      "source": [
        "count = CountVectorizer(ngram_range = (1,3),min_df = 1, max_features = 500000,lowercase=True)"
      ],
      "execution_count": null,
      "outputs": []
    },
    {
      "cell_type": "code",
      "metadata": {
        "id": "4PDEZcwAgvqD"
      },
      "source": [
        "count_logit = Pipeline([('count', count), \n",
        "                                 ('logit', logit)])"
      ],
      "execution_count": null,
      "outputs": []
    },
    {
      "cell_type": "code",
      "metadata": {
        "colab": {
          "base_uri": "https://localhost:8080/"
        },
        "id": "q_K4MMJkhJnD",
        "outputId": "18b1a4d7-8e16-4f1e-86e3-5d78f83cb5df"
      },
      "source": [
        "count_logit.fit(combined_comment_train['comment'], cleaned_train['label'])"
      ],
      "execution_count": null,
      "outputs": [
        {
          "output_type": "stream",
          "text": [
            "[Parallel(n_jobs=4)]: Using backend LokyBackend with 4 concurrent workers.\n",
            "[Parallel(n_jobs=4)]: Done   1 out of   1 | elapsed:   41.2s finished\n"
          ],
          "name": "stderr"
        },
        {
          "output_type": "execute_result",
          "data": {
            "text/plain": [
              "Pipeline(memory=None,\n",
              "         steps=[('count',\n",
              "                 CountVectorizer(analyzer='word', binary=False,\n",
              "                                 decode_error='strict',\n",
              "                                 dtype=<class 'numpy.int64'>, encoding='utf-8',\n",
              "                                 input='content', lowercase=True, max_df=1.0,\n",
              "                                 max_features=500000, min_df=1,\n",
              "                                 ngram_range=(1, 3), preprocessor=None,\n",
              "                                 stop_words=None, strip_accents=None,\n",
              "                                 token_pattern='(?u)\\\\b\\\\w\\\\w+\\\\b',\n",
              "                                 tokenizer=None, vocabulary=None)),\n",
              "                ('logit',\n",
              "                 LogisticRegression(C=1, class_weight=None, dual=False,\n",
              "                                    fit_intercept=True, intercept_scaling=1,\n",
              "                                    l1_ratio=None, max_iter=100,\n",
              "                                    multi_class='auto', n_jobs=4, penalty='l2',\n",
              "                                    random_state=17, solver='lbfgs', tol=0.0001,\n",
              "                                    verbose=1, warm_start=False))],\n",
              "         verbose=False)"
            ]
          },
          "metadata": {
            "tags": []
          },
          "execution_count": 16
        }
      ]
    },
    {
      "cell_type": "code",
      "metadata": {
        "colab": {
          "base_uri": "https://localhost:8080/"
        },
        "id": "77v1VvmWhWG2",
        "outputId": "83cefd9c-ffa5-4bbd-e243-aa38248c3ffc"
      },
      "source": [
        "accuracy_score(cleaned_test['label'], count_logit.predict(combined_comment_test['comment']))"
      ],
      "execution_count": null,
      "outputs": [
        {
          "output_type": "execute_result",
          "data": {
            "text/plain": [
              "0.6394391275317161"
            ]
          },
          "metadata": {
            "tags": []
          },
          "execution_count": 17
        }
      ]
    },
    {
      "cell_type": "code",
      "metadata": {
        "colab": {
          "base_uri": "https://localhost:8080/"
        },
        "id": "hrunOprjGJ0b",
        "outputId": "a33086bc-3e42-4941-9527-162d5fe77d86"
      },
      "source": [
        "print(classification_report(cleaned_test['label'], count_logit.predict(combined_comment_test['comment'])))"
      ],
      "execution_count": null,
      "outputs": [
        {
          "output_type": "stream",
          "text": [
            "              precision    recall  f1-score   support\n",
            "\n",
            "           0       0.63      0.68      0.65    125804\n",
            "           1       0.65      0.60      0.63    125804\n",
            "\n",
            "    accuracy                           0.64    251608\n",
            "   macro avg       0.64      0.64      0.64    251608\n",
            "weighted avg       0.64      0.64      0.64    251608\n",
            "\n"
          ],
          "name": "stdout"
        }
      ]
    },
    {
      "cell_type": "markdown",
      "metadata": {
        "id": "9S7iZY4X_Rfj"
      },
      "source": [
        "# Count-Logistic Model with Single Cleaned Comments\n"
      ]
    },
    {
      "cell_type": "code",
      "metadata": {
        "id": "7fUaAHdiBeMl"
      },
      "source": [
        "count_logit2 = Pipeline([('count', count), \n",
        "                                 ('logit', logit)])"
      ],
      "execution_count": null,
      "outputs": []
    },
    {
      "cell_type": "code",
      "metadata": {
        "colab": {
          "base_uri": "https://localhost:8080/"
        },
        "id": "2DSaT8RiETTq",
        "outputId": "b8ff0bd0-f688-45dc-fa22-383ada767fc7"
      },
      "source": [
        "count_logit2.fit(cleaned_train['comment'],cleaned_train['label'])"
      ],
      "execution_count": null,
      "outputs": [
        {
          "output_type": "stream",
          "text": [
            "[Parallel(n_jobs=4)]: Using backend LokyBackend with 4 concurrent workers.\n",
            "[Parallel(n_jobs=4)]: Done   1 out of   1 | elapsed:   26.3s finished\n"
          ],
          "name": "stderr"
        },
        {
          "output_type": "execute_result",
          "data": {
            "text/plain": [
              "Pipeline(memory=None,\n",
              "         steps=[('count',\n",
              "                 CountVectorizer(analyzer='word', binary=False,\n",
              "                                 decode_error='strict',\n",
              "                                 dtype=<class 'numpy.int64'>, encoding='utf-8',\n",
              "                                 input='content', lowercase=True, max_df=1.0,\n",
              "                                 max_features=500000, min_df=1,\n",
              "                                 ngram_range=(1, 3), preprocessor=None,\n",
              "                                 stop_words=None, strip_accents=None,\n",
              "                                 token_pattern='(?u)\\\\b\\\\w\\\\w+\\\\b',\n",
              "                                 tokenizer=None, vocabulary=None)),\n",
              "                ('logit',\n",
              "                 LogisticRegression(C=1, class_weight=None, dual=False,\n",
              "                                    fit_intercept=True, intercept_scaling=1,\n",
              "                                    l1_ratio=None, max_iter=100,\n",
              "                                    multi_class='auto', n_jobs=4, penalty='l2',\n",
              "                                    random_state=17, solver='lbfgs', tol=0.0001,\n",
              "                                    verbose=1, warm_start=False))],\n",
              "         verbose=False)"
            ]
          },
          "metadata": {
            "tags": []
          },
          "execution_count": 19
        }
      ]
    },
    {
      "cell_type": "code",
      "metadata": {
        "colab": {
          "base_uri": "https://localhost:8080/"
        },
        "id": "ddLv1-_FEi8f",
        "outputId": "d7693487-d414-4cf7-97c5-28e66d699a29"
      },
      "source": [
        "accuracy_score(cleaned_test['label'], count_logit2.predict(cleaned_test['comment']))"
      ],
      "execution_count": null,
      "outputs": [
        {
          "output_type": "execute_result",
          "data": {
            "text/plain": [
              "0.6862738863629138"
            ]
          },
          "metadata": {
            "tags": []
          },
          "execution_count": 20
        }
      ]
    },
    {
      "cell_type": "code",
      "metadata": {
        "colab": {
          "base_uri": "https://localhost:8080/"
        },
        "id": "39vXw1nHEn1H",
        "outputId": "43203ac6-1d1d-4998-a920-4c1467211b79"
      },
      "source": [
        "print(classification_report(cleaned_test['label'], count_logit2.predict(cleaned_test['comment'])))"
      ],
      "execution_count": null,
      "outputs": [
        {
          "output_type": "stream",
          "text": [
            "              precision    recall  f1-score   support\n",
            "\n",
            "           0       0.67      0.74      0.70    125804\n",
            "           1       0.71      0.63      0.67    125804\n",
            "\n",
            "    accuracy                           0.69    251608\n",
            "   macro avg       0.69      0.69      0.69    251608\n",
            "weighted avg       0.69      0.69      0.69    251608\n",
            "\n"
          ],
          "name": "stdout"
        }
      ]
    },
    {
      "cell_type": "markdown",
      "metadata": {
        "id": "V63Opl9zH8Rq"
      },
      "source": [
        "# Tfidf-Logistic Model Trained With Subreddit + Comments"
      ]
    },
    {
      "cell_type": "code",
      "metadata": {
        "id": "5X-3kmI5H79I"
      },
      "source": [
        "comment_subreddit_pipeline = Pipeline([('tf_idf', tf_idf), \n",
        "                                 ('logit', logit)])"
      ],
      "execution_count": null,
      "outputs": []
    },
    {
      "cell_type": "code",
      "metadata": {
        "id": "aBUQq9XyI-V8"
      },
      "source": [
        "comment_subreddit_train = pd.DataFrame(cleaned_train['comment']+cleaned_train['subreddit'],columns=['comment+subreddits'])\n",
        "comment_subreddit_test = pd.DataFrame(cleaned_test['comment']+cleaned_test['subreddit'],columns=['comment+subreddits'])\n"
      ],
      "execution_count": null,
      "outputs": []
    },
    {
      "cell_type": "code",
      "metadata": {
        "colab": {
          "base_uri": "https://localhost:8080/",
          "height": 419
        },
        "id": "FV46CJtkJafg",
        "outputId": "c556535e-6c56-4fd8-9c1f-654d2074a0a8"
      },
      "source": [
        "comment_subreddit_train"
      ],
      "execution_count": null,
      "outputs": [
        {
          "output_type": "execute_result",
          "data": {
            "text/html": [
              "<div>\n",
              "<style scoped>\n",
              "    .dataframe tbody tr th:only-of-type {\n",
              "        vertical-align: middle;\n",
              "    }\n",
              "\n",
              "    .dataframe tbody tr th {\n",
              "        vertical-align: top;\n",
              "    }\n",
              "\n",
              "    .dataframe thead th {\n",
              "        text-align: right;\n",
              "    }\n",
              "</style>\n",
              "<table border=\"1\" class=\"dataframe\">\n",
              "  <thead>\n",
              "    <tr style=\"text-align: right;\">\n",
              "      <th></th>\n",
              "      <th>comment+subreddits</th>\n",
              "    </tr>\n",
              "  </thead>\n",
              "  <tbody>\n",
              "    <tr>\n",
              "      <th>0</th>\n",
              "      <td>nc nhpolitics</td>\n",
              "    </tr>\n",
              "    <tr>\n",
              "      <th>1</th>\n",
              "      <td>know west team play west team east team rightnba</td>\n",
              "    </tr>\n",
              "    <tr>\n",
              "      <th>2</th>\n",
              "      <td>underdog earlier today sinc gronk announc afte...</td>\n",
              "    </tr>\n",
              "    <tr>\n",
              "      <th>3</th>\n",
              "      <td>meme funni none new york nigga oneBlackPeopleT...</td>\n",
              "    </tr>\n",
              "    <tr>\n",
              "      <th>4</th>\n",
              "      <td>could use one toolMaddenUltimateTeam</td>\n",
              "    </tr>\n",
              "    <tr>\n",
              "      <th>...</th>\n",
              "      <td>...</td>\n",
              "    </tr>\n",
              "    <tr>\n",
              "      <th>1010821</th>\n",
              "      <td>I sure iran n korea technolog creat pig bird h...</td>\n",
              "    </tr>\n",
              "    <tr>\n",
              "      <th>1010822</th>\n",
              "      <td>whatev vote greenclimate</td>\n",
              "    </tr>\n",
              "    <tr>\n",
              "      <th>1010823</th>\n",
              "      <td>perhap atheist conspiraci make christian look ...</td>\n",
              "    </tr>\n",
              "    <tr>\n",
              "      <th>1010824</th>\n",
              "      <td>slav got countri call kosovoworldnews</td>\n",
              "    </tr>\n",
              "    <tr>\n",
              "      <th>1010825</th>\n",
              "      <td>valu capit good money imprison peoplpolitics</td>\n",
              "    </tr>\n",
              "  </tbody>\n",
              "</table>\n",
              "<p>1010826 rows × 1 columns</p>\n",
              "</div>"
            ],
            "text/plain": [
              "                                        comment+subreddits\n",
              "0                                            nc nhpolitics\n",
              "1         know west team play west team east team rightnba\n",
              "2        underdog earlier today sinc gronk announc afte...\n",
              "3        meme funni none new york nigga oneBlackPeopleT...\n",
              "4                     could use one toolMaddenUltimateTeam\n",
              "...                                                    ...\n",
              "1010821  I sure iran n korea technolog creat pig bird h...\n",
              "1010822                           whatev vote greenclimate\n",
              "1010823  perhap atheist conspiraci make christian look ...\n",
              "1010824              slav got countri call kosovoworldnews\n",
              "1010825       valu capit good money imprison peoplpolitics\n",
              "\n",
              "[1010826 rows x 1 columns]"
            ]
          },
          "metadata": {
            "tags": []
          },
          "execution_count": 33
        }
      ]
    },
    {
      "cell_type": "code",
      "metadata": {
        "colab": {
          "base_uri": "https://localhost:8080/"
        },
        "id": "uo6Sj7d2Hrj9",
        "outputId": "39758c22-bdd2-42ff-8ace-26f29e65d1c0"
      },
      "source": [
        "comment_subreddit_pipeline.fit(comment_subreddit_train['comment+subreddits'],cleaned_train['label'])"
      ],
      "execution_count": null,
      "outputs": [
        {
          "output_type": "stream",
          "text": [
            "[Parallel(n_jobs=4)]: Using backend LokyBackend with 4 concurrent workers.\n",
            "[Parallel(n_jobs=4)]: Done   1 out of   1 | elapsed:   16.2s finished\n"
          ],
          "name": "stderr"
        },
        {
          "output_type": "execute_result",
          "data": {
            "text/plain": [
              "Pipeline(memory=None,\n",
              "         steps=[('tf_idf',\n",
              "                 TfidfVectorizer(analyzer='word', binary=False,\n",
              "                                 decode_error='strict',\n",
              "                                 dtype=<class 'numpy.float64'>,\n",
              "                                 encoding='utf-8', input='content',\n",
              "                                 lowercase=True, max_df=1.0, max_features=50000,\n",
              "                                 min_df=1, ngram_range=(1, 3), norm='l2',\n",
              "                                 preprocessor=None, smooth_idf=True,\n",
              "                                 stop_words=None, strip_accents=None,\n",
              "                                 sublinear_tf=False,\n",
              "                                 token_pattern='(?u)\\\\b\\\\w\\\\w+\\\\b',\n",
              "                                 tokenizer=None, use_idf=True,\n",
              "                                 vocabulary=None)),\n",
              "                ('logit',\n",
              "                 LogisticRegression(C=1, class_weight=None, dual=False,\n",
              "                                    fit_intercept=True, intercept_scaling=1,\n",
              "                                    l1_ratio=None, max_iter=100,\n",
              "                                    multi_class='auto', n_jobs=4, penalty='l2',\n",
              "                                    random_state=17, solver='lbfgs', tol=0.0001,\n",
              "                                    verbose=1, warm_start=False))],\n",
              "         verbose=False)"
            ]
          },
          "metadata": {
            "tags": []
          },
          "execution_count": 35
        }
      ]
    },
    {
      "cell_type": "code",
      "metadata": {
        "colab": {
          "base_uri": "https://localhost:8080/"
        },
        "id": "iDgDSdL0JrLU",
        "outputId": "82ef8a9c-dd98-425f-be9a-64f9a3d16ba2"
      },
      "source": [
        "accuracy_score(cleaned_test['label'], comment_subreddit_pipeline.predict(comment_subreddit_test['comment+subreddits']))"
      ],
      "execution_count": null,
      "outputs": [
        {
          "output_type": "execute_result",
          "data": {
            "text/plain": [
              "0.6718784776318718"
            ]
          },
          "metadata": {
            "tags": []
          },
          "execution_count": 36
        }
      ]
    },
    {
      "cell_type": "code",
      "metadata": {
        "colab": {
          "base_uri": "https://localhost:8080/"
        },
        "id": "gQMQNaNNGlAa",
        "outputId": "e0a847ea-f187-4363-98c9-a6954455e532"
      },
      "source": [
        "pred = comment_subreddit_pipeline.predict(comment_subreddit_test['comment+subreddits'])\n",
        "print(classification_report(cleaned_test['label'], pred))"
      ],
      "execution_count": null,
      "outputs": [
        {
          "output_type": "stream",
          "text": [
            "              precision    recall  f1-score   support\n",
            "\n",
            "           0       0.65      0.74      0.69    125804\n",
            "           1       0.70      0.61      0.65    125804\n",
            "\n",
            "    accuracy                           0.67    251608\n",
            "   macro avg       0.67      0.67      0.67    251608\n",
            "weighted avg       0.67      0.67      0.67    251608\n",
            "\n"
          ],
          "name": "stdout"
        }
      ]
    },
    {
      "cell_type": "markdown",
      "metadata": {
        "id": "BaEWxsR_Ksnm"
      },
      "source": [
        "# Count-Logistic Model Trained With Subreddit + Comments\n",
        "\n"
      ]
    },
    {
      "cell_type": "code",
      "metadata": {
        "id": "W8Zof5FmKB6p"
      },
      "source": [
        "count_logit3 = Pipeline([('count', count), \n",
        "                                 ('logit', logit)])"
      ],
      "execution_count": null,
      "outputs": []
    },
    {
      "cell_type": "code",
      "metadata": {
        "colab": {
          "base_uri": "https://localhost:8080/"
        },
        "id": "EZuse7sPLMSI",
        "outputId": "a4a096a9-9fd5-42e3-82bc-9e3da7cdcb25"
      },
      "source": [
        "count_logit3.fit(comment_subreddit_train['comment+subreddits'],cleaned_train['label'])"
      ],
      "execution_count": null,
      "outputs": [
        {
          "output_type": "stream",
          "text": [
            "[Parallel(n_jobs=4)]: Using backend LokyBackend with 4 concurrent workers.\n",
            "[Parallel(n_jobs=4)]: Done   1 out of   1 | elapsed:   25.3s finished\n"
          ],
          "name": "stderr"
        },
        {
          "output_type": "execute_result",
          "data": {
            "text/plain": [
              "Pipeline(memory=None,\n",
              "         steps=[('count',\n",
              "                 CountVectorizer(analyzer='word', binary=False,\n",
              "                                 decode_error='strict',\n",
              "                                 dtype=<class 'numpy.int64'>, encoding='utf-8',\n",
              "                                 input='content', lowercase=True, max_df=1.0,\n",
              "                                 max_features=500000, min_df=1,\n",
              "                                 ngram_range=(1, 3), preprocessor=None,\n",
              "                                 stop_words=None, strip_accents=None,\n",
              "                                 token_pattern='(?u)\\\\b\\\\w\\\\w+\\\\b',\n",
              "                                 tokenizer=None, vocabulary=None)),\n",
              "                ('logit',\n",
              "                 LogisticRegression(C=1, class_weight=None, dual=False,\n",
              "                                    fit_intercept=True, intercept_scaling=1,\n",
              "                                    l1_ratio=None, max_iter=100,\n",
              "                                    multi_class='auto', n_jobs=4, penalty='l2',\n",
              "                                    random_state=17, solver='lbfgs', tol=0.0001,\n",
              "                                    verbose=1, warm_start=False))],\n",
              "         verbose=False)"
            ]
          },
          "metadata": {
            "tags": []
          },
          "execution_count": 25
        }
      ]
    },
    {
      "cell_type": "code",
      "metadata": {
        "colab": {
          "base_uri": "https://localhost:8080/"
        },
        "id": "iDL8xHqFLXuG",
        "outputId": "ca4175dd-40f3-4f60-ad49-aaa6944be210"
      },
      "source": [
        "accuracy_score(cleaned_test['label'], count_logit3.predict(comment_subreddit_test['comment+subreddits']))"
      ],
      "execution_count": null,
      "outputs": [
        {
          "output_type": "execute_result",
          "data": {
            "text/plain": [
              "0.67359940860386"
            ]
          },
          "metadata": {
            "tags": []
          },
          "execution_count": 26
        }
      ]
    },
    {
      "cell_type": "code",
      "metadata": {
        "colab": {
          "base_uri": "https://localhost:8080/"
        },
        "id": "3utJMevZGsjj",
        "outputId": "f51a2275-af41-402a-e759-ede0f572cb6c"
      },
      "source": [
        "print(classification_report(cleaned_test['label'], count_logit3.predict(comment_subreddit_test['comment+subreddits'])))"
      ],
      "execution_count": null,
      "outputs": [
        {
          "output_type": "stream",
          "text": [
            "              precision    recall  f1-score   support\n",
            "\n",
            "           0       0.65      0.74      0.69    125804\n",
            "           1       0.70      0.60      0.65    125804\n",
            "\n",
            "    accuracy                           0.67    251608\n",
            "   macro avg       0.68      0.67      0.67    251608\n",
            "weighted avg       0.68      0.67      0.67    251608\n",
            "\n"
          ],
          "name": "stdout"
        }
      ]
    },
    {
      "cell_type": "markdown",
      "metadata": {
        "id": "L8EGd5iCtRXX"
      },
      "source": [
        "# GridSearchCV On Previous Best Performed Model - Tfidf-Logistic Model Trained With Single Cleaned Comments"
      ]
    },
    {
      "cell_type": "code",
      "metadata": {
        "id": "BpI1synOs2bB"
      },
      "source": [
        "C = np.logspace(-4, 4, 20)\n",
        "penalty = ['l1', 'l2']\n",
        "param_grid = dict(logit__C=C,\n",
        "                  logit__penalty=penalty)"
      ],
      "execution_count": null,
      "outputs": []
    },
    {
      "cell_type": "code",
      "metadata": {
        "id": "Oq66Py5wtyHO"
      },
      "source": [
        "best_pipeline = Pipeline([('tf_idf', tf_idf), \n",
        "                                 ('logit', logit)])"
      ],
      "execution_count": null,
      "outputs": []
    },
    {
      "cell_type": "code",
      "metadata": {
        "id": "NE5RKAJHuIj3"
      },
      "source": [
        "best_pipeline_gscv = GridSearchCV(best_pipeline, param_grid, verbose = 1, n_jobs =4, cv = 10, refit = True)"
      ],
      "execution_count": null,
      "outputs": []
    },
    {
      "cell_type": "code",
      "metadata": {
        "colab": {
          "base_uri": "https://localhost:8080/"
        },
        "id": "22Dy8_28u1Kc",
        "outputId": "37558acc-d0da-47f1-d64a-abcec74507e9"
      },
      "source": [
        "best_pipeline_gscv.fit(cleaned_train['comment'], cleaned_train['label'])"
      ],
      "execution_count": null,
      "outputs": [
        {
          "output_type": "stream",
          "text": [
            "Fitting 10 folds for each of 40 candidates, totalling 400 fits\n"
          ],
          "name": "stdout"
        },
        {
          "output_type": "stream",
          "text": [
            "[Parallel(n_jobs=4)]: Using backend LokyBackend with 4 concurrent workers.\n",
            "[Parallel(n_jobs=4)]: Done  42 tasks      | elapsed: 26.8min\n",
            "[Parallel(n_jobs=4)]: Done 192 tasks      | elapsed: 119.2min\n",
            "[Parallel(n_jobs=4)]: Done 400 out of 400 | elapsed: 259.0min finished\n",
            "[Parallel(n_jobs=4)]: Using backend LokyBackend with 4 concurrent workers.\n",
            "[Parallel(n_jobs=4)]: Done   1 out of   1 | elapsed:   15.8s finished\n"
          ],
          "name": "stderr"
        },
        {
          "output_type": "execute_result",
          "data": {
            "text/plain": [
              "GridSearchCV(cv=10, error_score=nan,\n",
              "             estimator=Pipeline(memory=None,\n",
              "                                steps=[('tf_idf',\n",
              "                                        TfidfVectorizer(analyzer='word',\n",
              "                                                        binary=False,\n",
              "                                                        decode_error='strict',\n",
              "                                                        dtype=<class 'numpy.float64'>,\n",
              "                                                        encoding='utf-8',\n",
              "                                                        input='content',\n",
              "                                                        lowercase=True,\n",
              "                                                        max_df=1.0,\n",
              "                                                        max_features=50000,\n",
              "                                                        min_df=1,\n",
              "                                                        ngram_range=(1, 3),\n",
              "                                                        norm='l2',\n",
              "                                                        preprocessor=None,\n",
              "                                                        smooth_idf=True,\n",
              "                                                        stop_words=None,\n",
              "                                                        strip_...\n",
              "       4.83293024e-03, 1.27427499e-02, 3.35981829e-02, 8.85866790e-02,\n",
              "       2.33572147e-01, 6.15848211e-01, 1.62377674e+00, 4.28133240e+00,\n",
              "       1.12883789e+01, 2.97635144e+01, 7.84759970e+01, 2.06913808e+02,\n",
              "       5.45559478e+02, 1.43844989e+03, 3.79269019e+03, 1.00000000e+04]),\n",
              "                         'logit__penalty': ['l1', 'l2']},\n",
              "             pre_dispatch='2*n_jobs', refit=True, return_train_score=False,\n",
              "             scoring=None, verbose=1)"
            ]
          },
          "metadata": {
            "tags": []
          },
          "execution_count": 17
        }
      ]
    },
    {
      "cell_type": "code",
      "metadata": {
        "colab": {
          "base_uri": "https://localhost:8080/"
        },
        "id": "7fdAGqeiMznR",
        "outputId": "078ff914-ddde-4775-801c-4d5339bc55dd"
      },
      "source": [
        "best_pipeline_gscv.best_params_"
      ],
      "execution_count": null,
      "outputs": [
        {
          "output_type": "execute_result",
          "data": {
            "text/plain": [
              "{'logit__C': 0.615848211066026, 'logit__penalty': 'l2'}"
            ]
          },
          "metadata": {
            "tags": []
          },
          "execution_count": 18
        }
      ]
    },
    {
      "cell_type": "code",
      "metadata": {
        "colab": {
          "base_uri": "https://localhost:8080/"
        },
        "id": "DATp7vLxNbso",
        "outputId": "df9b63eb-e94c-4d9a-e56c-325e52f04147"
      },
      "source": [
        "print(classification_report(cleaned_test['label'], best_pipeline_gscv.predict(cleaned_test['comment'])))"
      ],
      "execution_count": null,
      "outputs": [
        {
          "output_type": "stream",
          "text": [
            "              precision    recall  f1-score   support\n",
            "\n",
            "           0       0.67      0.74      0.70    125804\n",
            "           1       0.71      0.64      0.67    125804\n",
            "\n",
            "    accuracy                           0.69    251608\n",
            "   macro avg       0.69      0.69      0.69    251608\n",
            "weighted avg       0.69      0.69      0.69    251608\n",
            "\n"
          ],
          "name": "stdout"
        }
      ]
    },
    {
      "cell_type": "code",
      "metadata": {
        "colab": {
          "base_uri": "https://localhost:8080/"
        },
        "id": "5AxD_YO0fZ2f",
        "outputId": "06a550aa-0676-400a-d579-4ec36d84419f"
      },
      "source": [
        "accuracy_score(cleaned_test['label'], best_pipeline_gscv.predict(cleaned_test['comment']))"
      ],
      "execution_count": null,
      "outputs": [
        {
          "output_type": "execute_result",
          "data": {
            "text/plain": [
              "0.6884518775237671"
            ]
          },
          "metadata": {
            "tags": []
          },
          "execution_count": 24
        }
      ]
    },
    {
      "cell_type": "code",
      "metadata": {
        "id": "WloKBxliFcho"
      },
      "source": [
        ""
      ],
      "execution_count": null,
      "outputs": []
    }
  ]
}