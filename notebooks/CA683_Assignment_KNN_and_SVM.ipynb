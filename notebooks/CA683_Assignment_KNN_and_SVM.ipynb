{
 "cells": [
  {
   "cell_type": "markdown",
   "metadata": {},
   "source": [
    "# *Sarcasm Detection using KNN*"
   ]
  },
  {
   "cell_type": "code",
   "execution_count": 25,
   "metadata": {
    "executionInfo": {
     "elapsed": 3220,
     "status": "ok",
     "timestamp": 1616169450825,
     "user": {
      "displayName": "Vipin Bairagi",
      "photoUrl": "",
      "userId": "14057548591495457744"
     },
     "user_tz": 0
    },
    "id": "mkOlbf6Ccgkl"
   },
   "outputs": [],
   "source": [
    "import numpy as np\n",
    "import pandas as pd\n",
    "import seaborn as sns\n",
    "import matplotlib.pyplot as plt\n",
    "%matplotlib inline"
   ]
  },
  {
   "cell_type": "code",
   "execution_count": 26,
   "metadata": {
    "executionInfo": {
     "elapsed": 6192,
     "status": "ok",
     "timestamp": 1616169454997,
     "user": {
      "displayName": "Vipin Bairagi",
      "photoUrl": "",
      "userId": "14057548591495457744"
     },
     "user_tz": 0
    },
    "id": "BMi7eCy1cgk1"
   },
   "outputs": [],
   "source": [
    "import spacy\n",
    "import nltk\n",
    "from nltk.stem import PorterStemmer\n",
    "from nltk.stem import WordNetLemmatizer\n",
    "from sklearn.feature_extraction.text import TfidfTransformer\n",
    "from sklearn.feature_extraction.text import CountVectorizer\n",
    "from sklearn.model_selection import train_test_split\n",
    "from sklearn import metrics, neighbors\n",
    "from sklearn.metrics import confusion_matrix\n",
    "from sklearn.metrics import classification_report\n",
    "from sklearn.metrics import accuracy_score"
   ]
  },
  {
   "cell_type": "code",
   "execution_count": 4,
   "metadata": {
    "colab": {
     "base_uri": "https://localhost:8080/"
    },
    "executionInfo": {
     "elapsed": 883,
     "status": "ok",
     "timestamp": 1616169484414,
     "user": {
      "displayName": "Vipin Bairagi",
      "photoUrl": "",
      "userId": "14057548591495457744"
     },
     "user_tz": 0
    },
    "id": "5cfomieweTpy",
    "outputId": "8651b41c-dd57-4730-aab6-899df4f3a2c3"
   },
   "outputs": [
    {
     "name": "stdout",
     "output_type": "stream",
     "text": [
      "Drive already mounted at /content/drive; to attempt to forcibly remount, call drive.mount(\"/content/drive\", force_remount=True).\n"
     ]
    }
   ],
   "source": [
    "from google.colab import drive\n",
    "drive.mount('/content/drive')"
   ]
  },
  {
   "cell_type": "code",
   "execution_count": 5,
   "metadata": {
    "executionInfo": {
     "elapsed": 17952,
     "status": "ok",
     "timestamp": 1616169504662,
     "user": {
      "displayName": "Vipin Bairagi",
      "photoUrl": "",
      "userId": "14057548591495457744"
     },
     "user_tz": 0
    },
    "id": "KF5yT6snlyYv"
   },
   "outputs": [],
   "source": [
    "header = pd.read_csv(r\"drive/My Drive/Colab_Notebooks/Data/key.csv\",sep='\\t',header=None).transpose()[0].tolist()\n",
    "train = pd.read_csv(r\"drive/My Drive/Colab_Notebooks/Data/train-balanced.csv\",sep='\\t',names = header)\n",
    "test = pd.read_csv(r\"drive/My Drive/Colab_Notebooks/Data/test-balanced.csv\",sep='\\t',names = header)"
   ]
  },
  {
   "cell_type": "code",
   "execution_count": 4,
   "metadata": {},
   "outputs": [],
   "source": [
    "header = pd.read_csv(r\"C:\\Users\\Vipre\\Data\\key.csv\",sep='\\t',header=None).transpose()[0].tolist()\n",
    "test = pd.read_csv(r\"C:\\Users\\Vipre\\Data\\test-balanced.csv\",sep='\\t',names = header)\n",
    "train = pd.read_csv(r\"C:\\Users\\Vipre\\Data\\train-balanced.csv\",sep='\\t',names = header)"
   ]
  },
  {
   "cell_type": "code",
   "execution_count": 5,
   "metadata": {
    "colab": {
     "base_uri": "https://localhost:8080/",
     "height": 289
    },
    "executionInfo": {
     "elapsed": 16378,
     "status": "ok",
     "timestamp": 1616169504666,
     "user": {
      "displayName": "Vipin Bairagi",
      "photoUrl": "",
      "userId": "14057548591495457744"
     },
     "user_tz": 0
    },
    "id": "gy8wyZIBcgk6",
    "outputId": "cad4315e-4689-4498-8afe-d556b3c7eac2"
   },
   "outputs": [
    {
     "name": "stdout",
     "output_type": "stream",
     "text": [
      "<class 'pandas.core.frame.DataFrame'>\n",
      "RangeIndex: 251608 entries, 0 to 251607\n",
      "Data columns (total 10 columns):\n",
      " #   Column          Non-Null Count   Dtype \n",
      "---  ------          --------------   ----- \n",
      " 0   label           251608 non-null  int64 \n",
      " 1   comment         251594 non-null  object\n",
      " 2   author          251608 non-null  object\n",
      " 3   subreddit       251608 non-null  object\n",
      " 4   score           251608 non-null  int64 \n",
      " 5   ups             251608 non-null  int64 \n",
      " 6   downs           251608 non-null  int64 \n",
      " 7   date            251608 non-null  object\n",
      " 8   created_utc     251608 non-null  int64 \n",
      " 9   parent_comment  251608 non-null  object\n",
      "dtypes: int64(5), object(5)\n",
      "memory usage: 19.2+ MB\n"
     ]
    },
    {
     "data": {
      "text/html": [
       "<div>\n",
       "<style scoped>\n",
       "    .dataframe tbody tr th:only-of-type {\n",
       "        vertical-align: middle;\n",
       "    }\n",
       "\n",
       "    .dataframe tbody tr th {\n",
       "        vertical-align: top;\n",
       "    }\n",
       "\n",
       "    .dataframe thead th {\n",
       "        text-align: right;\n",
       "    }\n",
       "</style>\n",
       "<table border=\"1\" class=\"dataframe\">\n",
       "  <thead>\n",
       "    <tr style=\"text-align: right;\">\n",
       "      <th></th>\n",
       "      <th>label</th>\n",
       "      <th>comment</th>\n",
       "      <th>author</th>\n",
       "      <th>subreddit</th>\n",
       "      <th>score</th>\n",
       "      <th>ups</th>\n",
       "      <th>downs</th>\n",
       "      <th>date</th>\n",
       "      <th>created_utc</th>\n",
       "      <th>parent_comment</th>\n",
       "    </tr>\n",
       "  </thead>\n",
       "  <tbody>\n",
       "    <tr>\n",
       "      <th>0</th>\n",
       "      <td>0</td>\n",
       "      <td>Actually most of her supporters and sane peopl...</td>\n",
       "      <td>Quinnjester</td>\n",
       "      <td>politics</td>\n",
       "      <td>3</td>\n",
       "      <td>3</td>\n",
       "      <td>0</td>\n",
       "      <td>2016-09</td>\n",
       "      <td>1473569605</td>\n",
       "      <td>Hillary's Surrogotes Told to Blame Media for '...</td>\n",
       "    </tr>\n",
       "    <tr>\n",
       "      <th>1</th>\n",
       "      <td>0</td>\n",
       "      <td>They can't survive without an echo chamber whi...</td>\n",
       "      <td>TheGettysburgAddress</td>\n",
       "      <td>The_Donald</td>\n",
       "      <td>13</td>\n",
       "      <td>-1</td>\n",
       "      <td>-1</td>\n",
       "      <td>2016-11</td>\n",
       "      <td>1478788413</td>\n",
       "      <td>Thank God Liberals like to live in concentrate...</td>\n",
       "    </tr>\n",
       "    <tr>\n",
       "      <th>2</th>\n",
       "      <td>0</td>\n",
       "      <td>you're pretty cute yourself 1729 total</td>\n",
       "      <td>Sempiternally_free</td>\n",
       "      <td>2007scape</td>\n",
       "      <td>8</td>\n",
       "      <td>-1</td>\n",
       "      <td>-1</td>\n",
       "      <td>2016-11</td>\n",
       "      <td>1478042903</td>\n",
       "      <td>Saw this cutie training his Attack today...</td>\n",
       "    </tr>\n",
       "    <tr>\n",
       "      <th>3</th>\n",
       "      <td>0</td>\n",
       "      <td>If you kill me you'll crash the meme market</td>\n",
       "      <td>Catacomb82</td>\n",
       "      <td>AskReddit</td>\n",
       "      <td>2</td>\n",
       "      <td>-1</td>\n",
       "      <td>-1</td>\n",
       "      <td>2016-10</td>\n",
       "      <td>1477412597</td>\n",
       "      <td>If you were locked in a room with 49 other peo...</td>\n",
       "    </tr>\n",
       "    <tr>\n",
       "      <th>4</th>\n",
       "      <td>0</td>\n",
       "      <td>I bet he wrote that last message as he was sob...</td>\n",
       "      <td>Dorian-throwaway</td>\n",
       "      <td>niceguys</td>\n",
       "      <td>5</td>\n",
       "      <td>-1</td>\n",
       "      <td>-1</td>\n",
       "      <td>2016-11</td>\n",
       "      <td>1477962278</td>\n",
       "      <td>You're not even that pretty!</td>\n",
       "    </tr>\n",
       "  </tbody>\n",
       "</table>\n",
       "</div>"
      ],
      "text/plain": [
       "   label                                            comment  \\\n",
       "0      0  Actually most of her supporters and sane peopl...   \n",
       "1      0  They can't survive without an echo chamber whi...   \n",
       "2      0             you're pretty cute yourself 1729 total   \n",
       "3      0        If you kill me you'll crash the meme market   \n",
       "4      0  I bet he wrote that last message as he was sob...   \n",
       "\n",
       "                 author   subreddit  score  ups  downs     date  created_utc  \\\n",
       "0           Quinnjester    politics      3    3      0  2016-09   1473569605   \n",
       "1  TheGettysburgAddress  The_Donald     13   -1     -1  2016-11   1478788413   \n",
       "2    Sempiternally_free   2007scape      8   -1     -1  2016-11   1478042903   \n",
       "3            Catacomb82   AskReddit      2   -1     -1  2016-10   1477412597   \n",
       "4      Dorian-throwaway    niceguys      5   -1     -1  2016-11   1477962278   \n",
       "\n",
       "                                      parent_comment  \n",
       "0  Hillary's Surrogotes Told to Blame Media for '...  \n",
       "1  Thank God Liberals like to live in concentrate...  \n",
       "2        Saw this cutie training his Attack today...  \n",
       "3  If you were locked in a room with 49 other peo...  \n",
       "4                       You're not even that pretty!  "
      ]
     },
     "execution_count": 5,
     "metadata": {},
     "output_type": "execute_result"
    }
   ],
   "source": [
    "test.info()\n",
    "test.head()"
   ]
  },
  {
   "cell_type": "code",
   "execution_count": 6,
   "metadata": {
    "colab": {
     "base_uri": "https://localhost:8080/",
     "height": 289
    },
    "executionInfo": {
     "elapsed": 15063,
     "status": "ok",
     "timestamp": 1616169504668,
     "user": {
      "displayName": "Vipin Bairagi",
      "photoUrl": "",
      "userId": "14057548591495457744"
     },
     "user_tz": 0
    },
    "id": "EzDzV7r1cgk9",
    "outputId": "b1c900fa-72e4-4b2e-837e-46f511948a1a"
   },
   "outputs": [
    {
     "name": "stdout",
     "output_type": "stream",
     "text": [
      "<class 'pandas.core.frame.DataFrame'>\n",
      "RangeIndex: 1010826 entries, 0 to 1010825\n",
      "Data columns (total 10 columns):\n",
      " #   Column          Non-Null Count    Dtype \n",
      "---  ------          --------------    ----- \n",
      " 0   label           1010826 non-null  int64 \n",
      " 1   comment         1010773 non-null  object\n",
      " 2   author          1010826 non-null  object\n",
      " 3   subreddit       1010826 non-null  object\n",
      " 4   score           1010826 non-null  int64 \n",
      " 5   ups             1010826 non-null  int64 \n",
      " 6   downs           1010826 non-null  int64 \n",
      " 7   date            1010826 non-null  object\n",
      " 8   created_utc     1010826 non-null  int64 \n",
      " 9   parent_comment  1010826 non-null  object\n",
      "dtypes: int64(5), object(5)\n",
      "memory usage: 77.1+ MB\n"
     ]
    },
    {
     "data": {
      "text/html": [
       "<div>\n",
       "<style scoped>\n",
       "    .dataframe tbody tr th:only-of-type {\n",
       "        vertical-align: middle;\n",
       "    }\n",
       "\n",
       "    .dataframe tbody tr th {\n",
       "        vertical-align: top;\n",
       "    }\n",
       "\n",
       "    .dataframe thead th {\n",
       "        text-align: right;\n",
       "    }\n",
       "</style>\n",
       "<table border=\"1\" class=\"dataframe\">\n",
       "  <thead>\n",
       "    <tr style=\"text-align: right;\">\n",
       "      <th></th>\n",
       "      <th>label</th>\n",
       "      <th>comment</th>\n",
       "      <th>author</th>\n",
       "      <th>subreddit</th>\n",
       "      <th>score</th>\n",
       "      <th>ups</th>\n",
       "      <th>downs</th>\n",
       "      <th>date</th>\n",
       "      <th>created_utc</th>\n",
       "      <th>parent_comment</th>\n",
       "    </tr>\n",
       "  </thead>\n",
       "  <tbody>\n",
       "    <tr>\n",
       "      <th>0</th>\n",
       "      <td>0</td>\n",
       "      <td>NC and NH.</td>\n",
       "      <td>Trumpbart</td>\n",
       "      <td>politics</td>\n",
       "      <td>2</td>\n",
       "      <td>-1</td>\n",
       "      <td>-1</td>\n",
       "      <td>2016-10</td>\n",
       "      <td>1476662123</td>\n",
       "      <td>Yeah, I get that argument. At this point, I'd ...</td>\n",
       "    </tr>\n",
       "    <tr>\n",
       "      <th>1</th>\n",
       "      <td>0</td>\n",
       "      <td>You do know west teams play against west teams...</td>\n",
       "      <td>Shbshb906</td>\n",
       "      <td>nba</td>\n",
       "      <td>-4</td>\n",
       "      <td>-1</td>\n",
       "      <td>-1</td>\n",
       "      <td>2016-11</td>\n",
       "      <td>1477959850</td>\n",
       "      <td>The blazers and Mavericks (The wests 5 and 6 s...</td>\n",
       "    </tr>\n",
       "    <tr>\n",
       "      <th>2</th>\n",
       "      <td>0</td>\n",
       "      <td>They were underdogs earlier today, but since G...</td>\n",
       "      <td>Creepeth</td>\n",
       "      <td>nfl</td>\n",
       "      <td>3</td>\n",
       "      <td>3</td>\n",
       "      <td>0</td>\n",
       "      <td>2016-09</td>\n",
       "      <td>1474580737</td>\n",
       "      <td>They're favored to win.</td>\n",
       "    </tr>\n",
       "    <tr>\n",
       "      <th>3</th>\n",
       "      <td>0</td>\n",
       "      <td>This meme isn't funny none of the \"new york ni...</td>\n",
       "      <td>icebrotha</td>\n",
       "      <td>BlackPeopleTwitter</td>\n",
       "      <td>-8</td>\n",
       "      <td>-1</td>\n",
       "      <td>-1</td>\n",
       "      <td>2016-10</td>\n",
       "      <td>1476824627</td>\n",
       "      <td>deadass don't kill my buzz</td>\n",
       "    </tr>\n",
       "    <tr>\n",
       "      <th>4</th>\n",
       "      <td>0</td>\n",
       "      <td>I could use one of those tools.</td>\n",
       "      <td>cush2push</td>\n",
       "      <td>MaddenUltimateTeam</td>\n",
       "      <td>6</td>\n",
       "      <td>-1</td>\n",
       "      <td>-1</td>\n",
       "      <td>2016-12</td>\n",
       "      <td>1483117213</td>\n",
       "      <td>Yep can confirm I saw the tool they use for th...</td>\n",
       "    </tr>\n",
       "  </tbody>\n",
       "</table>\n",
       "</div>"
      ],
      "text/plain": [
       "   label                                            comment     author  \\\n",
       "0      0                                         NC and NH.  Trumpbart   \n",
       "1      0  You do know west teams play against west teams...  Shbshb906   \n",
       "2      0  They were underdogs earlier today, but since G...   Creepeth   \n",
       "3      0  This meme isn't funny none of the \"new york ni...  icebrotha   \n",
       "4      0                    I could use one of those tools.  cush2push   \n",
       "\n",
       "            subreddit  score  ups  downs     date  created_utc  \\\n",
       "0            politics      2   -1     -1  2016-10   1476662123   \n",
       "1                 nba     -4   -1     -1  2016-11   1477959850   \n",
       "2                 nfl      3    3      0  2016-09   1474580737   \n",
       "3  BlackPeopleTwitter     -8   -1     -1  2016-10   1476824627   \n",
       "4  MaddenUltimateTeam      6   -1     -1  2016-12   1483117213   \n",
       "\n",
       "                                      parent_comment  \n",
       "0  Yeah, I get that argument. At this point, I'd ...  \n",
       "1  The blazers and Mavericks (The wests 5 and 6 s...  \n",
       "2                            They're favored to win.  \n",
       "3                         deadass don't kill my buzz  \n",
       "4  Yep can confirm I saw the tool they use for th...  "
      ]
     },
     "execution_count": 6,
     "metadata": {},
     "output_type": "execute_result"
    }
   ],
   "source": [
    "train.info()\n",
    "train.head()"
   ]
  },
  {
   "cell_type": "code",
   "execution_count": 10,
   "metadata": {
    "colab": {
     "base_uri": "https://localhost:8080/",
     "height": 297
    },
    "executionInfo": {
     "elapsed": 6157,
     "status": "ok",
     "timestamp": 1616169504670,
     "user": {
      "displayName": "Vipin Bairagi",
      "photoUrl": "",
      "userId": "14057548591495457744"
     },
     "user_tz": 0
    },
    "id": "VmgPMor7cglJ",
    "outputId": "1d0032a0-4bbf-4953-c4ad-6e8bb7f6b4d5"
   },
   "outputs": [
    {
     "data": {
      "text/html": [
       "<div>\n",
       "<style scoped>\n",
       "    .dataframe tbody tr th:only-of-type {\n",
       "        vertical-align: middle;\n",
       "    }\n",
       "\n",
       "    .dataframe tbody tr th {\n",
       "        vertical-align: top;\n",
       "    }\n",
       "\n",
       "    .dataframe thead th {\n",
       "        text-align: right;\n",
       "    }\n",
       "</style>\n",
       "<table border=\"1\" class=\"dataframe\">\n",
       "  <thead>\n",
       "    <tr style=\"text-align: right;\">\n",
       "      <th></th>\n",
       "      <th>label</th>\n",
       "      <th>score</th>\n",
       "      <th>ups</th>\n",
       "      <th>downs</th>\n",
       "      <th>created_utc</th>\n",
       "    </tr>\n",
       "  </thead>\n",
       "  <tbody>\n",
       "    <tr>\n",
       "      <th>count</th>\n",
       "      <td>1010826.0</td>\n",
       "      <td>1.010826e+06</td>\n",
       "      <td>1.010826e+06</td>\n",
       "      <td>1.010826e+06</td>\n",
       "      <td>1.010826e+06</td>\n",
       "    </tr>\n",
       "    <tr>\n",
       "      <th>mean</th>\n",
       "      <td>0.5</td>\n",
       "      <td>6.885676e+00</td>\n",
       "      <td>5.498885e+00</td>\n",
       "      <td>-1.458629e-01</td>\n",
       "      <td>1.438684e+09</td>\n",
       "    </tr>\n",
       "    <tr>\n",
       "      <th>std</th>\n",
       "      <td>0.5</td>\n",
       "      <td>4.834288e+01</td>\n",
       "      <td>4.127297e+01</td>\n",
       "      <td>3.529689e-01</td>\n",
       "      <td>3.945812e+07</td>\n",
       "    </tr>\n",
       "    <tr>\n",
       "      <th>min</th>\n",
       "      <td>0.0</td>\n",
       "      <td>-5.070000e+02</td>\n",
       "      <td>-5.070000e+02</td>\n",
       "      <td>-1.000000e+00</td>\n",
       "      <td>1.230851e+09</td>\n",
       "    </tr>\n",
       "    <tr>\n",
       "      <th>25%</th>\n",
       "      <td>0.0</td>\n",
       "      <td>1.000000e+00</td>\n",
       "      <td>0.000000e+00</td>\n",
       "      <td>0.000000e+00</td>\n",
       "      <td>1.420734e+09</td>\n",
       "    </tr>\n",
       "    <tr>\n",
       "      <th>50%</th>\n",
       "      <td>0.5</td>\n",
       "      <td>2.000000e+00</td>\n",
       "      <td>1.000000e+00</td>\n",
       "      <td>0.000000e+00</td>\n",
       "      <td>1.448915e+09</td>\n",
       "    </tr>\n",
       "    <tr>\n",
       "      <th>75%</th>\n",
       "      <td>1.0</td>\n",
       "      <td>4.000000e+00</td>\n",
       "      <td>3.000000e+00</td>\n",
       "      <td>0.000000e+00</td>\n",
       "      <td>1.468588e+09</td>\n",
       "    </tr>\n",
       "    <tr>\n",
       "      <th>max</th>\n",
       "      <td>1.0</td>\n",
       "      <td>9.070000e+03</td>\n",
       "      <td>5.163000e+03</td>\n",
       "      <td>0.000000e+00</td>\n",
       "      <td>1.483229e+09</td>\n",
       "    </tr>\n",
       "  </tbody>\n",
       "</table>\n",
       "</div>"
      ],
      "text/plain": [
       "           label         score           ups         downs   created_utc\n",
       "count  1010826.0  1.010826e+06  1.010826e+06  1.010826e+06  1.010826e+06\n",
       "mean         0.5  6.885676e+00  5.498885e+00 -1.458629e-01  1.438684e+09\n",
       "std          0.5  4.834288e+01  4.127297e+01  3.529689e-01  3.945812e+07\n",
       "min          0.0 -5.070000e+02 -5.070000e+02 -1.000000e+00  1.230851e+09\n",
       "25%          0.0  1.000000e+00  0.000000e+00  0.000000e+00  1.420734e+09\n",
       "50%          0.5  2.000000e+00  1.000000e+00  0.000000e+00  1.448915e+09\n",
       "75%          1.0  4.000000e+00  3.000000e+00  0.000000e+00  1.468588e+09\n",
       "max          1.0  9.070000e+03  5.163000e+03  0.000000e+00  1.483229e+09"
      ]
     },
     "execution_count": 10,
     "metadata": {},
     "output_type": "execute_result"
    }
   ],
   "source": [
    "train.describe()"
   ]
  },
  {
   "cell_type": "code",
   "execution_count": 11,
   "metadata": {
    "colab": {
     "base_uri": "https://localhost:8080/"
    },
    "executionInfo": {
     "elapsed": 5288,
     "status": "ok",
     "timestamp": 1616169504672,
     "user": {
      "displayName": "Vipin Bairagi",
      "photoUrl": "",
      "userId": "14057548591495457744"
     },
     "user_tz": 0
    },
    "id": "k-bupPEpcglK",
    "outputId": "be14bf98-1209-4736-aedf-f0e797b972df"
   },
   "outputs": [
    {
     "data": {
      "text/plain": [
       "10"
      ]
     },
     "execution_count": 11,
     "metadata": {},
     "output_type": "execute_result"
    }
   ],
   "source": [
    "len(train.columns)"
   ]
  },
  {
   "cell_type": "code",
   "execution_count": 12,
   "metadata": {
    "colab": {
     "base_uri": "https://localhost:8080/"
    },
    "executionInfo": {
     "elapsed": 4637,
     "status": "ok",
     "timestamp": 1616169504673,
     "user": {
      "displayName": "Vipin Bairagi",
      "photoUrl": "",
      "userId": "14057548591495457744"
     },
     "user_tz": 0
    },
    "id": "KY9tVH9KcglL",
    "outputId": "c6d07436-51b3-48dd-f72d-c36471c47e31"
   },
   "outputs": [
    {
     "data": {
      "text/plain": [
       "1010826"
      ]
     },
     "execution_count": 12,
     "metadata": {},
     "output_type": "execute_result"
    }
   ],
   "source": [
    "len(train['label'])"
   ]
  },
  {
   "cell_type": "code",
   "execution_count": 29,
   "metadata": {
    "colab": {
     "base_uri": "https://localhost:8080/"
    },
    "executionInfo": {
     "elapsed": 3938,
     "status": "ok",
     "timestamp": 1616169504674,
     "user": {
      "displayName": "Vipin Bairagi",
      "photoUrl": "",
      "userId": "14057548591495457744"
     },
     "user_tz": 0
    },
    "id": "rNiEQO4AOGQs",
    "outputId": "94e85e9a-95c6-4c29-99d2-7e5f02f27ba9"
   },
   "outputs": [
    {
     "data": {
      "text/plain": [
       "14878"
      ]
     },
     "execution_count": 29,
     "metadata": {},
     "output_type": "execute_result"
    }
   ],
   "source": [
    "train['subreddit'].nunique()"
   ]
  },
  {
   "cell_type": "code",
   "execution_count": 14,
   "metadata": {
    "colab": {
     "base_uri": "https://localhost:8080/"
    },
    "executionInfo": {
     "elapsed": 3224,
     "status": "ok",
     "timestamp": 1616169504675,
     "user": {
      "displayName": "Vipin Bairagi",
      "photoUrl": "",
      "userId": "14057548591495457744"
     },
     "user_tz": 0
    },
    "id": "ysSjpTlYyw4J",
    "outputId": "6962d9d4-ab22-4608-9694-d004108b968e"
   },
   "outputs": [
    {
     "data": {
      "text/plain": [
       "1    505413\n",
       "0    505413\n",
       "Name: label, dtype: int64"
      ]
     },
     "execution_count": 14,
     "metadata": {},
     "output_type": "execute_result"
    }
   ],
   "source": [
    "train['label'].value_counts()"
   ]
  },
  {
   "cell_type": "code",
   "execution_count": 15,
   "metadata": {
    "colab": {
     "base_uri": "https://localhost:8080/"
    },
    "executionInfo": {
     "elapsed": 2937,
     "status": "ok",
     "timestamp": 1616169505070,
     "user": {
      "displayName": "Vipin Bairagi",
      "photoUrl": "",
      "userId": "14057548591495457744"
     },
     "user_tz": 0
    },
    "id": "NOVPNKntzL9L",
    "outputId": "41bc8efd-649e-4f93-c17b-c0b24768789c"
   },
   "outputs": [
    {
     "data": {
      "text/plain": [
       "962294"
      ]
     },
     "execution_count": 15,
     "metadata": {},
     "output_type": "execute_result"
    }
   ],
   "source": [
    "train['comment'].nunique()"
   ]
  },
  {
   "cell_type": "code",
   "execution_count": 16,
   "metadata": {
    "colab": {
     "base_uri": "https://localhost:8080/"
    },
    "executionInfo": {
     "elapsed": 2135,
     "status": "ok",
     "timestamp": 1616169505071,
     "user": {
      "displayName": "Vipin Bairagi",
      "photoUrl": "",
      "userId": "14057548591495457744"
     },
     "user_tz": 0
    },
    "id": "OcKBePKecglM",
    "outputId": "dfd9e711-bacb-4360-a5ea-f6d2b6457f9c"
   },
   "outputs": [
    {
     "data": {
      "text/plain": [
       "label              0\n",
       "comment           53\n",
       "author             0\n",
       "subreddit          0\n",
       "score              0\n",
       "ups                0\n",
       "downs              0\n",
       "date               0\n",
       "created_utc        0\n",
       "parent_comment     0\n",
       "dtype: int64"
      ]
     },
     "execution_count": 16,
     "metadata": {},
     "output_type": "execute_result"
    }
   ],
   "source": [
    "train.isnull().sum()"
   ]
  },
  {
   "cell_type": "code",
   "execution_count": 17,
   "metadata": {
    "colab": {
     "base_uri": "https://localhost:8080/"
    },
    "executionInfo": {
     "elapsed": 2045,
     "status": "ok",
     "timestamp": 1616169505648,
     "user": {
      "displayName": "Vipin Bairagi",
      "photoUrl": "",
      "userId": "14057548591495457744"
     },
     "user_tz": 0
    },
    "id": "5PKKx49GzWIY",
    "outputId": "b69f47cf-440d-4bab-d991-8dde96f0dd61"
   },
   "outputs": [
    {
     "data": {
      "text/plain": [
       "label              0\n",
       "comment           14\n",
       "author             0\n",
       "subreddit          0\n",
       "score              0\n",
       "ups                0\n",
       "downs              0\n",
       "date               0\n",
       "created_utc        0\n",
       "parent_comment     0\n",
       "dtype: int64"
      ]
     },
     "execution_count": 17,
     "metadata": {},
     "output_type": "execute_result"
    }
   ],
   "source": [
    "test.isnull().sum()"
   ]
  },
  {
   "cell_type": "code",
   "execution_count": 18,
   "metadata": {
    "colab": {
     "base_uri": "https://localhost:8080/",
     "height": 204
    },
    "executionInfo": {
     "elapsed": 1346,
     "status": "ok",
     "timestamp": 1616169505651,
     "user": {
      "displayName": "Vipin Bairagi",
      "photoUrl": "",
      "userId": "14057548591495457744"
     },
     "user_tz": 0
    },
    "id": "0CSFfgmiDtzg",
    "outputId": "3a7ceb1d-c9f9-4c36-828e-64706ed9de8d"
   },
   "outputs": [
    {
     "data": {
      "text/html": [
       "<div>\n",
       "<style scoped>\n",
       "    .dataframe tbody tr th:only-of-type {\n",
       "        vertical-align: middle;\n",
       "    }\n",
       "\n",
       "    .dataframe tbody tr th {\n",
       "        vertical-align: top;\n",
       "    }\n",
       "\n",
       "    .dataframe thead th {\n",
       "        text-align: right;\n",
       "    }\n",
       "</style>\n",
       "<table border=\"1\" class=\"dataframe\">\n",
       "  <thead>\n",
       "    <tr style=\"text-align: right;\">\n",
       "      <th></th>\n",
       "      <th>label</th>\n",
       "      <th>score</th>\n",
       "      <th>ups</th>\n",
       "      <th>downs</th>\n",
       "      <th>created_utc</th>\n",
       "    </tr>\n",
       "  </thead>\n",
       "  <tbody>\n",
       "    <tr>\n",
       "      <th>label</th>\n",
       "      <td>1.000000</td>\n",
       "      <td>-0.010028</td>\n",
       "      <td>-0.006697</td>\n",
       "      <td>0.057546</td>\n",
       "      <td>-0.057547</td>\n",
       "    </tr>\n",
       "    <tr>\n",
       "      <th>score</th>\n",
       "      <td>-0.010028</td>\n",
       "      <td>1.000000</td>\n",
       "      <td>0.849238</td>\n",
       "      <td>-0.013864</td>\n",
       "      <td>0.016939</td>\n",
       "    </tr>\n",
       "    <tr>\n",
       "      <th>ups</th>\n",
       "      <td>-0.006697</td>\n",
       "      <td>0.849238</td>\n",
       "      <td>1.000000</td>\n",
       "      <td>0.065070</td>\n",
       "      <td>-0.014934</td>\n",
       "    </tr>\n",
       "    <tr>\n",
       "      <th>downs</th>\n",
       "      <td>0.057546</td>\n",
       "      <td>-0.013864</td>\n",
       "      <td>0.065070</td>\n",
       "      <td>1.000000</td>\n",
       "      <td>-0.426066</td>\n",
       "    </tr>\n",
       "    <tr>\n",
       "      <th>created_utc</th>\n",
       "      <td>-0.057547</td>\n",
       "      <td>0.016939</td>\n",
       "      <td>-0.014934</td>\n",
       "      <td>-0.426066</td>\n",
       "      <td>1.000000</td>\n",
       "    </tr>\n",
       "  </tbody>\n",
       "</table>\n",
       "</div>"
      ],
      "text/plain": [
       "                label     score       ups     downs  created_utc\n",
       "label        1.000000 -0.010028 -0.006697  0.057546    -0.057547\n",
       "score       -0.010028  1.000000  0.849238 -0.013864     0.016939\n",
       "ups         -0.006697  0.849238  1.000000  0.065070    -0.014934\n",
       "downs        0.057546 -0.013864  0.065070  1.000000    -0.426066\n",
       "created_utc -0.057547  0.016939 -0.014934 -0.426066     1.000000"
      ]
     },
     "execution_count": 18,
     "metadata": {},
     "output_type": "execute_result"
    }
   ],
   "source": [
    "train.corr()"
   ]
  },
  {
   "cell_type": "code",
   "execution_count": 37,
   "metadata": {
    "colab": {
     "base_uri": "https://localhost:8080/",
     "height": 302
    },
    "executionInfo": {
     "elapsed": 3055,
     "status": "ok",
     "timestamp": 1616169508071,
     "user": {
      "displayName": "Vipin Bairagi",
      "photoUrl": "",
      "userId": "14057548591495457744"
     },
     "user_tz": 0
    },
    "id": "W-h_Qr8jDuO8",
    "outputId": "7f39c227-3182-4eb9-b7ad-a0b9a0f89e99"
   },
   "outputs": [
    {
     "data": {
      "text/plain": [
       "<matplotlib.axes._subplots.AxesSubplot at 0x23f9735a108>"
      ]
     },
     "execution_count": 37,
     "metadata": {},
     "output_type": "execute_result"
    },
    {
     "data": {
      "image/png": "[encoded data removed]",
      "text/plain": [
       "<Figure size 432x288 with 2 Axes>"
      ]
     },
     "metadata": {
      "needs_background": "light"
     },
     "output_type": "display_data"
    }
   ],
   "source": [
    "corr = train.corr(method = 'kendall')\n",
    "sns.heatmap(corr,annot = True,cmap='coolwarm')"
   ]
  },
  {
   "cell_type": "code",
   "execution_count": 41,
   "metadata": {},
   "outputs": [
    {
     "data": {
      "text/plain": [
       "<matplotlib.axes._subplots.AxesSubplot at 0x23f945157c8>"
      ]
     },
     "execution_count": 41,
     "metadata": {},
     "output_type": "execute_result"
    },
    {
     "data": {
      "image/png": "[encoded data removed]",
      "text/plain": [
       "<Figure size 432x288 with 1 Axes>"
      ]
     },
     "metadata": {
      "needs_background": "light"
     },
     "output_type": "display_data"
    }
   ],
   "source": [
    "sns.heatmap(train.isnull(),yticklabels=False,cbar=False,cmap='viridis')"
   ]
  },
  {
   "cell_type": "code",
   "execution_count": 24,
   "metadata": {},
   "outputs": [
    {
     "data": {
      "text/plain": [
       "<matplotlib.axes._subplots.AxesSubplot at 0x23f90cc14c8>"
      ]
     },
     "execution_count": 24,
     "metadata": {},
     "output_type": "execute_result"
    },
    {
     "data": {
      "image/png": "[encoded data removed]",
      "text/plain": [
       "<Figure size 432x288 with 1 Axes>"
      ]
     },
     "metadata": {},
     "output_type": "display_data"
    }
   ],
   "source": [
    "sns.set_style('whitegrid')\n",
    "sns.countplot(x='label',data=train,palette='RdBu_r')"
   ]
  },
  {
   "cell_type": "code",
   "execution_count": null,
   "metadata": {},
   "outputs": [],
   "source": [
    "sns.pairplot(train,hue='label',palette='Set1')"
   ]
  },
  {
   "cell_type": "code",
   "execution_count": 32,
   "metadata": {
    "executionInfo": {
     "elapsed": 3232,
     "status": "ok",
     "timestamp": 1616169508996,
     "user": {
      "displayName": "Vipin Bairagi",
      "photoUrl": "",
      "userId": "14057548591495457744"
     },
     "user_tz": 0
    },
    "id": "fYrs8Kvoza_4"
   },
   "outputs": [],
   "source": [
    "train.dropna(axis=0,inplace=True)"
   ]
  },
  {
   "cell_type": "code",
   "execution_count": 33,
   "metadata": {
    "executionInfo": {
     "elapsed": 2394,
     "status": "ok",
     "timestamp": 1616169508997,
     "user": {
      "displayName": "Vipin Bairagi",
      "photoUrl": "",
      "userId": "14057548591495457744"
     },
     "user_tz": 0
    },
    "id": "qPY39gQUzbOx"
   },
   "outputs": [],
   "source": [
    "test.dropna(axis=0, inplace=True)"
   ]
  },
  {
   "cell_type": "code",
   "execution_count": 18,
   "metadata": {
    "executionInfo": {
     "elapsed": 1356,
     "status": "ok",
     "timestamp": 1616169532457,
     "user": {
      "displayName": "Vipin Bairagi",
      "photoUrl": "",
      "userId": "14057548591495457744"
     },
     "user_tz": 0
    },
    "id": "MYIPF6GjNNbF"
   },
   "outputs": [],
   "source": [
    "train['comment'] = train.comment.map(lambda x: x.lower())\n",
    "test['comment'] = test.comment.map(lambda x: x.lower())"
   ]
  },
  {
   "cell_type": "code",
   "execution_count": 19,
   "metadata": {
    "executionInfo": {
     "elapsed": 3756,
     "status": "ok",
     "timestamp": 1616169535453,
     "user": {
      "displayName": "Vipin Bairagi",
      "photoUrl": "",
      "userId": "14057548591495457744"
     },
     "user_tz": 0
    },
    "id": "r0SFbBhjM4dl"
   },
   "outputs": [],
   "source": [
    "train['comment'] = train.comment.str.replace('[^\\w\\s]', '')\n",
    "test['comment'] = test.comment.str.replace('[^\\w\\s]', '')"
   ]
  },
  {
   "cell_type": "code",
   "execution_count": 42,
   "metadata": {
    "colab": {
     "base_uri": "https://localhost:8080/"
    },
    "executionInfo": {
     "elapsed": 884,
     "status": "ok",
     "timestamp": 1616120859826,
     "user": {
      "displayName": "Vipin Bairagi",
      "photoUrl": "",
      "userId": "14057548591495457744"
     },
     "user_tz": 0
    },
    "id": "pNq03VXATpEO",
    "outputId": "b5156a95-cf93-4c6e-a893-c1066f3bb881"
   },
   "outputs": [
    {
     "name": "stderr",
     "output_type": "stream",
     "text": [
      "[nltk_data] Downloading package punkt to\n",
      "[nltk_data]     C:\\Users\\Vipre\\AppData\\Roaming\\nltk_data...\n",
      "[nltk_data]   Package punkt is already up-to-date!\n",
      "[nltk_data] Downloading package wordnet to\n",
      "[nltk_data]     C:\\Users\\Vipre\\AppData\\Roaming\\nltk_data...\n",
      "[nltk_data]   Unzipping corpora\\wordnet.zip.\n"
     ]
    },
    {
     "data": {
      "text/plain": [
       "True"
      ]
     },
     "execution_count": 42,
     "metadata": {},
     "output_type": "execute_result"
    }
   ],
   "source": [
    "nltk.download('punkt')\n",
    "nltk.download('wordnet')"
   ]
  },
  {
   "cell_type": "code",
   "execution_count": 57,
   "metadata": {
    "id": "l8gxDzdF1UR5"
   },
   "outputs": [],
   "source": [
    "#from nltk.tokenize import sent_tokenize, word_tokenize\n",
    "#ps = PorterStemmer()\n",
    "#for w in text:\n",
    "#\trootWord=ps.stem(w)"
   ]
  },
  {
   "cell_type": "code",
   "execution_count": 58,
   "metadata": {
    "id": "1wzxUKSFMHZH"
   },
   "outputs": [],
   "source": [
    "nlp = spacy.load(\"en_core_web_sm\")\n",
    "#nlp.max_length = 101100\n",
    "#train['comment'].to_string()\n",
    "#doc = nlp(train['comment'])\n",
    "#lemma_list = []\n",
    "#for token in doc:\n",
    "#    lemma_list.append(token.lemma_)"
   ]
  },
  {
   "cell_type": "code",
   "execution_count": 59,
   "metadata": {
    "id": "qKws01HpMaDG"
   },
   "outputs": [],
   "source": [
    "#train['comment'] = train['comment'].apply(spacy.token)\n",
    "#train['comment'] = train['comment'].apply(lambda x: [token.lemma_(y) for y in x])"
   ]
  },
  {
   "cell_type": "code",
   "execution_count": 43,
   "metadata": {
    "id": "6KkRHAe2MQfP"
   },
   "outputs": [],
   "source": [
    "word_lemma = WordNetLemmatizer()"
   ]
  },
  {
   "cell_type": "code",
   "execution_count": 53,
   "metadata": {
    "id": "AKvcTzyy1UzK",
    "scrolled": true
   },
   "outputs": [],
   "source": [
    "def clean(text):\n",
    "  token = nltk.word_tokenize(text)\n",
    "  for w in token:\n",
    "    (w, word_lemma.lemmatize(w))\n",
    "  return \" \".join(text)\n"
   ]
  },
  {
   "cell_type": "code",
   "execution_count": 54,
   "metadata": {
    "id": "g3E7KlyB7fnC"
   },
   "outputs": [],
   "source": [
    "train['comment'] = train['comment'].apply(lambda x: clean(x))\n",
    "test['comment'] = test['comment'].apply(lambda x: clean(x))"
   ]
  },
  {
   "cell_type": "code",
   "execution_count": 55,
   "metadata": {
    "colab": {
     "base_uri": "https://localhost:8080/"
    },
    "executionInfo": {
     "elapsed": 463,
     "status": "ok",
     "timestamp": 1616121051553,
     "user": {
      "displayName": "Vipin Bairagi",
      "photoUrl": "",
      "userId": "14057548591495457744"
     },
     "user_tz": 0
    },
    "id": "sfEA9ApmcglQ",
    "outputId": "6368ffb2-5185-482e-b24d-0347b7f86f16"
   },
   "outputs": [
    {
     "data": {
      "text/plain": [
       "1010773"
      ]
     },
     "execution_count": 55,
     "metadata": {},
     "output_type": "execute_result"
    }
   ],
   "source": [
    "len(train['label'])"
   ]
  },
  {
   "cell_type": "code",
   "execution_count": 28,
   "metadata": {
    "colab": {
     "base_uri": "https://localhost:8080/"
    },
    "executionInfo": {
     "elapsed": 280347,
     "status": "ok",
     "timestamp": 1616169842323,
     "user": {
      "displayName": "Vipin Bairagi",
      "photoUrl": "",
      "userId": "14057548591495457744"
     },
     "user_tz": 0
    },
    "id": "5KWws8O6WLqW",
    "outputId": "d6a2e758-62ee-4389-afb2-591a626e2d81"
   },
   "outputs": [
    {
     "data": {
      "text/plain": [
       "0                                                  nc and nh\n",
       "1          you do know west team play against west team m...\n",
       "2          they were underdog earlier today but sinc gron...\n",
       "3          thi meme isnt funni none of the new york nigga...\n",
       "4                              i could use one of those tool\n",
       "                                 ...                        \n",
       "1010821    im sure that iran and n korea have the technol...\n",
       "1010822                        whatev you do dont vote green\n",
       "1010823    perhap thi is an atheist conspiraci to make ch...\n",
       "1010824     the slav got their own countri it is call kosovo\n",
       "1010825    valu as in capit there is good money in impris...\n",
       "Name: comment, Length: 1010773, dtype: object"
      ]
     },
     "execution_count": 28,
     "metadata": {},
     "output_type": "execute_result"
    }
   ],
   "source": [
    "train.head()\n",
    "train['comment']"
   ]
  },
  {
   "cell_type": "code",
   "execution_count": 29,
   "metadata": {
    "executionInfo": {
     "elapsed": 688,
     "status": "ok",
     "timestamp": 1616169927374,
     "user": {
      "displayName": "Vipin Bairagi",
      "photoUrl": "",
      "userId": "14057548591495457744"
     },
     "user_tz": 0
    },
    "id": "j0pvhwPZcglf"
   },
   "outputs": [],
   "source": [
    "count_vect = CountVectorizer()"
   ]
  },
  {
   "cell_type": "code",
   "execution_count": 30,
   "metadata": {
    "executionInfo": {
     "elapsed": 981,
     "status": "ok",
     "timestamp": 1616169929224,
     "user": {
      "displayName": "Vipin Bairagi",
      "photoUrl": "",
      "userId": "14057548591495457744"
     },
     "user_tz": 0
    },
    "id": "YgeNfUOh-brv"
   },
   "outputs": [],
   "source": [
    "count_vect = CountVectorizer(max_features = 500000, lowercase=True, stop_words='english', min_df=2)"
   ]
  },
  {
   "cell_type": "code",
   "execution_count": 31,
   "metadata": {
    "executionInfo": {
     "elapsed": 11350,
     "status": "ok",
     "timestamp": 1616169941476,
     "user": {
      "displayName": "Vipin Bairagi",
      "photoUrl": "",
      "userId": "14057548591495457744"
     },
     "user_tz": 0
    },
    "id": "NXf3Ozvlcglf"
   },
   "outputs": [],
   "source": [
    "train_counts = count_vect.fit_transform(train['comment'])"
   ]
  },
  {
   "cell_type": "code",
   "execution_count": 33,
   "metadata": {
    "executionInfo": {
     "elapsed": 1131,
     "status": "ok",
     "timestamp": 1616169942378,
     "user": {
      "displayName": "Vipin Bairagi",
      "photoUrl": "",
      "userId": "14057548591495457744"
     },
     "user_tz": 0
    },
    "id": "2qq3-gV-cglh"
   },
   "outputs": [],
   "source": [
    "transformer = TfidfTransformer().fit(train_counts)"
   ]
  },
  {
   "cell_type": "code",
   "execution_count": 34,
   "metadata": {
    "executionInfo": {
     "elapsed": 1100,
     "status": "ok",
     "timestamp": 1616169944318,
     "user": {
      "displayName": "Vipin Bairagi",
      "photoUrl": "",
      "userId": "14057548591495457744"
     },
     "user_tz": 0
    },
    "id": "g-9bZ5Qlcgli"
   },
   "outputs": [],
   "source": [
    "train_tfidf = transformer.transform(train_counts)"
   ]
  },
  {
   "cell_type": "code",
   "execution_count": 35,
   "metadata": {
    "executionInfo": {
     "elapsed": 1404,
     "status": "ok",
     "timestamp": 1616169946638,
     "user": {
      "displayName": "Vipin Bairagi",
      "photoUrl": "",
      "userId": "14057548591495457744"
     },
     "user_tz": 0
    },
    "id": "eEHpLXMlcglj"
   },
   "outputs": [],
   "source": [
    "X_train, X_test, y_train, y_test = train_test_split(train_tfidf, train['label'], test_size=0.3,random_state=4)"
   ]
  },
  {
   "cell_type": "code",
   "execution_count": 36,
   "metadata": {
    "executionInfo": {
     "elapsed": 1643,
     "status": "ok",
     "timestamp": 1616169949188,
     "user": {
      "displayName": "Vipin Bairagi",
      "photoUrl": "",
      "userId": "14057548591495457744"
     },
     "user_tz": 0
    },
    "id": "zQ4uAeDXcglk"
   },
   "outputs": [],
   "source": [
    "knn = neighbors.KNeighborsClassifier(n_neighbors=3, weights='uniform', algorithm='auto', p=1,\n",
    "                                         metric='minkowski', metric_params=None, n_jobs=-1)"
   ]
  },
  {
   "cell_type": "code",
   "execution_count": 37,
   "metadata": {
    "colab": {
     "base_uri": "https://localhost:8080/"
    },
    "executionInfo": {
     "elapsed": 1247,
     "status": "ok",
     "timestamp": 1616169951445,
     "user": {
      "displayName": "Vipin Bairagi",
      "photoUrl": "",
      "userId": "14057548591495457744"
     },
     "user_tz": 0
    },
    "id": "HrfSsVybcgll",
    "outputId": "7f55ec10-4ba1-4011-f2c1-381c15fadc97"
   },
   "outputs": [
    {
     "data": {
      "text/plain": [
       "KNeighborsClassifier(algorithm='auto', leaf_size=30, metric='minkowski',\n",
       "                     metric_params=None, n_jobs=-1, n_neighbors=3, p=1,\n",
       "                     weights='uniform')"
      ]
     },
     "execution_count": 37,
     "metadata": {},
     "output_type": "execute_result"
    }
   ],
   "source": [
    "knn.fit(X_train, y_train)"
   ]
  },
  {
   "cell_type": "code",
   "execution_count": 38,
   "metadata": {
    "id": "O-VpRaLRcgll"
   },
   "outputs": [],
   "source": [
    "predicted = knn.predict(X_test)"
   ]
  },
  {
   "cell_type": "code",
   "execution_count": 39,
   "metadata": {
    "id": "eqClUZpWcglm"
   },
   "outputs": [
    {
     "name": "stdout",
     "output_type": "stream",
     "text": [
      "KNN accuracy = 59.5168056141832%\n"
     ]
    }
   ],
   "source": [
    "acc = metrics.accuracy_score(y_test, predicted)\n",
    "print('KNN accuracy = ' + str(acc * 100) + '%')"
   ]
  },
  {
   "cell_type": "code",
   "execution_count": 40,
   "metadata": {
    "id": "nN7zLFgXNm51"
   },
   "outputs": [],
   "source": [
    "con_mat = confusion_matrix(y_test, predicted, [0, 1])"
   ]
  },
  {
   "cell_type": "code",
   "execution_count": 41,
   "metadata": {
    "id": "Krnex9eIOpth"
   },
   "outputs": [
    {
     "name": "stdout",
     "output_type": "stream",
     "text": [
      "              precision    recall  f1-score   support\n",
      "\n",
      "           0       0.57      0.77      0.66    151589\n",
      "           1       0.65      0.42      0.51    151643\n",
      "\n",
      "    accuracy                           0.60    303232\n",
      "   macro avg       0.61      0.60      0.58    303232\n",
      "weighted avg       0.61      0.60      0.58    303232\n",
      "\n"
     ]
    }
   ],
   "source": [
    "print(classification_report(y_test, predicted))"
   ]
  },
  {
   "cell_type": "code",
   "execution_count": 42,
   "metadata": {
    "id": "XPJuY6QbOvk1"
   },
   "outputs": [
    {
     "name": "stdout",
     "output_type": "stream",
     "text": [
      "[[117416  34173]\n",
      " [ 88585  63058]]\n"
     ]
    }
   ],
   "source": [
    "matrix = confusion_matrix(y_test, predicted)\n",
    "print(matrix)"
   ]
  },
  {
   "cell_type": "code",
   "execution_count": 43,
   "metadata": {
    "id": "QDGAfPGxOy6K"
   },
   "outputs": [
    {
     "data": {
      "text/plain": [
       "<matplotlib.axes._subplots.AxesSubplot at 0x20218bea508>"
      ]
     },
     "execution_count": 43,
     "metadata": {},
     "output_type": "execute_result"
    },
    {
     "data": {
      "image/png": "[encoded data removed]",
      "text/plain": [
       "<Figure size 432x288 with 2 Axes>"
      ]
     },
     "metadata": {
      "needs_background": "light"
     },
     "output_type": "display_data"
    }
   ],
   "source": [
    "group_names = [\"True Neg\",\"False Pos\",\"False Neg\",\"True Pos\"]\n",
    "group_counts = [\"{0:0.0f}\".format(value) for value in\n",
    "                matrix.flatten()]\n",
    "group_percentages = [\"{0:.2%}\".format(value) for value in\n",
    "                     matrix.flatten()/np.sum(matrix)]\n",
    "labels = [f\"{v1}\\n{v2}\\n{v3}\" for v1, v2, v3 in\n",
    "          zip(group_names,group_counts,group_percentages)]\n",
    "labels = np.asarray(labels).reshape(2,2)\n",
    "sns.heatmap(matrix, annot=labels, fmt=\"\", cmap='Blues')"
   ]
  },
  {
   "cell_type": "code",
   "execution_count": 60,
   "metadata": {},
   "outputs": [],
   "source": [
    "knn.score(y_test,predictions)"
   ]
  },
  {
   "cell_type": "code",
   "execution_count": 68,
   "metadata": {},
   "outputs": [],
   "source": [
    "error_rate = []\n",
    "\n",
    "for i in range(1,40):\n",
    "    \n",
    "    knn = KNeighborsClassifier(n_neighbors=i)\n",
    "    knn.fit(X_train,y_train)\n",
    "    pred_i = knn.predict(X_test)\n",
    "    error_rate.append(np.mean(pred_i != y_test))"
   ]
  },
  {
   "cell_type": "code",
   "execution_count": 75,
   "metadata": {},
   "outputs": [],
   "source": [
    "plt.figure(figsize=(10,6))\n",
    "plt.plot(range(1,40),error_rate,color='blue', linestyle='dashed', marker='o',markerfacecolor='red', markersize=10)\n",
    "plt.title('Error Rate vs. K Value')\n",
    "plt.xlabel('K')\n",
    "plt.ylabel('Error Rate')"
   ]
  },
  {
   "cell_type": "code",
   "execution_count": null,
   "metadata": {},
   "outputs": [],
   "source": []
  }
 ],
 "metadata": {
  "accelerator": "GPU",
  "colab": {
   "collapsed_sections": [],
   "name": "KNN.ipynb",
   "provenance": []
  },
  "kernelspec": {
   "display_name": "Python 3",
   "language": "python",
   "name": "python3"
  },
  "language_info": {
   "codemirror_mode": {
    "name": "ipython",
    "version": 3
   },
   "file_extension": ".py",
   "mimetype": "text/x-python",
   "name": "python",
   "nbconvert_exporter": "python",
   "pygments_lexer": "ipython3",
   "version": "3.7.6"
  }
 },
 "nbformat": 4,
 "nbformat_minor": 1
}
