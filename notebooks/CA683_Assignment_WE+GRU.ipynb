{
  "nbformat": 4,
  "nbformat_minor": 0,
  "metadata": {
    "colab": {
      "name": "CA683 Assignment - WE+GRU.ipynb",
      "provenance": [],
      "collapsed_sections": [],
      "toc_visible": true
    },
    "kernelspec": {
      "display_name": "Python 3",
      "name": "python3"
    },
    "language_info": {
      "name": "python"
    },
    "widgets": {
      "application/vnd.jupyter.widget-state+json": {
        "4769a7cfbe854e268b3f9fd97fda768e": {
          "model_module": "@jupyter-widgets/controls",
          "model_name": "HBoxModel",
          "state": {
            "_view_name": "HBoxView",
            "_dom_classes": [],
            "_model_name": "HBoxModel",
            "_view_module": "@jupyter-widgets/controls",
            "_model_module_version": "1.5.0",
            "_view_count": null,
            "_view_module_version": "1.5.0",
            "box_style": "",
            "layout": "IPY_MODEL_d14df3bcce0b4cc68422aa38b8f02b57",
            "_model_module": "@jupyter-widgets/controls",
            "children": [
              "IPY_MODEL_87deebc985b543f590419d20e8d68dda",
              "IPY_MODEL_7cda0f6456844dfdb700c57dfdba7d5c"
            ]
          }
        },
        "d14df3bcce0b4cc68422aa38b8f02b57": {
          "model_module": "@jupyter-widgets/base",
          "model_name": "LayoutModel",
          "state": {
            "_view_name": "LayoutView",
            "grid_template_rows": null,
            "right": null,
            "justify_content": null,
            "_view_module": "@jupyter-widgets/base",
            "overflow": null,
            "_model_module_version": "1.2.0",
            "_view_count": null,
            "flex_flow": null,
            "width": null,
            "min_width": null,
            "border": null,
            "align_items": null,
            "bottom": null,
            "_model_module": "@jupyter-widgets/base",
            "top": null,
            "grid_column": null,
            "overflow_y": null,
            "overflow_x": null,
            "grid_auto_flow": null,
            "grid_area": null,
            "grid_template_columns": null,
            "flex": null,
            "_model_name": "LayoutModel",
            "justify_items": null,
            "grid_row": null,
            "max_height": null,
            "align_content": null,
            "visibility": null,
            "align_self": null,
            "height": null,
            "min_height": null,
            "padding": null,
            "grid_auto_rows": null,
            "grid_gap": null,
            "max_width": null,
            "order": null,
            "_view_module_version": "1.2.0",
            "grid_template_areas": null,
            "object_position": null,
            "object_fit": null,
            "grid_auto_columns": null,
            "margin": null,
            "display": null,
            "left": null
          }
        },
        "87deebc985b543f590419d20e8d68dda": {
          "model_module": "@jupyter-widgets/controls",
          "model_name": "FloatProgressModel",
          "state": {
            "_view_name": "ProgressView",
            "style": "IPY_MODEL_7e65d48baaf443f5a66fd62bf5104a41",
            "_dom_classes": [],
            "description": "100%",
            "_model_name": "FloatProgressModel",
            "bar_style": "success",
            "max": 1010826,
            "_view_module": "@jupyter-widgets/controls",
            "_model_module_version": "1.5.0",
            "value": 1010826,
            "_view_count": null,
            "_view_module_version": "1.5.0",
            "orientation": "horizontal",
            "min": 0,
            "description_tooltip": null,
            "_model_module": "@jupyter-widgets/controls",
            "layout": "IPY_MODEL_df6a59353f5449cb8dafe0edfd9e6ff6"
          }
        },
        "7cda0f6456844dfdb700c57dfdba7d5c": {
          "model_module": "@jupyter-widgets/controls",
          "model_name": "HTMLModel",
          "state": {
            "_view_name": "HTMLView",
            "style": "IPY_MODEL_da8e72fa99ee4f0294bf27d1107a0bab",
            "_dom_classes": [],
            "description": "",
            "_model_name": "HTMLModel",
            "placeholder": "​",
            "_view_module": "@jupyter-widgets/controls",
            "_model_module_version": "1.5.0",
            "value": " 1010826/1010826 [06:00&lt;00:00, 2802.97it/s]",
            "_view_count": null,
            "_view_module_version": "1.5.0",
            "description_tooltip": null,
            "_model_module": "@jupyter-widgets/controls",
            "layout": "IPY_MODEL_8a7858d090f3437b9b578de9cd30d9b3"
          }
        },
        "7e65d48baaf443f5a66fd62bf5104a41": {
          "model_module": "@jupyter-widgets/controls",
          "model_name": "ProgressStyleModel",
          "state": {
            "_view_name": "StyleView",
            "_model_name": "ProgressStyleModel",
            "description_width": "initial",
            "_view_module": "@jupyter-widgets/base",
            "_model_module_version": "1.5.0",
            "_view_count": null,
            "_view_module_version": "1.2.0",
            "bar_color": null,
            "_model_module": "@jupyter-widgets/controls"
          }
        },
        "df6a59353f5449cb8dafe0edfd9e6ff6": {
          "model_module": "@jupyter-widgets/base",
          "model_name": "LayoutModel",
          "state": {
            "_view_name": "LayoutView",
            "grid_template_rows": null,
            "right": null,
            "justify_content": null,
            "_view_module": "@jupyter-widgets/base",
            "overflow": null,
            "_model_module_version": "1.2.0",
            "_view_count": null,
            "flex_flow": null,
            "width": null,
            "min_width": null,
            "border": null,
            "align_items": null,
            "bottom": null,
            "_model_module": "@jupyter-widgets/base",
            "top": null,
            "grid_column": null,
            "overflow_y": null,
            "overflow_x": null,
            "grid_auto_flow": null,
            "grid_area": null,
            "grid_template_columns": null,
            "flex": null,
            "_model_name": "LayoutModel",
            "justify_items": null,
            "grid_row": null,
            "max_height": null,
            "align_content": null,
            "visibility": null,
            "align_self": null,
            "height": null,
            "min_height": null,
            "padding": null,
            "grid_auto_rows": null,
            "grid_gap": null,
            "max_width": null,
            "order": null,
            "_view_module_version": "1.2.0",
            "grid_template_areas": null,
            "object_position": null,
            "object_fit": null,
            "grid_auto_columns": null,
            "margin": null,
            "display": null,
            "left": null
          }
        },
        "da8e72fa99ee4f0294bf27d1107a0bab": {
          "model_module": "@jupyter-widgets/controls",
          "model_name": "DescriptionStyleModel",
          "state": {
            "_view_name": "StyleView",
            "_model_name": "DescriptionStyleModel",
            "description_width": "",
            "_view_module": "@jupyter-widgets/base",
            "_model_module_version": "1.5.0",
            "_view_count": null,
            "_view_module_version": "1.2.0",
            "_model_module": "@jupyter-widgets/controls"
          }
        },
        "8a7858d090f3437b9b578de9cd30d9b3": {
          "model_module": "@jupyter-widgets/base",
          "model_name": "LayoutModel",
          "state": {
            "_view_name": "LayoutView",
            "grid_template_rows": null,
            "right": null,
            "justify_content": null,
            "_view_module": "@jupyter-widgets/base",
            "overflow": null,
            "_model_module_version": "1.2.0",
            "_view_count": null,
            "flex_flow": null,
            "width": null,
            "min_width": null,
            "border": null,
            "align_items": null,
            "bottom": null,
            "_model_module": "@jupyter-widgets/base",
            "top": null,
            "grid_column": null,
            "overflow_y": null,
            "overflow_x": null,
            "grid_auto_flow": null,
            "grid_area": null,
            "grid_template_columns": null,
            "flex": null,
            "_model_name": "LayoutModel",
            "justify_items": null,
            "grid_row": null,
            "max_height": null,
            "align_content": null,
            "visibility": null,
            "align_self": null,
            "height": null,
            "min_height": null,
            "padding": null,
            "grid_auto_rows": null,
            "grid_gap": null,
            "max_width": null,
            "order": null,
            "_view_module_version": "1.2.0",
            "grid_template_areas": null,
            "object_position": null,
            "object_fit": null,
            "grid_auto_columns": null,
            "margin": null,
            "display": null,
            "left": null
          }
        },
        "c15855f2856f4e1882d086494e899b30": {
          "model_module": "@jupyter-widgets/controls",
          "model_name": "HBoxModel",
          "state": {
            "_view_name": "HBoxView",
            "_dom_classes": [],
            "_model_name": "HBoxModel",
            "_view_module": "@jupyter-widgets/controls",
            "_model_module_version": "1.5.0",
            "_view_count": null,
            "_view_module_version": "1.5.0",
            "box_style": "",
            "layout": "IPY_MODEL_e54dea257ea340f9ac2b185c286cd4db",
            "_model_module": "@jupyter-widgets/controls",
            "children": [
              "IPY_MODEL_75a6e73f70014d30b9f34f4326568a9e",
              "IPY_MODEL_cb9cef1ca9a94cd48720fbd08dcd043f"
            ]
          }
        },
        "e54dea257ea340f9ac2b185c286cd4db": {
          "model_module": "@jupyter-widgets/base",
          "model_name": "LayoutModel",
          "state": {
            "_view_name": "LayoutView",
            "grid_template_rows": null,
            "right": null,
            "justify_content": null,
            "_view_module": "@jupyter-widgets/base",
            "overflow": null,
            "_model_module_version": "1.2.0",
            "_view_count": null,
            "flex_flow": null,
            "width": null,
            "min_width": null,
            "border": null,
            "align_items": null,
            "bottom": null,
            "_model_module": "@jupyter-widgets/base",
            "top": null,
            "grid_column": null,
            "overflow_y": null,
            "overflow_x": null,
            "grid_auto_flow": null,
            "grid_area": null,
            "grid_template_columns": null,
            "flex": null,
            "_model_name": "LayoutModel",
            "justify_items": null,
            "grid_row": null,
            "max_height": null,
            "align_content": null,
            "visibility": null,
            "align_self": null,
            "height": null,
            "min_height": null,
            "padding": null,
            "grid_auto_rows": null,
            "grid_gap": null,
            "max_width": null,
            "order": null,
            "_view_module_version": "1.2.0",
            "grid_template_areas": null,
            "object_position": null,
            "object_fit": null,
            "grid_auto_columns": null,
            "margin": null,
            "display": null,
            "left": null
          }
        },
        "75a6e73f70014d30b9f34f4326568a9e": {
          "model_module": "@jupyter-widgets/controls",
          "model_name": "FloatProgressModel",
          "state": {
            "_view_name": "ProgressView",
            "style": "IPY_MODEL_9c0e35d8600844cfb80733ac2cd3230f",
            "_dom_classes": [],
            "description": "100%",
            "_model_name": "FloatProgressModel",
            "bar_style": "success",
            "max": 251608,
            "_view_module": "@jupyter-widgets/controls",
            "_model_module_version": "1.5.0",
            "value": 251608,
            "_view_count": null,
            "_view_module_version": "1.5.0",
            "orientation": "horizontal",
            "min": 0,
            "description_tooltip": null,
            "_model_module": "@jupyter-widgets/controls",
            "layout": "IPY_MODEL_da710153c2eb42149bdb9055ca6a99de"
          }
        },
        "cb9cef1ca9a94cd48720fbd08dcd043f": {
          "model_module": "@jupyter-widgets/controls",
          "model_name": "HTMLModel",
          "state": {
            "_view_name": "HTMLView",
            "style": "IPY_MODEL_07f8c7c3b3844fbba3fff294a837de8a",
            "_dom_classes": [],
            "description": "",
            "_model_name": "HTMLModel",
            "placeholder": "​",
            "_view_module": "@jupyter-widgets/controls",
            "_model_module_version": "1.5.0",
            "value": " 251608/251608 [00:44&lt;00:00, 5675.05it/s]",
            "_view_count": null,
            "_view_module_version": "1.5.0",
            "description_tooltip": null,
            "_model_module": "@jupyter-widgets/controls",
            "layout": "IPY_MODEL_fa5870a0eb96417bbe68b875f7fb94a2"
          }
        },
        "9c0e35d8600844cfb80733ac2cd3230f": {
          "model_module": "@jupyter-widgets/controls",
          "model_name": "ProgressStyleModel",
          "state": {
            "_view_name": "StyleView",
            "_model_name": "ProgressStyleModel",
            "description_width": "initial",
            "_view_module": "@jupyter-widgets/base",
            "_model_module_version": "1.5.0",
            "_view_count": null,
            "_view_module_version": "1.2.0",
            "bar_color": null,
            "_model_module": "@jupyter-widgets/controls"
          }
        },
        "da710153c2eb42149bdb9055ca6a99de": {
          "model_module": "@jupyter-widgets/base",
          "model_name": "LayoutModel",
          "state": {
            "_view_name": "LayoutView",
            "grid_template_rows": null,
            "right": null,
            "justify_content": null,
            "_view_module": "@jupyter-widgets/base",
            "overflow": null,
            "_model_module_version": "1.2.0",
            "_view_count": null,
            "flex_flow": null,
            "width": null,
            "min_width": null,
            "border": null,
            "align_items": null,
            "bottom": null,
            "_model_module": "@jupyter-widgets/base",
            "top": null,
            "grid_column": null,
            "overflow_y": null,
            "overflow_x": null,
            "grid_auto_flow": null,
            "grid_area": null,
            "grid_template_columns": null,
            "flex": null,
            "_model_name": "LayoutModel",
            "justify_items": null,
            "grid_row": null,
            "max_height": null,
            "align_content": null,
            "visibility": null,
            "align_self": null,
            "height": null,
            "min_height": null,
            "padding": null,
            "grid_auto_rows": null,
            "grid_gap": null,
            "max_width": null,
            "order": null,
            "_view_module_version": "1.2.0",
            "grid_template_areas": null,
            "object_position": null,
            "object_fit": null,
            "grid_auto_columns": null,
            "margin": null,
            "display": null,
            "left": null
          }
        },
        "07f8c7c3b3844fbba3fff294a837de8a": {
          "model_module": "@jupyter-widgets/controls",
          "model_name": "DescriptionStyleModel",
          "state": {
            "_view_name": "StyleView",
            "_model_name": "DescriptionStyleModel",
            "description_width": "",
            "_view_module": "@jupyter-widgets/base",
            "_model_module_version": "1.5.0",
            "_view_count": null,
            "_view_module_version": "1.2.0",
            "_model_module": "@jupyter-widgets/controls"
          }
        },
        "fa5870a0eb96417bbe68b875f7fb94a2": {
          "model_module": "@jupyter-widgets/base",
          "model_name": "LayoutModel",
          "state": {
            "_view_name": "LayoutView",
            "grid_template_rows": null,
            "right": null,
            "justify_content": null,
            "_view_module": "@jupyter-widgets/base",
            "overflow": null,
            "_model_module_version": "1.2.0",
            "_view_count": null,
            "flex_flow": null,
            "width": null,
            "min_width": null,
            "border": null,
            "align_items": null,
            "bottom": null,
            "_model_module": "@jupyter-widgets/base",
            "top": null,
            "grid_column": null,
            "overflow_y": null,
            "overflow_x": null,
            "grid_auto_flow": null,
            "grid_area": null,
            "grid_template_columns": null,
            "flex": null,
            "_model_name": "LayoutModel",
            "justify_items": null,
            "grid_row": null,
            "max_height": null,
            "align_content": null,
            "visibility": null,
            "align_self": null,
            "height": null,
            "min_height": null,
            "padding": null,
            "grid_auto_rows": null,
            "grid_gap": null,
            "max_width": null,
            "order": null,
            "_view_module_version": "1.2.0",
            "grid_template_areas": null,
            "object_position": null,
            "object_fit": null,
            "grid_auto_columns": null,
            "margin": null,
            "display": null,
            "left": null
          }
        },
        "10b6efc2a5184ec6b3ddc879408720bb": {
          "model_module": "@jupyter-widgets/controls",
          "model_name": "HBoxModel",
          "state": {
            "_view_name": "HBoxView",
            "_dom_classes": [],
            "_model_name": "HBoxModel",
            "_view_module": "@jupyter-widgets/controls",
            "_model_module_version": "1.5.0",
            "_view_count": null,
            "_view_module_version": "1.5.0",
            "box_style": "",
            "layout": "IPY_MODEL_d124c8cce46140e3879007cf2e391b75",
            "_model_module": "@jupyter-widgets/controls",
            "children": [
              "IPY_MODEL_113a606dab024c92b90bf040308e72ce",
              "IPY_MODEL_cd1b5e3033544ca5b39a9413b00cf483"
            ]
          }
        },
        "d124c8cce46140e3879007cf2e391b75": {
          "model_module": "@jupyter-widgets/base",
          "model_name": "LayoutModel",
          "state": {
            "_view_name": "LayoutView",
            "grid_template_rows": null,
            "right": null,
            "justify_content": null,
            "_view_module": "@jupyter-widgets/base",
            "overflow": null,
            "_model_module_version": "1.2.0",
            "_view_count": null,
            "flex_flow": null,
            "width": null,
            "min_width": null,
            "border": null,
            "align_items": null,
            "bottom": null,
            "_model_module": "@jupyter-widgets/base",
            "top": null,
            "grid_column": null,
            "overflow_y": null,
            "overflow_x": null,
            "grid_auto_flow": null,
            "grid_area": null,
            "grid_template_columns": null,
            "flex": null,
            "_model_name": "LayoutModel",
            "justify_items": null,
            "grid_row": null,
            "max_height": null,
            "align_content": null,
            "visibility": null,
            "align_self": null,
            "height": null,
            "min_height": null,
            "padding": null,
            "grid_auto_rows": null,
            "grid_gap": null,
            "max_width": null,
            "order": null,
            "_view_module_version": "1.2.0",
            "grid_template_areas": null,
            "object_position": null,
            "object_fit": null,
            "grid_auto_columns": null,
            "margin": null,
            "display": null,
            "left": null
          }
        },
        "113a606dab024c92b90bf040308e72ce": {
          "model_module": "@jupyter-widgets/controls",
          "model_name": "FloatProgressModel",
          "state": {
            "_view_name": "ProgressView",
            "style": "IPY_MODEL_f10992c5218f40598980fbbe55eae845",
            "_dom_classes": [],
            "description": "100%",
            "_model_name": "FloatProgressModel",
            "bar_style": "success",
            "max": 117337,
            "_view_module": "@jupyter-widgets/controls",
            "_model_module_version": "1.5.0",
            "value": 117337,
            "_view_count": null,
            "_view_module_version": "1.5.0",
            "orientation": "horizontal",
            "min": 0,
            "description_tooltip": null,
            "_model_module": "@jupyter-widgets/controls",
            "layout": "IPY_MODEL_4e3747bb2aa34f34b6754d3bab1c4164"
          }
        },
        "cd1b5e3033544ca5b39a9413b00cf483": {
          "model_module": "@jupyter-widgets/controls",
          "model_name": "HTMLModel",
          "state": {
            "_view_name": "HTMLView",
            "style": "IPY_MODEL_039176a5494b4de08e0a3df2014096d5",
            "_dom_classes": [],
            "description": "",
            "_model_name": "HTMLModel",
            "placeholder": "​",
            "_view_module": "@jupyter-widgets/controls",
            "_model_module_version": "1.5.0",
            "value": " 117337/117337 [00:06&lt;00:00, 18180.97it/s]",
            "_view_count": null,
            "_view_module_version": "1.5.0",
            "description_tooltip": null,
            "_model_module": "@jupyter-widgets/controls",
            "layout": "IPY_MODEL_e16338c3a5c3490eb6348326ac4c432e"
          }
        },
        "f10992c5218f40598980fbbe55eae845": {
          "model_module": "@jupyter-widgets/controls",
          "model_name": "ProgressStyleModel",
          "state": {
            "_view_name": "StyleView",
            "_model_name": "ProgressStyleModel",
            "description_width": "initial",
            "_view_module": "@jupyter-widgets/base",
            "_model_module_version": "1.5.0",
            "_view_count": null,
            "_view_module_version": "1.2.0",
            "bar_color": null,
            "_model_module": "@jupyter-widgets/controls"
          }
        },
        "4e3747bb2aa34f34b6754d3bab1c4164": {
          "model_module": "@jupyter-widgets/base",
          "model_name": "LayoutModel",
          "state": {
            "_view_name": "LayoutView",
            "grid_template_rows": null,
            "right": null,
            "justify_content": null,
            "_view_module": "@jupyter-widgets/base",
            "overflow": null,
            "_model_module_version": "1.2.0",
            "_view_count": null,
            "flex_flow": null,
            "width": null,
            "min_width": null,
            "border": null,
            "align_items": null,
            "bottom": null,
            "_model_module": "@jupyter-widgets/base",
            "top": null,
            "grid_column": null,
            "overflow_y": null,
            "overflow_x": null,
            "grid_auto_flow": null,
            "grid_area": null,
            "grid_template_columns": null,
            "flex": null,
            "_model_name": "LayoutModel",
            "justify_items": null,
            "grid_row": null,
            "max_height": null,
            "align_content": null,
            "visibility": null,
            "align_self": null,
            "height": null,
            "min_height": null,
            "padding": null,
            "grid_auto_rows": null,
            "grid_gap": null,
            "max_width": null,
            "order": null,
            "_view_module_version": "1.2.0",
            "grid_template_areas": null,
            "object_position": null,
            "object_fit": null,
            "grid_auto_columns": null,
            "margin": null,
            "display": null,
            "left": null
          }
        },
        "039176a5494b4de08e0a3df2014096d5": {
          "model_module": "@jupyter-widgets/controls",
          "model_name": "DescriptionStyleModel",
          "state": {
            "_view_name": "StyleView",
            "_model_name": "DescriptionStyleModel",
            "description_width": "",
            "_view_module": "@jupyter-widgets/base",
            "_model_module_version": "1.5.0",
            "_view_count": null,
            "_view_module_version": "1.2.0",
            "_model_module": "@jupyter-widgets/controls"
          }
        },
        "e16338c3a5c3490eb6348326ac4c432e": {
          "model_module": "@jupyter-widgets/base",
          "model_name": "LayoutModel",
          "state": {
            "_view_name": "LayoutView",
            "grid_template_rows": null,
            "right": null,
            "justify_content": null,
            "_view_module": "@jupyter-widgets/base",
            "overflow": null,
            "_model_module_version": "1.2.0",
            "_view_count": null,
            "flex_flow": null,
            "width": null,
            "min_width": null,
            "border": null,
            "align_items": null,
            "bottom": null,
            "_model_module": "@jupyter-widgets/base",
            "top": null,
            "grid_column": null,
            "overflow_y": null,
            "overflow_x": null,
            "grid_auto_flow": null,
            "grid_area": null,
            "grid_template_columns": null,
            "flex": null,
            "_model_name": "LayoutModel",
            "justify_items": null,
            "grid_row": null,
            "max_height": null,
            "align_content": null,
            "visibility": null,
            "align_self": null,
            "height": null,
            "min_height": null,
            "padding": null,
            "grid_auto_rows": null,
            "grid_gap": null,
            "max_width": null,
            "order": null,
            "_view_module_version": "1.2.0",
            "grid_template_areas": null,
            "object_position": null,
            "object_fit": null,
            "grid_auto_columns": null,
            "margin": null,
            "display": null,
            "left": null
          }
        }
      }
    },
    "accelerator": "GPU"
  },
  "cells": [
    {
      "cell_type": "code",
      "metadata": {
        "colab": {
          "base_uri": "https://localhost:8080/"
        },
        "id": "uYdqWBi6JF_9",
        "outputId": "eb87332f-d805-42d2-b4f7-82857dc880cf"
      },
      "source": [
        "!pip install contractions\n",
        "#!wget http://nlp.stanford.edu/data/glove.840B.300d.zip"
      ],
      "execution_count": 2,
      "outputs": [
        {
          "output_type": "stream",
          "text": [
            "Collecting contractions\n",
            "  Downloading https://files.pythonhosted.org/packages/0a/04/d5e0bb9f2cef5d15616ebf68087a725c5dbdd71bd422bcfb35d709f98ce7/contractions-0.0.48-py2.py3-none-any.whl\n",
            "Collecting textsearch>=0.0.21\n",
            "  Downloading https://files.pythonhosted.org/packages/d3/fe/021d7d76961b5ceb9f8d022c4138461d83beff36c3938dc424586085e559/textsearch-0.0.21-py2.py3-none-any.whl\n",
            "Collecting anyascii\n",
            "\u001b[?25l  Downloading https://files.pythonhosted.org/packages/09/c7/61370d9e3c349478e89a5554c1e5d9658e1e3116cc4f2528f568909ebdf1/anyascii-0.1.7-py3-none-any.whl (260kB)\n",
            "\u001b[K     |████████████████████████████████| 266kB 26.5MB/s \n",
            "\u001b[?25hCollecting pyahocorasick\n",
            "\u001b[?25l  Downloading https://files.pythonhosted.org/packages/7f/c2/eae730037ae1cbbfaa229d27030d1d5e34a1e41114b21447d1202ae9c220/pyahocorasick-1.4.2.tar.gz (321kB)\n",
            "\u001b[K     |████████████████████████████████| 327kB 54.6MB/s \n",
            "\u001b[?25hBuilding wheels for collected packages: pyahocorasick\n",
            "  Building wheel for pyahocorasick (setup.py) ... \u001b[?25l\u001b[?25hdone\n",
            "  Created wheel for pyahocorasick: filename=pyahocorasick-1.4.2-cp37-cp37m-linux_x86_64.whl size=85396 sha256=c5b689b6508c5ffb135c67d48d568e3bcd366426402456a25475e74129d71cc6\n",
            "  Stored in directory: /root/.cache/pip/wheels/3a/03/34/77e3ece0bba8b86bfac88a79f923b36d805cad63caeba38842\n",
            "Successfully built pyahocorasick\n",
            "Installing collected packages: anyascii, pyahocorasick, textsearch, contractions\n",
            "Successfully installed anyascii-0.1.7 contractions-0.0.48 pyahocorasick-1.4.2 textsearch-0.0.21\n"
          ],
          "name": "stdout"
        }
      ]
    },
    {
      "cell_type": "code",
      "metadata": {
        "id": "ovIlmGfqI3ys"
      },
      "source": [
        "import pandas as pd\n",
        "from matplotlib import pyplot as plt\n",
        "import numpy as np\n",
        "from tqdm.notebook import tqdm\n",
        "from nltk.corpus import stopwords\n",
        "from nltk.stem import WordNetLemmatizer\n",
        "import nltk\n",
        "import contractions\n",
        "from nltk.stem.porter import PorterStemmer\n",
        "import tensorflow as tf\n",
        "from tensorflow.keras.layers import LSTM, GRU, Dense, Embedding, Dropout\n",
        "from tensorflow.keras.preprocessing import text, sequence \n",
        "from tensorflow.keras.models import Sequential, load_model\n",
        "import seaborn as sns\n",
        "from sklearn.metrics import confusion_matrix"
      ],
      "execution_count": 3,
      "outputs": []
    },
    {
      "cell_type": "code",
      "metadata": {
        "colab": {
          "base_uri": "https://localhost:8080/"
        },
        "id": "pNhFigyCK6tT",
        "outputId": "f0514c78-2e06-488b-9eff-56652d13023e"
      },
      "source": [
        "nltk.download('stopwords')\n",
        "nltk.download('wordnet')"
      ],
      "execution_count": null,
      "outputs": [
        {
          "output_type": "stream",
          "text": [
            "[nltk_data] Downloading package stopwords to /root/nltk_data...\n",
            "[nltk_data]   Package stopwords is already up-to-date!\n",
            "[nltk_data] Downloading package wordnet to /root/nltk_data...\n",
            "[nltk_data]   Package wordnet is already up-to-date!\n"
          ],
          "name": "stdout"
        },
        {
          "output_type": "execute_result",
          "data": {
            "text/plain": [
              "True"
            ]
          },
          "metadata": {
            "tags": []
          },
          "execution_count": 3
        }
      ]
    },
    {
      "cell_type": "code",
      "metadata": {
        "id": "5FqsuSayJmA6",
        "colab": {
          "base_uri": "https://localhost:8080/"
        },
        "outputId": "0542838e-03e2-4cc0-f5dc-9dec2a797aff"
      },
      "source": [
        "from google.colab import drive\n",
        "drive.mount('/content/drive')"
      ],
      "execution_count": 5,
      "outputs": [
        {
          "output_type": "stream",
          "text": [
            "Mounted at /content/drive\n"
          ],
          "name": "stdout"
        }
      ]
    },
    {
      "cell_type": "code",
      "metadata": {
        "id": "QjRx5kqrJN66"
      },
      "source": [
        "header = pd.read_csv('/content/drive/MyDrive/CA683/Copy of key.csv',sep='\\t',header=None).transpose()[0].tolist()\n",
        "test = pd.read_csv('/content/drive/MyDrive/CA683/Copy of test-balanced.csv',sep='\\t',names = header)\n",
        "train = pd.read_csv('/content/drive/MyDrive/CA683/Copy of train-balanced.csv',sep='\\t',names = header)"
      ],
      "execution_count": null,
      "outputs": []
    },
    {
      "cell_type": "code",
      "metadata": {
        "id": "x5INUpOvLK5s"
      },
      "source": [
        "sws = set(stopwords.words(\"english\"))\n",
        "lemma = nltk.stem.WordNetLemmatizer()\n",
        "stem = PorterStemmer()"
      ],
      "execution_count": null,
      "outputs": []
    },
    {
      "cell_type": "code",
      "metadata": {
        "id": "3ug7HcCDLj7f"
      },
      "source": [
        "def clean_text(text):\n",
        "  # Expand contractions\n",
        "  text = contractions.fix(str(text))\n",
        "\n",
        "  # Tokenisation\n",
        "  text =  nltk.WordPunctTokenizer().tokenize(text)\n",
        "\n",
        "  # Removing special characters and stopwords\n",
        "  text = [ i for i in text if (i not in sws) and (i.isalpha())]\n",
        "\n",
        "  # Lemmatisation\n",
        "  text =  [lemma.lemmatize(w) for w in text]\n",
        "\n",
        "  # Stemming\n",
        "  text = [stem.stem(w) for w in text]\n",
        "  return \" \".join(text)\n",
        "  #return text\n",
        "\n",
        "def read_Glove_embeddings(filename):\n",
        "  \"\"\"\n",
        "    Read in pre-trained word embedding vectors.\n",
        "  \"\"\"\n",
        "  embedding_vector = {}\n",
        "  with open(filename,'r',encoding='utf-8') as file:\n",
        "    for row in tqdm(file):\n",
        "        values = row.split(' ')\n",
        "        word = values[0]\n",
        "        weights = np.asarray([float(val) for val in values[1:]])\n",
        "        embedding_vector[word] = weights\n",
        "    print(f\"Size of vocabulary in GloVe: {len(embedding_vector)}\")\n",
        "    return embedding_vector   \n",
        "\n",
        "def creat_padded_sequence(train, test):\n",
        "  \"\"\"\n",
        "    As the input are of various lengths, we need to first convert them \n",
        "    to sequence and pad those sequences to make them of the same length.\n",
        "  \"\"\"\n",
        "  max_len = train.apply(lambda x: len(x)).max()\n",
        "  tokenizer = text.Tokenizer()\n",
        "  tokenizer.fit_on_texts(train)\n",
        "\n",
        "  X_train_sequence = tokenizer.texts_to_sequences(train)\n",
        "  X_test_sequence = tokenizer.texts_to_sequences(test)\n",
        "\n",
        "  X_train_padded = sequence.pad_sequences(X_train_sequence, maxlen=max_len)\n",
        "  X_test_padded = sequence.pad_sequences(X_test_sequence, maxlen=max_len)\n",
        "  print('text example:', train[0])\n",
        "  print('sequence of indices(before padding):', X_train_sequence[0])\n",
        "  print('sequence of indices(after padding):', X_train_padded[0])\n",
        "  return X_train_padded,X_test_padded, tokenizer.word_index\n",
        "\n",
        "def creat_embedding_matrix(embedding_vector, word_index):\n",
        "  \"\"\"  \n",
        "    Create embedding matrix from the embedding vector.\n",
        "  \"\"\"  \n",
        "  embedding_dimension = 300\n",
        "  vocabulary_length = len(word_index)+1\n",
        "  embedding_matrix = np.zeros((vocabulary_length, embedding_dimension))\n",
        "\n",
        "  for w, i in tqdm(word_index.items()):\n",
        "    if i < vocabulary_length:\n",
        "        vector = embedding_vector.get(w)\n",
        "        if vector is not None:\n",
        "            embedding_matrix[i] = vector\n",
        "\n",
        "  return embedding_matrix\n",
        "\n",
        "def plot_accuracy(history):\n",
        "  \"\"\"  \n",
        "    Plot training and validation accuracy against epochs.\n",
        "  \"\"\"  \n",
        "  epochs = len(history.history['loss'])\n",
        "  plt.plot(range(epochs),history.history['val_accuracy'],label = 'Validation Accuracy')\n",
        "  plt.plot(range(epochs),history.history['accuracy'],label = 'Training Accuracy')\n",
        "  plt.title('Epochs vs Accuracy')\n",
        "  plt.legend()\n",
        "  plt.show()\n",
        "\n",
        "def plot_loss(history):\n",
        "  \"\"\"  \n",
        "    Plot training and validation loss against epochs.\n",
        "  \"\"\" \n",
        "  epochs = len(history.history['loss'])\n",
        "  plt.plot(range(epochs),history.history['val_loss'],label = 'Validation Loss')\n",
        "  plt.plot(range(epochs),history.history['loss'],label = 'Training Loss')\n",
        "  plt.title('Epochs vs Loss')\n",
        "  plt.legend()\n",
        "  plt.show()\n",
        "\n",
        "def plot_confusion_matrix(confusion_matrix):\n",
        "  group_names = ['True Negative','False Positive','False Neg','True Positive']\n",
        "  group_counts = ['{0:0.0f}'.format(value) for value in\n",
        "                confusion_matrix.flatten()]\n",
        "  group_percentages = ['{0:.2%}'.format(value) for value in\n",
        "                     confusion_matrix.flatten()/np.sum(confusion_matrix)]\n",
        "  labels = [f'{v1}\\n{v2}\\n{v3}' for v1, v2, v3 in\n",
        "          zip(group_names,group_counts,group_percentages)]\n",
        "  labels = np.asarray(labels).reshape(2,2)\n",
        "  sns.heatmap(confusion_matrix, annot=labels, fmt='', cmap='Blues')"
      ],
      "execution_count": null,
      "outputs": []
    },
    {
      "cell_type": "code",
      "metadata": {
        "colab": {
          "base_uri": "https://localhost:8080/",
          "height": 66,
          "referenced_widgets": [
            "4769a7cfbe854e268b3f9fd97fda768e",
            "d14df3bcce0b4cc68422aa38b8f02b57",
            "87deebc985b543f590419d20e8d68dda",
            "7cda0f6456844dfdb700c57dfdba7d5c",
            "7e65d48baaf443f5a66fd62bf5104a41",
            "df6a59353f5449cb8dafe0edfd9e6ff6",
            "da8e72fa99ee4f0294bf27d1107a0bab",
            "8a7858d090f3437b9b578de9cd30d9b3"
          ]
        },
        "id": "aoM9iW6sLuLN",
        "outputId": "997df425-7dbb-4a26-9d67-1cf2e418af59"
      },
      "source": [
        "train['cleaned_comment'] = [clean_text(i) for i in tqdm(train['comment'].values.tolist())]"
      ],
      "execution_count": null,
      "outputs": [
        {
          "output_type": "display_data",
          "data": {
            "application/vnd.jupyter.widget-view+json": {
              "model_id": "4769a7cfbe854e268b3f9fd97fda768e",
              "version_minor": 0,
              "version_major": 2
            },
            "text/plain": [
              "HBox(children=(FloatProgress(value=0.0, max=1010826.0), HTML(value='')))"
            ]
          },
          "metadata": {
            "tags": []
          }
        },
        {
          "output_type": "stream",
          "text": [
            "\n"
          ],
          "name": "stdout"
        }
      ]
    },
    {
      "cell_type": "code",
      "metadata": {
        "colab": {
          "base_uri": "https://localhost:8080/",
          "height": 66,
          "referenced_widgets": [
            "c15855f2856f4e1882d086494e899b30",
            "e54dea257ea340f9ac2b185c286cd4db",
            "75a6e73f70014d30b9f34f4326568a9e",
            "cb9cef1ca9a94cd48720fbd08dcd043f",
            "9c0e35d8600844cfb80733ac2cd3230f",
            "da710153c2eb42149bdb9055ca6a99de",
            "07f8c7c3b3844fbba3fff294a837de8a",
            "fa5870a0eb96417bbe68b875f7fb94a2"
          ]
        },
        "id": "GCE32W-5L-SQ",
        "outputId": "a74beab1-7981-4f9c-9bd4-2721adc61741"
      },
      "source": [
        "test['cleaned_comment'] = [clean_text(i) for i in tqdm(test['comment'].values.tolist())]"
      ],
      "execution_count": null,
      "outputs": [
        {
          "output_type": "display_data",
          "data": {
            "application/vnd.jupyter.widget-view+json": {
              "model_id": "c15855f2856f4e1882d086494e899b30",
              "version_minor": 0,
              "version_major": 2
            },
            "text/plain": [
              "HBox(children=(FloatProgress(value=0.0, max=251608.0), HTML(value='')))"
            ]
          },
          "metadata": {
            "tags": []
          }
        },
        {
          "output_type": "stream",
          "text": [
            "\n"
          ],
          "name": "stdout"
        }
      ]
    },
    {
      "cell_type": "markdown",
      "metadata": {
        "id": "XW3g70QcJNs9"
      },
      "source": [
        "Save and reload data to prevent runtime crushing due data cleaning running out available RAM"
      ]
    },
    {
      "cell_type": "code",
      "metadata": {
        "id": "7oEkxHKroPO-"
      },
      "source": [
        "output = '/content/drive/MyDrive/'\n",
        "train.to_pickle(output + 'cleaned_train.p')\n",
        "test.to_pickle(output + 'cleaned_test.p')"
      ],
      "execution_count": null,
      "outputs": []
    },
    {
      "cell_type": "code",
      "metadata": {
        "id": "50brG7_9vDWw"
      },
      "source": [
        "output = '/content/drive/MyDrive/'\n",
        "train = pd.read_pickle(output + 'cleaned_train.p')\n",
        "test = pd.read_pickle(output + 'cleaned_test.p')\n",
        "embedding_matrix = pd.read_pickle(output + 'embedding_matrix.p')"
      ],
      "execution_count": 6,
      "outputs": []
    },
    {
      "cell_type": "markdown",
      "metadata": {
        "id": "JZISrr10KP6X"
      },
      "source": [
        "As comments come in various length, while neural networks require the size of each data point to be the same, so that we have to pad each data point to the maximum length among all data point. However, the length of the longest comments is 10000 words while 99.88\\% of comments are less than 200 words. We need to remove those excessively long comments as it causes a burden to hardware, significantly increases the learning time, and degrades models performance."
      ]
    },
    {
      "cell_type": "code",
      "metadata": {
        "colab": {
          "base_uri": "https://localhost:8080/"
        },
        "id": "o-GuA_f-JYzW",
        "outputId": "21a7e730-65d6-4409-9bc3-699ff1dd8c69"
      },
      "source": [
        "train[train['cleaned_comment'].str.len() <= 200]['cleaned_comment'].count() / train['cleaned_comment'].count()"
      ],
      "execution_count": 8,
      "outputs": [
        {
          "output_type": "execute_result",
          "data": {
            "text/plain": [
              "0.9988138413535069"
            ]
          },
          "metadata": {
            "tags": []
          },
          "execution_count": 8
        }
      ]
    },
    {
      "cell_type": "code",
      "metadata": {
        "colab": {
          "base_uri": "https://localhost:8080/"
        },
        "id": "-mFS063kKLQD",
        "outputId": "fc16d571-d16b-4008-a984-c8d909a6bf29"
      },
      "source": [
        "test[test['cleaned_comment'].str.len() <= 200]['cleaned_comment'].count() / test['cleaned_comment'].count()"
      ],
      "execution_count": 9,
      "outputs": [
        {
          "output_type": "execute_result",
          "data": {
            "text/plain": [
              "0.9987679247082764"
            ]
          },
          "metadata": {
            "tags": []
          },
          "execution_count": 9
        }
      ]
    },
    {
      "cell_type": "code",
      "metadata": {
        "id": "kyfCVCkOMuQu"
      },
      "source": [
        "X_train = train[train['cleaned_comment'].str.len() <= 200]['cleaned_comment']\n",
        "y_train = train[train['cleaned_comment'].str.len() <= 200]['label']\n",
        "X_test = test[test['cleaned_comment'].str.len() <= 200]['cleaned_comment']\n",
        "y_test = test[test['cleaned_comment'].str.len() <= 200]['label']"
      ],
      "execution_count": null,
      "outputs": []
    },
    {
      "cell_type": "code",
      "metadata": {
        "id": "tlT1q8yt5VaB"
      },
      "source": [
        "subreddit_train = train[train['cleaned_comment'].str.len() <= 200]['subreddit']\n",
        "subreddit_test = test[test['cleaned_comment'].str.len() <= 200]['subreddit']"
      ],
      "execution_count": null,
      "outputs": []
    },
    {
      "cell_type": "code",
      "metadata": {
        "colab": {
          "base_uri": "https://localhost:8080/",
          "height": 295
        },
        "id": "GhQ37mSO47eR",
        "outputId": "570b6fcf-b07f-4a79-a924-f25534b0f86a"
      },
      "source": [
        "train.loc[train['label'] == 1, 'subreddit'].str.len().hist(label='sarcastic', alpha=.5)\n",
        "train.loc[train['label'] == 0, 'subreddit'].str.len().hist(label='normal', alpha=.5)\n",
        "plt.title('The Distribution of Subreddit Lengths' )\n",
        "plt.xlabel(\"Length\")\n",
        "plt.ylabel('Frequency',rotation=0)\n",
        "plt.legend();"
      ],
      "execution_count": null,
      "outputs": [
        {
          "output_type": "display_data",
          "data": {
            "image/png": "[encoded data removed]",
            "text/plain": [
              "<Figure size 432x288 with 1 Axes>"
            ]
          },
          "metadata": {
            "tags": [],
            "needs_background": "light"
          }
        }
      ]
    },
    {
      "cell_type": "code",
      "metadata": {
        "colab": {
          "base_uri": "https://localhost:8080/"
        },
        "id": "M_8YUkY3-ZCo",
        "outputId": "318baa70-c398-49a0-cc42-988a15240482"
      },
      "source": [
        "X_train_padded, X_test_padded, word_index = creat_padded_sequence(X_train, X_test)"
      ],
      "execution_count": null,
      "outputs": [
        {
          "output_type": "stream",
          "text": [
            "text example: NC NH\n",
            "sequence of indices(before padding): [3808, 6172]\n",
            "sequence of indices(after padding): [   0    0    0    0    0    0    0    0    0    0    0    0    0    0\n",
            "    0    0    0    0    0    0    0    0    0    0    0    0    0    0\n",
            "    0    0    0    0    0    0    0    0    0    0    0    0    0    0\n",
            "    0    0    0    0    0    0    0    0    0    0    0    0    0    0\n",
            "    0    0    0    0    0    0    0    0    0    0    0    0    0    0\n",
            "    0    0    0    0    0    0    0    0    0    0    0    0    0    0\n",
            "    0    0    0    0    0    0    0    0    0    0    0    0    0    0\n",
            "    0    0    0    0    0    0    0    0    0    0    0    0    0    0\n",
            "    0    0    0    0    0    0    0    0    0    0    0    0    0    0\n",
            "    0    0    0    0    0    0    0    0    0    0    0    0    0    0\n",
            "    0    0    0    0    0    0    0    0    0    0    0    0    0    0\n",
            "    0    0    0    0    0    0    0    0    0    0    0    0    0    0\n",
            "    0    0    0    0    0    0    0    0    0    0    0    0    0    0\n",
            "    0    0    0    0    0    0    0    0    0    0    0    0    0    0\n",
            "    0    0 3808 6172]\n"
          ],
          "name": "stdout"
        }
      ]
    },
    {
      "cell_type": "code",
      "metadata": {
        "colab": {
          "base_uri": "https://localhost:8080/"
        },
        "id": "zX4AaBxz5kem",
        "outputId": "222419f6-9bff-454d-edf0-518e5aac72bb"
      },
      "source": [
        "subreddit_train_padded, subreddit_test_padded, subreddit_word_index = creat_padded_sequence(subreddit_train, subreddit_test)"
      ],
      "execution_count": null,
      "outputs": [
        {
          "output_type": "stream",
          "text": [
            "text example: politics\n",
            "sequence of indices(before padding): [2]\n",
            "sequence of indices(after padding): [0 0 0 0 0 0 0 0 0 0 0 0 0 0 0 0 0 0 0 0 2]\n"
          ],
          "name": "stdout"
        }
      ]
    },
    {
      "cell_type": "code",
      "metadata": {
        "id": "jyvfKJJ-7rsH"
      },
      "source": [
        " X_train_combined = np.hstack([X_train_padded,subreddit_train_padded])\n",
        " X_test_combined = np.hstack([X_test_padded,subreddit_test_padded])"
      ],
      "execution_count": null,
      "outputs": []
    },
    {
      "cell_type": "code",
      "metadata": {
        "id": "ggB8SDJ_jj9j"
      },
      "source": [
        "#!unzip /content/glove.840B.300d.zip"
      ],
      "execution_count": null,
      "outputs": []
    },
    {
      "cell_type": "code",
      "metadata": {
        "id": "_Bpkzpax6xuW"
      },
      "source": [
        "embedding_vector = read_Glove_embeddings('/content/glove.840B.300d.txt')"
      ],
      "execution_count": null,
      "outputs": []
    },
    {
      "cell_type": "code",
      "metadata": {
        "colab": {
          "base_uri": "https://localhost:8080/",
          "height": 66,
          "referenced_widgets": [
            "10b6efc2a5184ec6b3ddc879408720bb",
            "d124c8cce46140e3879007cf2e391b75",
            "113a606dab024c92b90bf040308e72ce",
            "cd1b5e3033544ca5b39a9413b00cf483",
            "f10992c5218f40598980fbbe55eae845",
            "4e3747bb2aa34f34b6754d3bab1c4164",
            "039176a5494b4de08e0a3df2014096d5",
            "e16338c3a5c3490eb6348326ac4c432e"
          ]
        },
        "id": "ngOT6w2_7Xyq",
        "outputId": "f98dda8e-f13d-471f-984e-542ae11751cc"
      },
      "source": [
        "embedding_matrix = creat_embedding_matrix(embedding_vector, word_index)"
      ],
      "execution_count": null,
      "outputs": [
        {
          "output_type": "display_data",
          "data": {
            "application/vnd.jupyter.widget-view+json": {
              "model_id": "10b6efc2a5184ec6b3ddc879408720bb",
              "version_minor": 0,
              "version_major": 2
            },
            "text/plain": [
              "HBox(children=(FloatProgress(value=0.0, max=117337.0), HTML(value='')))"
            ]
          },
          "metadata": {
            "tags": []
          }
        },
        {
          "output_type": "stream",
          "text": [
            "\n"
          ],
          "name": "stdout"
        }
      ]
    },
    {
      "cell_type": "code",
      "metadata": {
        "id": "-Hf4_OJn6y9B"
      },
      "source": [
        "pd.to_pickle(embedding_matrix, output + 'embedding_matrix.p')"
      ],
      "execution_count": null,
      "outputs": []
    },
    {
      "cell_type": "code",
      "metadata": {
        "colab": {
          "base_uri": "https://localhost:8080/"
        },
        "id": "2PXmvi0t7gJO",
        "outputId": "8109800e-43b7-45eb-eeee-644ce25a78a4"
      },
      "source": [
        "type(embedding_matrix)"
      ],
      "execution_count": null,
      "outputs": [
        {
          "output_type": "execute_result",
          "data": {
            "text/plain": [
              "numpy.ndarray"
            ]
          },
          "metadata": {
            "tags": []
          },
          "execution_count": 17
        }
      ]
    },
    {
      "cell_type": "markdown",
      "metadata": {
        "id": "XZRGVHxH6fT8"
      },
      "source": [
        "# Glove Word Embedding + GRU Model"
      ]
    },
    {
      "cell_type": "markdown",
      "metadata": {
        "id": "Inep_rrp6q9z"
      },
      "source": [
        "## Feature: Comment"
      ]
    },
    {
      "cell_type": "code",
      "metadata": {
        "colab": {
          "base_uri": "https://localhost:8080/"
        },
        "id": "IOLo8ZDnpSqZ",
        "outputId": "8c4d7d31-2424-435f-990e-bd3129216cdc"
      },
      "source": [
        "embedding_dimension = embedding_matrix.shape[1]\n",
        "vocabulary_length = len(word_index)+1\n",
        "model = Sequential()\n",
        "model.add(Embedding(vocabulary_length, embedding_dimension, trainable = False, weights=[embedding_matrix]))\n",
        "model.add(GRU(128, return_sequences=False))\n",
        "model.add(Dropout(0.5))\n",
        "model.add(Dense(1, activation = 'sigmoid'))\n",
        "model.compile(loss='binary_crossentropy', optimizer='adam', metrics=['accuracy',tf.keras.metrics.Precision(),tf.keras.metrics.Recall()])\n",
        "print(model.summary())"
      ],
      "execution_count": null,
      "outputs": [
        {
          "output_type": "stream",
          "text": [
            "Model: \"sequential\"\n",
            "_________________________________________________________________\n",
            "Layer (type)                 Output Shape              Param #   \n",
            "=================================================================\n",
            "embedding (Embedding)        (None, None, 300)         35201400  \n",
            "_________________________________________________________________\n",
            "gru (GRU)                    (None, 128)               165120    \n",
            "_________________________________________________________________\n",
            "dropout (Dropout)            (None, 128)               0         \n",
            "_________________________________________________________________\n",
            "dense (Dense)                (None, 1)                 129       \n",
            "=================================================================\n",
            "Total params: 35,366,649\n",
            "Trainable params: 165,249\n",
            "Non-trainable params: 35,201,400\n",
            "_________________________________________________________________\n",
            "None\n"
          ],
          "name": "stdout"
        }
      ]
    },
    {
      "cell_type": "code",
      "metadata": {
        "colab": {
          "base_uri": "https://localhost:8080/"
        },
        "id": "0BAfxmSrrAYz",
        "outputId": "6d9cf7b5-c46e-4531-9850-2d2c5637d32b"
      },
      "source": [
        "history2 = model.fit(X_train_padded, np.asarray(y_train), validation_data=(X_test_padded, np.asarray(y_test)), batch_size = 256, epochs = 30)"
      ],
      "execution_count": null,
      "outputs": [
        {
          "output_type": "stream",
          "text": [
            "Epoch 1/30\n",
            "3944/3944 [==============================] - 204s 43ms/step - loss: 0.6149 - accuracy: 0.6555 - precision: 0.6719 - recall: 0.6091 - val_loss: 0.5767 - val_accuracy: 0.6930 - val_precision: 0.7203 - val_recall: 0.6316\n",
            "Epoch 2/30\n",
            "3944/3944 [==============================] - 168s 43ms/step - loss: 0.5743 - accuracy: 0.6959 - precision: 0.7198 - recall: 0.6416 - val_loss: 0.5670 - val_accuracy: 0.7022 - val_precision: 0.7368 - val_recall: 0.6296\n",
            "Epoch 3/30\n",
            "3944/3944 [==============================] - 167s 42ms/step - loss: 0.5635 - accuracy: 0.7043 - precision: 0.7279 - recall: 0.6543 - val_loss: 0.5623 - val_accuracy: 0.7060 - val_precision: 0.7407 - val_recall: 0.6344\n",
            "Epoch 4/30\n",
            "3944/3944 [==============================] - 166s 42ms/step - loss: 0.5563 - accuracy: 0.7110 - precision: 0.7339 - recall: 0.6620 - val_loss: 0.5601 - val_accuracy: 0.7077 - val_precision: 0.7349 - val_recall: 0.6504\n",
            "Epoch 5/30\n",
            "3944/3944 [==============================] - 167s 42ms/step - loss: 0.5493 - accuracy: 0.7164 - precision: 0.7389 - recall: 0.6698 - val_loss: 0.5593 - val_accuracy: 0.7084 - val_precision: 0.7265 - val_recall: 0.6690\n",
            "Epoch 6/30\n",
            "3944/3944 [==============================] - 167s 42ms/step - loss: 0.5424 - accuracy: 0.7214 - precision: 0.7432 - recall: 0.6768 - val_loss: 0.5606 - val_accuracy: 0.7078 - val_precision: 0.7447 - val_recall: 0.6330\n",
            "Epoch 7/30\n",
            "3944/3944 [==============================] - 167s 42ms/step - loss: 0.5372 - accuracy: 0.7255 - precision: 0.7475 - recall: 0.6828 - val_loss: 0.5611 - val_accuracy: 0.7085 - val_precision: 0.7302 - val_recall: 0.6620\n",
            "Epoch 8/30\n",
            "3944/3944 [==============================] - 167s 42ms/step - loss: 0.5295 - accuracy: 0.7308 - precision: 0.7520 - recall: 0.6909 - val_loss: 0.5648 - val_accuracy: 0.7069 - val_precision: 0.7140 - val_recall: 0.6907\n",
            "Epoch 9/30\n",
            "3944/3944 [==============================] - 167s 42ms/step - loss: 0.5254 - accuracy: 0.7338 - precision: 0.7535 - recall: 0.6952 - val_loss: 0.5643 - val_accuracy: 0.7072 - val_precision: 0.7291 - val_recall: 0.6599\n",
            "Epoch 10/30\n",
            "3944/3944 [==============================] - 166s 42ms/step - loss: 0.5191 - accuracy: 0.7385 - precision: 0.7588 - recall: 0.6996 - val_loss: 0.5677 - val_accuracy: 0.7061 - val_precision: 0.7247 - val_recall: 0.6652\n",
            "Epoch 11/30\n",
            "3944/3944 [==============================] - 166s 42ms/step - loss: 0.5140 - accuracy: 0.7418 - precision: 0.7612 - recall: 0.7039 - val_loss: 0.5716 - val_accuracy: 0.7049 - val_precision: 0.7185 - val_recall: 0.6744\n",
            "Epoch 12/30\n",
            "3944/3944 [==============================] - 166s 42ms/step - loss: 0.5091 - accuracy: 0.7446 - precision: 0.7644 - recall: 0.7101 - val_loss: 0.5732 - val_accuracy: 0.7038 - val_precision: 0.7243 - val_recall: 0.6587\n",
            "Epoch 13/30\n",
            "3944/3944 [==============================] - 163s 41ms/step - loss: 0.5049 - accuracy: 0.7481 - precision: 0.7674 - recall: 0.7128 - val_loss: 0.5788 - val_accuracy: 0.7023 - val_precision: 0.7287 - val_recall: 0.6450\n",
            "Epoch 14/30\n",
            "3944/3944 [==============================] - 165s 42ms/step - loss: 0.5002 - accuracy: 0.7512 - precision: 0.7706 - recall: 0.7158 - val_loss: 0.5806 - val_accuracy: 0.7011 - val_precision: 0.7204 - val_recall: 0.6577\n",
            "Epoch 15/30\n",
            "3944/3944 [==============================] - 163s 41ms/step - loss: 0.4977 - accuracy: 0.7522 - precision: 0.7712 - recall: 0.7173 - val_loss: 0.5844 - val_accuracy: 0.7012 - val_precision: 0.7297 - val_recall: 0.6395\n",
            "Epoch 16/30\n",
            "3944/3944 [==============================] - 164s 42ms/step - loss: 0.4943 - accuracy: 0.7544 - precision: 0.7734 - recall: 0.7200 - val_loss: 0.5867 - val_accuracy: 0.6993 - val_precision: 0.7269 - val_recall: 0.6391\n",
            "Epoch 17/30\n",
            "3944/3944 [==============================] - 167s 42ms/step - loss: 0.4925 - accuracy: 0.7550 - precision: 0.7740 - recall: 0.7213 - val_loss: 0.5874 - val_accuracy: 0.7005 - val_precision: 0.7246 - val_recall: 0.6476\n",
            "Epoch 18/30\n",
            "3944/3944 [==============================] - 166s 42ms/step - loss: 0.4898 - accuracy: 0.7578 - precision: 0.7765 - recall: 0.7243 - val_loss: 0.5932 - val_accuracy: 0.6989 - val_precision: 0.7130 - val_recall: 0.6666\n",
            "Epoch 19/30\n",
            "3944/3944 [==============================] - 166s 42ms/step - loss: 0.4878 - accuracy: 0.7584 - precision: 0.7766 - recall: 0.7253 - val_loss: 0.5906 - val_accuracy: 0.6974 - val_precision: 0.7187 - val_recall: 0.6492\n",
            "Epoch 20/30\n",
            "3944/3944 [==============================] - 167s 42ms/step - loss: 0.4874 - accuracy: 0.7589 - precision: 0.7773 - recall: 0.7258 - val_loss: 0.6038 - val_accuracy: 0.6979 - val_precision: 0.7239 - val_recall: 0.6404\n",
            "Epoch 21/30\n",
            "3944/3944 [==============================] - 166s 42ms/step - loss: 0.4845 - accuracy: 0.7609 - precision: 0.7791 - recall: 0.7279 - val_loss: 0.5970 - val_accuracy: 0.6963 - val_precision: 0.7234 - val_recall: 0.6363\n",
            "Epoch 22/30\n",
            "3944/3944 [==============================] - 165s 42ms/step - loss: 0.4836 - accuracy: 0.7612 - precision: 0.7801 - recall: 0.7291 - val_loss: 0.5995 - val_accuracy: 0.6969 - val_precision: 0.7098 - val_recall: 0.6668\n",
            "Epoch 23/30\n",
            "3944/3944 [==============================] - 165s 42ms/step - loss: 0.4828 - accuracy: 0.7623 - precision: 0.7801 - recall: 0.7308 - val_loss: 0.6029 - val_accuracy: 0.6965 - val_precision: 0.7049 - val_recall: 0.6764\n",
            "Epoch 24/30\n",
            "3944/3944 [==============================] - 166s 42ms/step - loss: 0.4821 - accuracy: 0.7620 - precision: 0.7796 - recall: 0.7304 - val_loss: 0.5995 - val_accuracy: 0.6967 - val_precision: 0.7111 - val_recall: 0.6634\n",
            "Epoch 25/30\n",
            "3944/3944 [==============================] - 166s 42ms/step - loss: 0.4814 - accuracy: 0.7630 - precision: 0.7808 - recall: 0.7313 - val_loss: 0.6039 - val_accuracy: 0.6964 - val_precision: 0.7156 - val_recall: 0.6527\n",
            "Epoch 26/30\n",
            "3944/3944 [==============================] - 166s 42ms/step - loss: 0.4801 - accuracy: 0.7638 - precision: 0.7822 - recall: 0.7322 - val_loss: 0.6046 - val_accuracy: 0.6970 - val_precision: 0.7229 - val_recall: 0.6395\n",
            "Epoch 27/30\n",
            "3944/3944 [==============================] - 166s 42ms/step - loss: 0.4804 - accuracy: 0.7631 - precision: 0.7815 - recall: 0.7317 - val_loss: 0.6037 - val_accuracy: 0.6957 - val_precision: 0.7192 - val_recall: 0.6428\n",
            "Epoch 28/30\n",
            "3944/3944 [==============================] - 166s 42ms/step - loss: 0.4804 - accuracy: 0.7631 - precision: 0.7813 - recall: 0.7313 - val_loss: 0.6078 - val_accuracy: 0.6958 - val_precision: 0.7071 - val_recall: 0.6693\n",
            "Epoch 29/30\n",
            "3944/3944 [==============================] - 170s 43ms/step - loss: 0.4814 - accuracy: 0.7635 - precision: 0.7823 - recall: 0.7319 - val_loss: 0.6035 - val_accuracy: 0.6951 - val_precision: 0.7158 - val_recall: 0.6476\n",
            "Epoch 30/30\n",
            "3944/3944 [==============================] - 171s 43ms/step - loss: 0.4807 - accuracy: 0.7638 - precision: 0.7820 - recall: 0.7310 - val_loss: 0.6038 - val_accuracy: 0.6944 - val_precision: 0.7137 - val_recall: 0.6500\n"
          ],
          "name": "stdout"
        }
      ]
    },
    {
      "cell_type": "code",
      "metadata": {
        "colab": {
          "base_uri": "https://localhost:8080/",
          "height": 281
        },
        "id": "Dni5OUL1dsg-",
        "outputId": "182241db-1ce8-4b03-db26-130fde0bf5dd"
      },
      "source": [
        "plot_accuracy(history2)"
      ],
      "execution_count": null,
      "outputs": [
        {
          "output_type": "display_data",
          "data": {
            "image/png": "[encoded data removed]",
            "text/plain": [
              "<Figure size 432x288 with 1 Axes>"
            ]
          },
          "metadata": {
            "tags": [],
            "needs_background": "light"
          }
        }
      ]
    },
    {
      "cell_type": "code",
      "metadata": {
        "colab": {
          "base_uri": "https://localhost:8080/",
          "height": 281
        },
        "id": "-FC0gSEkdxyb",
        "outputId": "f34e2b1c-c20f-49e5-b00c-56c5f9458baa"
      },
      "source": [
        "plot_loss(history2)"
      ],
      "execution_count": null,
      "outputs": [
        {
          "output_type": "display_data",
          "data": {
            "image/png": "[encoded data removed]",
            "text/plain": [
              "<Figure size 432x288 with 1 Axes>"
            ]
          },
          "metadata": {
            "tags": [],
            "needs_background": "light"
          }
        }
      ]
    },
    {
      "cell_type": "code",
      "metadata": {
        "id": "Ub_5xIdbfgJF"
      },
      "source": [
        "model.save('/content/drive/MyDrive/' + '1-cleanedcomments<200-10epochs.h5')"
      ],
      "execution_count": null,
      "outputs": []
    },
    {
      "cell_type": "code",
      "metadata": {
        "id": "R0ukkOAIf86-"
      },
      "source": [
        ""
      ],
      "execution_count": null,
      "outputs": []
    },
    {
      "cell_type": "markdown",
      "metadata": {
        "id": "Cq_D3Lkr6vnp"
      },
      "source": [
        "## Feature: Comment, Subreddit"
      ]
    },
    {
      "cell_type": "code",
      "metadata": {
        "id": "hG7CaFE3Z4kI",
        "colab": {
          "base_uri": "https://localhost:8080/"
        },
        "outputId": "bd73eddd-8e88-47f7-e586-dae253eaba97"
      },
      "source": [
        "embedding_dimension = embedding_matrix.shape[1]\n",
        "vocabulary_length = len(word_index)+1\n",
        "model2 = Sequential()\n",
        "model2.add(Embedding(vocabulary_length, embedding_dimension, trainable = False, weights=[embedding_matrix]))\n",
        "model2.add(GRU(128, return_sequences=False))\n",
        "model2.add(Dropout(0.5))\n",
        "model2.add(Dense(1, activation = 'sigmoid'))\n",
        "model2.compile(loss='binary_crossentropy', optimizer='adam', metrics=['accuracy',tf.keras.metrics.Precision(),tf.keras.metrics.Recall()])\n",
        "print(model2.summary())"
      ],
      "execution_count": null,
      "outputs": [
        {
          "output_type": "stream",
          "text": [
            "Model: \"sequential\"\n",
            "_________________________________________________________________\n",
            "Layer (type)                 Output Shape              Param #   \n",
            "=================================================================\n",
            "embedding (Embedding)        (None, None, 300)         35201400  \n",
            "_________________________________________________________________\n",
            "gru (GRU)                    (None, 128)               165120    \n",
            "_________________________________________________________________\n",
            "dropout (Dropout)            (None, 128)               0         \n",
            "_________________________________________________________________\n",
            "dense (Dense)                (None, 1)                 129       \n",
            "=================================================================\n",
            "Total params: 35,366,649\n",
            "Trainable params: 165,249\n",
            "Non-trainable params: 35,201,400\n",
            "_________________________________________________________________\n",
            "None\n"
          ],
          "name": "stdout"
        }
      ]
    },
    {
      "cell_type": "code",
      "metadata": {
        "colab": {
          "base_uri": "https://localhost:8080/"
        },
        "id": "4WTTzT9I9LIq",
        "outputId": "36b3d249-becd-46b5-f465-47c5ee1a8199"
      },
      "source": [
        "batch_size = 256\n",
        "epochs  = 30\n",
        "history = model2.fit(X_train_combined, np.asarray(y_train), validation_data=(X_test_combined, np.asarray(y_test)), batch_size = batch_size, epochs = epochs)"
      ],
      "execution_count": null,
      "outputs": [
        {
          "output_type": "stream",
          "text": [
            "Epoch 1/30\n",
            "3944/3944 [==============================] - 215s 46ms/step - loss: 0.6588 - accuracy: 0.5866 - precision: 0.5903 - recall: 0.5789 - val_loss: 0.5734 - val_accuracy: 0.6955 - val_precision: 0.7200 - val_recall: 0.6405\n",
            "Epoch 2/30\n",
            "3944/3944 [==============================] - 179s 45ms/step - loss: 0.5682 - accuracy: 0.7024 - precision: 0.7261 - recall: 0.6505 - val_loss: 0.5635 - val_accuracy: 0.7028 - val_precision: 0.6970 - val_recall: 0.7183\n",
            "Epoch 3/30\n",
            "3944/3944 [==============================] - 179s 45ms/step - loss: 0.5540 - accuracy: 0.7130 - precision: 0.7343 - recall: 0.6679 - val_loss: 0.5560 - val_accuracy: 0.7100 - val_precision: 0.7256 - val_recall: 0.6759\n",
            "Epoch 4/30\n",
            "3944/3944 [==============================] - 179s 45ms/step - loss: 0.5430 - accuracy: 0.7218 - precision: 0.7430 - recall: 0.6798 - val_loss: 0.5544 - val_accuracy: 0.7113 - val_precision: 0.7134 - val_recall: 0.7069\n",
            "Epoch 5/30\n",
            "3944/3944 [==============================] - 178s 45ms/step - loss: 0.5337 - accuracy: 0.7288 - precision: 0.7474 - recall: 0.6925 - val_loss: 0.5550 - val_accuracy: 0.7124 - val_precision: 0.7338 - val_recall: 0.6670\n",
            "Epoch 6/30\n",
            "3944/3944 [==============================] - 177s 45ms/step - loss: 0.5249 - accuracy: 0.7352 - precision: 0.7536 - recall: 0.6980 - val_loss: 0.5540 - val_accuracy: 0.7135 - val_precision: 0.7330 - val_recall: 0.6722\n",
            "Epoch 7/30\n",
            "3944/3944 [==============================] - 178s 45ms/step - loss: 0.5162 - accuracy: 0.7417 - precision: 0.7595 - recall: 0.7073 - val_loss: 0.5575 - val_accuracy: 0.7115 - val_precision: 0.7250 - val_recall: 0.6819\n",
            "Epoch 8/30\n",
            "3944/3944 [==============================] - 178s 45ms/step - loss: 0.5096 - accuracy: 0.7458 - precision: 0.7620 - recall: 0.7145 - val_loss: 0.5624 - val_accuracy: 0.7112 - val_precision: 0.7291 - val_recall: 0.6729\n",
            "Epoch 9/30\n",
            "3944/3944 [==============================] - 177s 45ms/step - loss: 0.5026 - accuracy: 0.7507 - precision: 0.7677 - recall: 0.7190 - val_loss: 0.5709 - val_accuracy: 0.7092 - val_precision: 0.7266 - val_recall: 0.6714\n",
            "Epoch 10/30\n",
            "3944/3944 [==============================] - 179s 45ms/step - loss: 0.4933 - accuracy: 0.7571 - precision: 0.7746 - recall: 0.7267 - val_loss: 0.5732 - val_accuracy: 0.7088 - val_precision: 0.7226 - val_recall: 0.6785\n",
            "Epoch 11/30\n",
            "3944/3944 [==============================] - 179s 45ms/step - loss: 0.4852 - accuracy: 0.7624 - precision: 0.7794 - recall: 0.7325 - val_loss: 0.5798 - val_accuracy: 0.7063 - val_precision: 0.7158 - val_recall: 0.6848\n",
            "Epoch 12/30\n",
            "3944/3944 [==============================] - 179s 45ms/step - loss: 0.4782 - accuracy: 0.7674 - precision: 0.7827 - recall: 0.7398 - val_loss: 0.5818 - val_accuracy: 0.7040 - val_precision: 0.7076 - val_recall: 0.6959\n",
            "Epoch 13/30\n",
            "3944/3944 [==============================] - 179s 45ms/step - loss: 0.4728 - accuracy: 0.7703 - precision: 0.7854 - recall: 0.7435 - val_loss: 0.5917 - val_accuracy: 0.7033 - val_precision: 0.7080 - val_recall: 0.6926\n",
            "Epoch 14/30\n",
            "3944/3944 [==============================] - 180s 46ms/step - loss: 0.4681 - accuracy: 0.7734 - precision: 0.7887 - recall: 0.7477 - val_loss: 0.5935 - val_accuracy: 0.7005 - val_precision: 0.7313 - val_recall: 0.6345\n",
            "Epoch 15/30\n",
            "3944/3944 [==============================] - 179s 46ms/step - loss: 0.4616 - accuracy: 0.7773 - precision: 0.7929 - recall: 0.7509 - val_loss: 0.6079 - val_accuracy: 0.6999 - val_precision: 0.7020 - val_recall: 0.6953\n",
            "Epoch 16/30\n",
            "3944/3944 [==============================] - 179s 46ms/step - loss: 0.4560 - accuracy: 0.7811 - precision: 0.7967 - recall: 0.7549 - val_loss: 0.6050 - val_accuracy: 0.7011 - val_precision: 0.7182 - val_recall: 0.6625\n",
            "Epoch 17/30\n",
            "3944/3944 [==============================] - 179s 45ms/step - loss: 0.4541 - accuracy: 0.7816 - precision: 0.7973 - recall: 0.7555 - val_loss: 0.6078 - val_accuracy: 0.6999 - val_precision: 0.7115 - val_recall: 0.6732\n",
            "Epoch 18/30\n",
            "3944/3944 [==============================] - 179s 45ms/step - loss: 0.4496 - accuracy: 0.7839 - precision: 0.7992 - recall: 0.7591 - val_loss: 0.6205 - val_accuracy: 0.6987 - val_precision: 0.7104 - val_recall: 0.6712\n",
            "Epoch 19/30\n",
            "3944/3944 [==============================] - 179s 45ms/step - loss: 0.4468 - accuracy: 0.7854 - precision: 0.8010 - recall: 0.7600 - val_loss: 0.6181 - val_accuracy: 0.6982 - val_precision: 0.7052 - val_recall: 0.6819\n",
            "Epoch 20/30\n",
            "3944/3944 [==============================] - 179s 45ms/step - loss: 0.4430 - accuracy: 0.7880 - precision: 0.8030 - recall: 0.7640 - val_loss: 0.6342 - val_accuracy: 0.6974 - val_precision: 0.7100 - val_recall: 0.6680\n",
            "Epoch 21/30\n",
            "3944/3944 [==============================] - 179s 45ms/step - loss: 0.4404 - accuracy: 0.7891 - precision: 0.8048 - recall: 0.7642 - val_loss: 0.6241 - val_accuracy: 0.6972 - val_precision: 0.7083 - val_recall: 0.6712\n",
            "Epoch 22/30\n",
            "3944/3944 [==============================] - 180s 46ms/step - loss: 0.4393 - accuracy: 0.7901 - precision: 0.8051 - recall: 0.7664 - val_loss: 0.6270 - val_accuracy: 0.6979 - val_precision: 0.7196 - val_recall: 0.6492\n",
            "Epoch 23/30\n",
            "3944/3944 [==============================] - 179s 45ms/step - loss: 0.4359 - accuracy: 0.7918 - precision: 0.8073 - recall: 0.7658 - val_loss: 0.6322 - val_accuracy: 0.6959 - val_precision: 0.7072 - val_recall: 0.6693\n",
            "Epoch 24/30\n",
            "3944/3944 [==============================] - 179s 45ms/step - loss: 0.4331 - accuracy: 0.7939 - precision: 0.8087 - recall: 0.7703 - val_loss: 0.6414 - val_accuracy: 0.6958 - val_precision: 0.7147 - val_recall: 0.6524\n",
            "Epoch 25/30\n",
            "3944/3944 [==============================] - 180s 46ms/step - loss: 0.4322 - accuracy: 0.7947 - precision: 0.8095 - recall: 0.7715 - val_loss: 0.6339 - val_accuracy: 0.6959 - val_precision: 0.7070 - val_recall: 0.6697\n",
            "Epoch 26/30\n",
            "3944/3944 [==============================] - 180s 46ms/step - loss: 0.4306 - accuracy: 0.7952 - precision: 0.8100 - recall: 0.7715 - val_loss: 0.6486 - val_accuracy: 0.6945 - val_precision: 0.7073 - val_recall: 0.6640\n",
            "Epoch 27/30\n",
            "3944/3944 [==============================] - 180s 46ms/step - loss: 0.4292 - accuracy: 0.7957 - precision: 0.8115 - recall: 0.7710 - val_loss: 0.6536 - val_accuracy: 0.6945 - val_precision: 0.7056 - val_recall: 0.6682\n",
            "Epoch 28/30\n",
            "3944/3944 [==============================] - 180s 46ms/step - loss: 0.4280 - accuracy: 0.7968 - precision: 0.8118 - recall: 0.7732 - val_loss: 0.6493 - val_accuracy: 0.6923 - val_precision: 0.7026 - val_recall: 0.6677\n",
            "Epoch 29/30\n",
            "3944/3944 [==============================] - 180s 46ms/step - loss: 0.4268 - accuracy: 0.7975 - precision: 0.8130 - recall: 0.7733 - val_loss: 0.6568 - val_accuracy: 0.6935 - val_precision: 0.7017 - val_recall: 0.6739\n",
            "Epoch 30/30\n",
            "3944/3944 [==============================] - 180s 46ms/step - loss: 0.4258 - accuracy: 0.7976 - precision: 0.8127 - recall: 0.7730 - val_loss: 0.6525 - val_accuracy: 0.6947 - val_precision: 0.7073 - val_recall: 0.6649\n"
          ],
          "name": "stdout"
        }
      ]
    },
    {
      "cell_type": "code",
      "metadata": {
        "colab": {
          "base_uri": "https://localhost:8080/",
          "height": 281
        },
        "id": "Pf4XyFt09ZYQ",
        "outputId": "c536cca6-d97d-4cea-ea12-3f3530498495"
      },
      "source": [
        "plot_loss(history)"
      ],
      "execution_count": null,
      "outputs": [
        {
          "output_type": "display_data",
          "data": {
            "image/png": "[encoded data removed]",
            "text/plain": [
              "<Figure size 432x288 with 1 Axes>"
            ]
          },
          "metadata": {
            "tags": [],
            "needs_background": "light"
          }
        }
      ]
    },
    {
      "cell_type": "code",
      "metadata": {
        "colab": {
          "base_uri": "https://localhost:8080/",
          "height": 281
        },
        "id": "9S7vz1Z1Mba-",
        "outputId": "f2e5feb8-032e-42bc-9249-787feb455699"
      },
      "source": [
        "plot_accuracy(history)"
      ],
      "execution_count": null,
      "outputs": [
        {
          "output_type": "display_data",
          "data": {
            "image/png": "[encoded data removed]",
            "text/plain": [
              "<Figure size 432x288 with 1 Axes>"
            ]
          },
          "metadata": {
            "tags": [],
            "needs_background": "light"
          }
        }
      ]
    },
    {
      "cell_type": "code",
      "metadata": {
        "id": "QIHgAgKaMkvk"
      },
      "source": [
        "y_predict = model2.predict(X_test_padded,batch_size)"
      ],
      "execution_count": null,
      "outputs": []
    },
    {
      "cell_type": "code",
      "metadata": {
        "colab": {
          "base_uri": "https://localhost:8080/",
          "height": 265
        },
        "id": "UGxuxaqjSTzH",
        "outputId": "b3b4dbd2-0dbd-4cc2-c3df-0a17ffbf55ae"
      },
      "source": [
        "plot_confusion_matrix(confusion_matrix(y_test, y_predict.round()))"
      ],
      "execution_count": null,
      "outputs": [
        {
          "output_type": "display_data",
          "data": {
            "image/png": "[encoded data removed]",
            "text/plain": [
              "<Figure size 432x288 with 2 Axes>"
            ]
          },
          "metadata": {
            "tags": [],
            "needs_background": "light"
          }
        }
      ]
    },
    {
      "cell_type": "code",
      "metadata": {
        "id": "Hxiu9UteWU3d"
      },
      "source": [
        "model2.save('/content/drive/MyDrive/' + '2-cleanedcomments<200+subreddits-30epochs.h5')"
      ],
      "execution_count": null,
      "outputs": []
    },
    {
      "cell_type": "markdown",
      "metadata": {
        "id": "yH7Ye7L6J5EB"
      },
      "source": [
        "## Add 1 More Layer To GRU"
      ]
    },
    {
      "cell_type": "code",
      "metadata": {
        "colab": {
          "base_uri": "https://localhost:8080/"
        },
        "id": "Tpccl2SoJ9Ma",
        "outputId": "9d837e62-e9a6-4ca9-aec2-61c9a322a838"
      },
      "source": [
        "embedding_dimension = embedding_matrix.shape[1]\n",
        "vocabulary_length = len(word_index)+1\n",
        "model3 = Sequential()\n",
        "model3.add(Embedding(vocabulary_length, embedding_dimension, trainable = False, weights=[embedding_matrix]))\n",
        "model3.add(GRU(128,return_sequences= True, dropout = 0.25))\n",
        "model3.add(GRU(128, dropout = 0.25))\n",
        "model3.add(Dense(1, activation = 'sigmoid'))\n",
        "model3.compile(loss='binary_crossentropy', optimizer='adam', metrics=['accuracy'])\n",
        "print(model3.summary())"
      ],
      "execution_count": null,
      "outputs": [
        {
          "output_type": "stream",
          "text": [
            "Model: \"sequential_4\"\n",
            "_________________________________________________________________\n",
            "Layer (type)                 Output Shape              Param #   \n",
            "=================================================================\n",
            "embedding_3 (Embedding)      (None, None, 300)         35201400  \n",
            "_________________________________________________________________\n",
            "gru_6 (GRU)                  (None, None, 128)         165120    \n",
            "_________________________________________________________________\n",
            "gru_7 (GRU)                  (None, 128)               99072     \n",
            "_________________________________________________________________\n",
            "dense_2 (Dense)              (None, 1)                 129       \n",
            "=================================================================\n",
            "Total params: 35,465,721\n",
            "Trainable params: 264,321\n",
            "Non-trainable params: 35,201,400\n",
            "_________________________________________________________________\n",
            "None\n"
          ],
          "name": "stdout"
        }
      ]
    },
    {
      "cell_type": "code",
      "metadata": {
        "colab": {
          "base_uri": "https://localhost:8080/"
        },
        "id": "GU6dFzfm4vhz",
        "outputId": "2b9adee4-2156-413e-d82b-3bac2da65a2c"
      },
      "source": [
        "history3 = model3.fit(X_train_combined, np.asarray(y_train), validation_data=(X_test_combined, np.asarray(y_test)), batch_size = 256, epochs = 30)"
      ],
      "execution_count": null,
      "outputs": [
        {
          "output_type": "stream",
          "text": [
            "Epoch 1/30\n",
            "3944/3944 [==============================] - 283s 71ms/step - loss: 0.6311 - accuracy: 0.6270 - val_loss: 0.5762 - val_accuracy: 0.6963\n",
            "Epoch 2/30\n",
            "3944/3944 [==============================] - 286s 72ms/step - loss: 0.5726 - accuracy: 0.6972 - val_loss: 0.5638 - val_accuracy: 0.7042\n",
            "Epoch 3/30\n",
            "3944/3944 [==============================] - 280s 71ms/step - loss: 0.5605 - accuracy: 0.7069 - val_loss: 0.5541 - val_accuracy: 0.7116\n",
            "Epoch 4/30\n",
            "3944/3944 [==============================] - 275s 70ms/step - loss: 0.5526 - accuracy: 0.7127 - val_loss: 0.5515 - val_accuracy: 0.7140\n",
            "Epoch 5/30\n",
            "3944/3944 [==============================] - 277s 70ms/step - loss: 0.5480 - accuracy: 0.7171 - val_loss: 0.5529 - val_accuracy: 0.7145\n",
            "Epoch 6/30\n",
            "3944/3944 [==============================] - 278s 71ms/step - loss: 0.5437 - accuracy: 0.7200 - val_loss: 0.5522 - val_accuracy: 0.7154\n",
            "Epoch 7/30\n",
            "3944/3944 [==============================] - 278s 71ms/step - loss: 0.5394 - accuracy: 0.7236 - val_loss: 0.5518 - val_accuracy: 0.7142\n",
            "Epoch 8/30\n",
            "3944/3944 [==============================] - 276s 70ms/step - loss: 0.5376 - accuracy: 0.7248 - val_loss: 0.5484 - val_accuracy: 0.7175\n",
            "Epoch 9/30\n",
            "3944/3944 [==============================] - 276s 70ms/step - loss: 0.5342 - accuracy: 0.7273 - val_loss: 0.5478 - val_accuracy: 0.7176\n",
            "Epoch 10/30\n",
            "3944/3944 [==============================] - 277s 70ms/step - loss: 0.5329 - accuracy: 0.7282 - val_loss: 0.5476 - val_accuracy: 0.7174\n",
            "Epoch 11/30\n",
            "3944/3944 [==============================] - 276s 70ms/step - loss: 0.5312 - accuracy: 0.7296 - val_loss: 0.5494 - val_accuracy: 0.7161\n",
            "Epoch 12/30\n",
            "3944/3944 [==============================] - 276s 70ms/step - loss: 0.5285 - accuracy: 0.7312 - val_loss: 0.5500 - val_accuracy: 0.7184\n",
            "Epoch 13/30\n",
            "3944/3944 [==============================] - 276s 70ms/step - loss: 0.5286 - accuracy: 0.7314 - val_loss: 0.5484 - val_accuracy: 0.7173\n",
            "Epoch 14/30\n",
            "3944/3944 [==============================] - 275s 70ms/step - loss: 0.5275 - accuracy: 0.7330 - val_loss: 0.5494 - val_accuracy: 0.7176\n",
            "Epoch 15/30\n",
            "3944/3944 [==============================] - 276s 70ms/step - loss: 0.5262 - accuracy: 0.7331 - val_loss: 0.5490 - val_accuracy: 0.7180\n",
            "Epoch 16/30\n",
            "3944/3944 [==============================] - 276s 70ms/step - loss: 0.5250 - accuracy: 0.7342 - val_loss: 0.5502 - val_accuracy: 0.7179\n",
            "Epoch 17/30\n",
            "3944/3944 [==============================] - 278s 70ms/step - loss: 0.5252 - accuracy: 0.7345 - val_loss: 0.5494 - val_accuracy: 0.7174\n",
            "Epoch 18/30\n",
            "3944/3944 [==============================] - 277s 70ms/step - loss: 0.5247 - accuracy: 0.7339 - val_loss: 0.5506 - val_accuracy: 0.7179\n",
            "Epoch 19/30\n",
            "3944/3944 [==============================] - 276s 70ms/step - loss: 0.5237 - accuracy: 0.7351 - val_loss: 0.5480 - val_accuracy: 0.7173\n",
            "Epoch 20/30\n",
            "3944/3944 [==============================] - 276s 70ms/step - loss: 0.5239 - accuracy: 0.7351 - val_loss: 0.5507 - val_accuracy: 0.7156\n",
            "Epoch 21/30\n",
            "3944/3944 [==============================] - 276s 70ms/step - loss: 0.5227 - accuracy: 0.7352 - val_loss: 0.5494 - val_accuracy: 0.7179\n",
            "Epoch 22/30\n",
            "3944/3944 [==============================] - 276s 70ms/step - loss: 0.5230 - accuracy: 0.7351 - val_loss: 0.5510 - val_accuracy: 0.7182\n",
            "Epoch 23/30\n",
            "3944/3944 [==============================] - 276s 70ms/step - loss: 0.5215 - accuracy: 0.7365 - val_loss: 0.5508 - val_accuracy: 0.7169\n",
            "Epoch 24/30\n",
            "3944/3944 [==============================] - 275s 70ms/step - loss: 0.5215 - accuracy: 0.7359 - val_loss: 0.5534 - val_accuracy: 0.7164\n",
            "Epoch 25/30\n",
            "3944/3944 [==============================] - 276s 70ms/step - loss: 0.5218 - accuracy: 0.7361 - val_loss: 0.5533 - val_accuracy: 0.7171\n",
            "Epoch 26/30\n",
            "3944/3944 [==============================] - 275s 70ms/step - loss: 0.5217 - accuracy: 0.7367 - val_loss: 0.5508 - val_accuracy: 0.7172\n",
            "Epoch 27/30\n",
            "3944/3944 [==============================] - 277s 70ms/step - loss: 0.5201 - accuracy: 0.7376 - val_loss: 0.5519 - val_accuracy: 0.7161\n",
            "Epoch 28/30\n",
            "3944/3944 [==============================] - 276s 70ms/step - loss: 0.5211 - accuracy: 0.7362 - val_loss: 0.5531 - val_accuracy: 0.7172\n",
            "Epoch 29/30\n",
            "3944/3944 [==============================] - 277s 70ms/step - loss: 0.5199 - accuracy: 0.7376 - val_loss: 0.5532 - val_accuracy: 0.7170\n",
            "Epoch 30/30\n",
            "3944/3944 [==============================] - 278s 71ms/step - loss: 0.5199 - accuracy: 0.7373 - val_loss: 0.5509 - val_accuracy: 0.7171\n"
          ],
          "name": "stdout"
        }
      ]
    },
    {
      "cell_type": "code",
      "metadata": {
        "id": "fZZwHOSD8iHB"
      },
      "source": [
        "plot_loss(history3)"
      ],
      "execution_count": null,
      "outputs": []
    },
    {
      "cell_type": "code",
      "metadata": {
        "id": "sRwhX7L6FnHr"
      },
      "source": [
        "plot_accuracy(history3)"
      ],
      "execution_count": null,
      "outputs": []
    },
    {
      "cell_type": "code",
      "metadata": {
        "id": "gVNcuuQaFqfE"
      },
      "source": [
        "model3.save('/content/drive/MyDrive/' + '3-cleanedcomments<200+subreddits+1layer-30epochs.h5')"
      ],
      "execution_count": null,
      "outputs": []
    },
    {
      "cell_type": "markdown",
      "metadata": {
        "id": "ZUpsgihN4w1k"
      },
      "source": [
        "## Add 2 More Layers To GRU"
      ]
    },
    {
      "cell_type": "code",
      "metadata": {
        "colab": {
          "base_uri": "https://localhost:8080/"
        },
        "id": "trCZJvfAVSQn",
        "outputId": "895e4718-16be-4cc2-d58e-39e502f290e3"
      },
      "source": [
        "embedding_dimension = embedding_matrix.shape[1]\n",
        "vocabulary_length = len(word_index)+1\n",
        "model4 = Sequential()\n",
        "model4.add(Embedding(vocabulary_length, embedding_dimension, trainable = False, weights=[embedding_matrix]))\n",
        "model4.add(GRU(128, return_sequences= True))\n",
        "model4.add(Dropout(0.25))\n",
        "model4.add(GRU(128, return_sequences= True))\n",
        "model4.add(Dropout(0.25))\n",
        "model4.add(GRU(128))\n",
        "model4.add(Dropout(0.25))\n",
        "model4.add(Dense(1, activation = 'sigmoid'))\n",
        "model4.compile(loss='binary_crossentropy', optimizer='adam', metrics=['accuracy'])\n",
        "print(model4.summary())"
      ],
      "execution_count": null,
      "outputs": [
        {
          "output_type": "stream",
          "text": [
            "Model: \"sequential\"\n",
            "_________________________________________________________________\n",
            "Layer (type)                 Output Shape              Param #   \n",
            "=================================================================\n",
            "embedding (Embedding)        (None, None, 300)         35201400  \n",
            "_________________________________________________________________\n",
            "gru (GRU)                    (None, None, 128)         165120    \n",
            "_________________________________________________________________\n",
            "dropout (Dropout)            (None, None, 128)         0         \n",
            "_________________________________________________________________\n",
            "gru_1 (GRU)                  (None, None, 128)         99072     \n",
            "_________________________________________________________________\n",
            "dropout_1 (Dropout)          (None, None, 128)         0         \n",
            "_________________________________________________________________\n",
            "gru_2 (GRU)                  (None, 128)               99072     \n",
            "_________________________________________________________________\n",
            "dropout_2 (Dropout)          (None, 128)               0         \n",
            "_________________________________________________________________\n",
            "dense (Dense)                (None, 1)                 129       \n",
            "=================================================================\n",
            "Total params: 35,564,793\n",
            "Trainable params: 363,393\n",
            "Non-trainable params: 35,201,400\n",
            "_________________________________________________________________\n",
            "None\n"
          ],
          "name": "stdout"
        }
      ]
    },
    {
      "cell_type": "code",
      "metadata": {
        "colab": {
          "base_uri": "https://localhost:8080/"
        },
        "id": "db4RM9u_5Crv",
        "outputId": "18b272b0-2886-4e1f-d903-0363269d4da3"
      },
      "source": [
        "history4 = model4.fit(X_train_combined, np.asarray(y_train), validation_data=(X_test_combined, np.asarray(y_test)), batch_size = 256, epochs = 30)"
      ],
      "execution_count": null,
      "outputs": [
        {
          "output_type": "stream",
          "text": [
            "Epoch 1/30\n",
            "3944/3944 [==============================] - 409s 95ms/step - loss: 0.6350 - accuracy: 0.6192 - val_loss: 0.5681 - val_accuracy: 0.7006\n",
            "Epoch 2/30\n",
            "3944/3944 [==============================] - 376s 95ms/step - loss: 0.5608 - accuracy: 0.7075 - val_loss: 0.5564 - val_accuracy: 0.7098\n",
            "Epoch 3/30\n",
            "3944/3944 [==============================] - 377s 96ms/step - loss: 0.5457 - accuracy: 0.7202 - val_loss: 0.5545 - val_accuracy: 0.7122\n",
            "Epoch 4/30\n",
            "3944/3944 [==============================] - 377s 96ms/step - loss: 0.5333 - accuracy: 0.7286 - val_loss: 0.5517 - val_accuracy: 0.7146\n",
            "Epoch 5/30\n",
            "3944/3944 [==============================] - 376s 95ms/step - loss: 0.5242 - accuracy: 0.7356 - val_loss: 0.5538 - val_accuracy: 0.7142\n",
            "Epoch 6/30\n",
            "3944/3944 [==============================] - 376s 95ms/step - loss: 0.5144 - accuracy: 0.7433 - val_loss: 0.5541 - val_accuracy: 0.7132\n",
            "Epoch 7/30\n",
            "3944/3944 [==============================] - 374s 95ms/step - loss: 0.5041 - accuracy: 0.7494 - val_loss: 0.5590 - val_accuracy: 0.7132\n",
            "Epoch 8/30\n",
            "3944/3944 [==============================] - 373s 95ms/step - loss: 0.4955 - accuracy: 0.7558 - val_loss: 0.5660 - val_accuracy: 0.7093\n",
            "Epoch 9/30\n",
            "3944/3944 [==============================] - 373s 94ms/step - loss: 0.4861 - accuracy: 0.7623 - val_loss: 0.5677 - val_accuracy: 0.7094\n",
            "Epoch 10/30\n",
            "3944/3944 [==============================] - 372s 94ms/step - loss: 0.4783 - accuracy: 0.7677 - val_loss: 0.5735 - val_accuracy: 0.7066\n",
            "Epoch 11/30\n",
            "3944/3944 [==============================] - 372s 94ms/step - loss: 0.4710 - accuracy: 0.7714 - val_loss: 0.5815 - val_accuracy: 0.7058\n",
            "Epoch 12/30\n",
            "3944/3944 [==============================] - 372s 94ms/step - loss: 0.4640 - accuracy: 0.7758 - val_loss: 0.6062 - val_accuracy: 0.7034\n",
            "Epoch 13/30\n",
            "3944/3944 [==============================] - 373s 94ms/step - loss: 0.4573 - accuracy: 0.7804 - val_loss: 0.6131 - val_accuracy: 0.7034\n",
            "Epoch 14/30\n",
            "3944/3944 [==============================] - 373s 94ms/step - loss: 0.4503 - accuracy: 0.7843 - val_loss: 0.6147 - val_accuracy: 0.7009\n",
            "Epoch 15/30\n",
            "3944/3944 [==============================] - 372s 94ms/step - loss: 0.4458 - accuracy: 0.7871 - val_loss: 0.6088 - val_accuracy: 0.7009\n",
            "Epoch 16/30\n",
            "3944/3944 [==============================] - 373s 94ms/step - loss: 0.4406 - accuracy: 0.7902 - val_loss: 0.6107 - val_accuracy: 0.6999\n",
            "Epoch 17/30\n",
            "3944/3944 [==============================] - 373s 95ms/step - loss: 0.4352 - accuracy: 0.7933 - val_loss: 0.6206 - val_accuracy: 0.6979\n",
            "Epoch 18/30\n",
            "3944/3944 [==============================] - 373s 95ms/step - loss: 0.4320 - accuracy: 0.7954 - val_loss: 0.6252 - val_accuracy: 0.6979\n",
            "Epoch 19/30\n",
            "3944/3944 [==============================] - 373s 94ms/step - loss: 0.4288 - accuracy: 0.7968 - val_loss: 0.6229 - val_accuracy: 0.6975\n",
            "Epoch 20/30\n",
            "3944/3944 [==============================] - 373s 95ms/step - loss: 0.4258 - accuracy: 0.7992 - val_loss: 0.6318 - val_accuracy: 0.6963\n",
            "Epoch 21/30\n",
            "3944/3944 [==============================] - 373s 95ms/step - loss: 0.4218 - accuracy: 0.8009 - val_loss: 0.6327 - val_accuracy: 0.6972\n",
            "Epoch 22/30\n",
            "3944/3944 [==============================] - 374s 95ms/step - loss: 0.4192 - accuracy: 0.8025 - val_loss: 0.6292 - val_accuracy: 0.6964\n",
            "Epoch 23/30\n",
            "3944/3944 [==============================] - 374s 95ms/step - loss: 0.4178 - accuracy: 0.8035 - val_loss: 0.6413 - val_accuracy: 0.6956\n",
            "Epoch 24/30\n",
            "3944/3944 [==============================] - 374s 95ms/step - loss: 0.4159 - accuracy: 0.8048 - val_loss: 0.6389 - val_accuracy: 0.6942\n",
            "Epoch 25/30\n",
            "3944/3944 [==============================] - 376s 95ms/step - loss: 0.4150 - accuracy: 0.8048 - val_loss: 0.6432 - val_accuracy: 0.6940\n",
            "Epoch 26/30\n",
            "3944/3944 [==============================] - 376s 95ms/step - loss: 0.4103 - accuracy: 0.8077 - val_loss: 0.6507 - val_accuracy: 0.6947\n",
            "Epoch 27/30\n",
            "3944/3944 [==============================] - 376s 95ms/step - loss: 0.4098 - accuracy: 0.8085 - val_loss: 0.6420 - val_accuracy: 0.6932\n",
            "Epoch 28/30\n",
            "3944/3944 [==============================] - 376s 95ms/step - loss: 0.4084 - accuracy: 0.8088 - val_loss: 0.6457 - val_accuracy: 0.6945\n",
            "Epoch 29/30\n",
            "3944/3944 [==============================] - 376s 95ms/step - loss: 0.4068 - accuracy: 0.8099 - val_loss: 0.6452 - val_accuracy: 0.6939\n",
            "Epoch 30/30\n",
            "3944/3944 [==============================] - 374s 95ms/step - loss: 0.4061 - accuracy: 0.8102 - val_loss: 0.6533 - val_accuracy: 0.6934\n"
          ],
          "name": "stdout"
        }
      ]
    },
    {
      "cell_type": "code",
      "metadata": {
        "colab": {
          "base_uri": "https://localhost:8080/",
          "height": 281
        },
        "id": "oNlN8R7x5Im4",
        "outputId": "f4cf7eed-5c7d-4b52-db09-398ac425cd7e"
      },
      "source": [
        "plot_loss(history4)"
      ],
      "execution_count": null,
      "outputs": [
        {
          "output_type": "display_data",
          "data": {
            "image/png": "[encoded data removed]",
            "text/plain": [
              "<Figure size 432x288 with 1 Axes>"
            ]
          },
          "metadata": {
            "tags": [],
            "needs_background": "light"
          }
        }
      ]
    },
    {
      "cell_type": "code",
      "metadata": {
        "colab": {
          "base_uri": "https://localhost:8080/",
          "height": 281
        },
        "id": "5HTsEC7M5Qnb",
        "outputId": "4f2d0bb7-b442-4427-b4c4-bc6d00688dd9"
      },
      "source": [
        "plot_accuracy(history4)"
      ],
      "execution_count": null,
      "outputs": [
        {
          "output_type": "display_data",
          "data": {
            "image/png": "[encoded data removed]",
            "text/plain": [
              "<Figure size 432x288 with 1 Axes>"
            ]
          },
          "metadata": {
            "tags": [],
            "needs_background": "light"
          }
        }
      ]
    },
    {
      "cell_type": "code",
      "metadata": {
        "id": "dcFf0sMg5X95"
      },
      "source": [
        "model4.save('/content/drive/MyDrive/' + '4-cleanedcomments<200+subreddits+2layers-30epochs.h5')"
      ],
      "execution_count": null,
      "outputs": []
    },
    {
      "cell_type": "code",
      "metadata": {
        "id": "9TVLBOSPsOC3"
      },
      "source": [
        ""
      ],
      "execution_count": null,
      "outputs": []
    }
  ]
}